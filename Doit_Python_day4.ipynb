{
 "cells": [
  {
   "cell_type": "code",
   "execution_count": 1,
   "id": "6f743d5a-243f-4c8e-99ee-26cf7a1ee2f0",
   "metadata": {},
   "outputs": [],
   "source": [
    "import pandas as pd\n",
    "import numpy as np\n",
    "import os"
   ]
  },
  {
   "cell_type": "code",
   "execution_count": null,
   "id": "9ff3f62b-0f85-4494-b5b3-32bae0ac1eb8",
   "metadata": {},
   "outputs": [],
   "source": [
    "# MacBook\n",
    "os.chdir('/Users/james/Documents/GitHub/Doit_Python/Data')\n",
    "os.getcwd()"
   ]
  },
  {
   "cell_type": "code",
   "execution_count": 4,
   "id": "065776c9-2df2-44a2-83bd-2364353040ac",
   "metadata": {},
   "outputs": [
    {
     "data": {
      "text/plain": [
       "'C:\\\\Users\\\\James\\\\Documents\\\\GitHub\\\\Doit_Python\\\\Data'"
      ]
     },
     "execution_count": 4,
     "metadata": {},
     "output_type": "execute_result"
    }
   ],
   "source": [
    "# Windows\n",
    "os.chdir('C:/Users/James/Documents/GitHub/Doit_Python/Data')\n",
    "os.getcwd()"
   ]
  },
  {
   "cell_type": "markdown",
   "id": "30956c06-a41c-49ac-80dc-1bccf33bbdcb",
   "metadata": {},
   "source": [
    "### p.173 - 혼자서 해보기"
   ]
  },
  {
   "cell_type": "code",
   "execution_count": 8,
   "id": "b5a13be2-0877-426f-a392-204b35e2c46b",
   "metadata": {},
   "outputs": [
    {
     "data": {
      "text/html": [
       "<div>\n",
       "<style scoped>\n",
       "    .dataframe tbody tr th:only-of-type {\n",
       "        vertical-align: middle;\n",
       "    }\n",
       "\n",
       "    .dataframe tbody tr th {\n",
       "        vertical-align: top;\n",
       "    }\n",
       "\n",
       "    .dataframe thead th {\n",
       "        text-align: right;\n",
       "    }\n",
       "</style>\n",
       "<table border=\"1\" class=\"dataframe\">\n",
       "  <thead>\n",
       "    <tr style=\"text-align: right;\">\n",
       "      <th></th>\n",
       "      <th>manufacturer</th>\n",
       "      <th>model</th>\n",
       "      <th>displ</th>\n",
       "      <th>year</th>\n",
       "      <th>cyl</th>\n",
       "      <th>trans</th>\n",
       "      <th>drv</th>\n",
       "      <th>cty</th>\n",
       "      <th>hwy</th>\n",
       "      <th>fl</th>\n",
       "      <th>category</th>\n",
       "    </tr>\n",
       "  </thead>\n",
       "  <tbody>\n",
       "    <tr>\n",
       "      <th>0</th>\n",
       "      <td>audi</td>\n",
       "      <td>a4</td>\n",
       "      <td>1.8</td>\n",
       "      <td>1999</td>\n",
       "      <td>4</td>\n",
       "      <td>auto(l5)</td>\n",
       "      <td>f</td>\n",
       "      <td>18</td>\n",
       "      <td>29</td>\n",
       "      <td>p</td>\n",
       "      <td>compact</td>\n",
       "    </tr>\n",
       "    <tr>\n",
       "      <th>1</th>\n",
       "      <td>audi</td>\n",
       "      <td>a4</td>\n",
       "      <td>1.8</td>\n",
       "      <td>1999</td>\n",
       "      <td>4</td>\n",
       "      <td>manual(m5)</td>\n",
       "      <td>f</td>\n",
       "      <td>21</td>\n",
       "      <td>29</td>\n",
       "      <td>p</td>\n",
       "      <td>compact</td>\n",
       "    </tr>\n",
       "    <tr>\n",
       "      <th>2</th>\n",
       "      <td>audi</td>\n",
       "      <td>a4</td>\n",
       "      <td>2.0</td>\n",
       "      <td>2008</td>\n",
       "      <td>4</td>\n",
       "      <td>manual(m6)</td>\n",
       "      <td>f</td>\n",
       "      <td>20</td>\n",
       "      <td>31</td>\n",
       "      <td>p</td>\n",
       "      <td>compact</td>\n",
       "    </tr>\n",
       "    <tr>\n",
       "      <th>3</th>\n",
       "      <td>audi</td>\n",
       "      <td>a4</td>\n",
       "      <td>2.0</td>\n",
       "      <td>2008</td>\n",
       "      <td>4</td>\n",
       "      <td>auto(av)</td>\n",
       "      <td>f</td>\n",
       "      <td>21</td>\n",
       "      <td>30</td>\n",
       "      <td>p</td>\n",
       "      <td>compact</td>\n",
       "    </tr>\n",
       "    <tr>\n",
       "      <th>4</th>\n",
       "      <td>audi</td>\n",
       "      <td>a4</td>\n",
       "      <td>2.8</td>\n",
       "      <td>1999</td>\n",
       "      <td>6</td>\n",
       "      <td>auto(l5)</td>\n",
       "      <td>f</td>\n",
       "      <td>16</td>\n",
       "      <td>26</td>\n",
       "      <td>p</td>\n",
       "      <td>compact</td>\n",
       "    </tr>\n",
       "  </tbody>\n",
       "</table>\n",
       "</div>"
      ],
      "text/plain": [
       "  manufacturer model  displ  year  cyl       trans drv  cty  hwy fl category\n",
       "0         audi    a4    1.8  1999    4    auto(l5)   f   18   29  p  compact\n",
       "1         audi    a4    1.8  1999    4  manual(m5)   f   21   29  p  compact\n",
       "2         audi    a4    2.0  2008    4  manual(m6)   f   20   31  p  compact\n",
       "3         audi    a4    2.0  2008    4    auto(av)   f   21   30  p  compact\n",
       "4         audi    a4    2.8  1999    6    auto(l5)   f   16   26  p  compact"
      ]
     },
     "execution_count": 8,
     "metadata": {},
     "output_type": "execute_result"
    }
   ],
   "source": [
    "mpg_raw = pd.read_csv('mpg.csv')\n",
    "mpg = mpg_raw.copy()\n",
    "mpg.head()"
   ]
  },
  {
   "cell_type": "code",
   "execution_count": 10,
   "id": "c3abbcc4-948c-4fcb-ad54-19848bc702b4",
   "metadata": {},
   "outputs": [
    {
     "data": {
      "text/plain": [
       "r    168\n",
       "p     52\n",
       "e      8\n",
       "d      5\n",
       "c      1\n",
       "Name: fl, dtype: int64"
      ]
     },
     "execution_count": 10,
     "metadata": {},
     "output_type": "execute_result"
    }
   ],
   "source": [
    "mpg['fl'].value_counts()"
   ]
  },
  {
   "cell_type": "code",
   "execution_count": 12,
   "id": "2cddc9c0-2cde-4ccb-acda-2079a538311c",
   "metadata": {},
   "outputs": [
    {
     "data": {
      "text/html": [
       "<div>\n",
       "<style scoped>\n",
       "    .dataframe tbody tr th:only-of-type {\n",
       "        vertical-align: middle;\n",
       "    }\n",
       "\n",
       "    .dataframe tbody tr th {\n",
       "        vertical-align: top;\n",
       "    }\n",
       "\n",
       "    .dataframe thead th {\n",
       "        text-align: right;\n",
       "    }\n",
       "</style>\n",
       "<table border=\"1\" class=\"dataframe\">\n",
       "  <thead>\n",
       "    <tr style=\"text-align: right;\">\n",
       "      <th></th>\n",
       "      <th>fl</th>\n",
       "      <th>price_fl</th>\n",
       "    </tr>\n",
       "  </thead>\n",
       "  <tbody>\n",
       "    <tr>\n",
       "      <th>0</th>\n",
       "      <td>c</td>\n",
       "      <td>2.35</td>\n",
       "    </tr>\n",
       "    <tr>\n",
       "      <th>1</th>\n",
       "      <td>d</td>\n",
       "      <td>2.38</td>\n",
       "    </tr>\n",
       "    <tr>\n",
       "      <th>2</th>\n",
       "      <td>e</td>\n",
       "      <td>2.11</td>\n",
       "    </tr>\n",
       "    <tr>\n",
       "      <th>3</th>\n",
       "      <td>p</td>\n",
       "      <td>2.76</td>\n",
       "    </tr>\n",
       "    <tr>\n",
       "      <th>4</th>\n",
       "      <td>r</td>\n",
       "      <td>2.22</td>\n",
       "    </tr>\n",
       "  </tbody>\n",
       "</table>\n",
       "</div>"
      ],
      "text/plain": [
       "  fl  price_fl\n",
       "0  c      2.35\n",
       "1  d      2.38\n",
       "2  e      2.11\n",
       "3  p      2.76\n",
       "4  r      2.22"
      ]
     },
     "execution_count": 12,
     "metadata": {},
     "output_type": "execute_result"
    }
   ],
   "source": [
    "fuel = pd.DataFrame({'fl'       : ['c','d','e','p','r'],\n",
    "                     'price_fl' : [2.35, 2.38, 2.11, 2.76, 2.22]})\n",
    "fuel"
   ]
  },
  {
   "cell_type": "code",
   "execution_count": 14,
   "id": "5706f626-71ca-4756-a44d-247f100e82c6",
   "metadata": {},
   "outputs": [
    {
     "data": {
      "text/html": [
       "<div>\n",
       "<style scoped>\n",
       "    .dataframe tbody tr th:only-of-type {\n",
       "        vertical-align: middle;\n",
       "    }\n",
       "\n",
       "    .dataframe tbody tr th {\n",
       "        vertical-align: top;\n",
       "    }\n",
       "\n",
       "    .dataframe thead th {\n",
       "        text-align: right;\n",
       "    }\n",
       "</style>\n",
       "<table border=\"1\" class=\"dataframe\">\n",
       "  <thead>\n",
       "    <tr style=\"text-align: right;\">\n",
       "      <th></th>\n",
       "      <th>manufacturer</th>\n",
       "      <th>model</th>\n",
       "      <th>displ</th>\n",
       "      <th>year</th>\n",
       "      <th>cyl</th>\n",
       "      <th>trans</th>\n",
       "      <th>drv</th>\n",
       "      <th>cty</th>\n",
       "      <th>hwy</th>\n",
       "      <th>fl</th>\n",
       "      <th>category</th>\n",
       "      <th>price_fl</th>\n",
       "    </tr>\n",
       "  </thead>\n",
       "  <tbody>\n",
       "    <tr>\n",
       "      <th>0</th>\n",
       "      <td>audi</td>\n",
       "      <td>a4</td>\n",
       "      <td>1.8</td>\n",
       "      <td>1999</td>\n",
       "      <td>4</td>\n",
       "      <td>auto(l5)</td>\n",
       "      <td>f</td>\n",
       "      <td>18</td>\n",
       "      <td>29</td>\n",
       "      <td>p</td>\n",
       "      <td>compact</td>\n",
       "      <td>2.76</td>\n",
       "    </tr>\n",
       "    <tr>\n",
       "      <th>1</th>\n",
       "      <td>audi</td>\n",
       "      <td>a4</td>\n",
       "      <td>1.8</td>\n",
       "      <td>1999</td>\n",
       "      <td>4</td>\n",
       "      <td>manual(m5)</td>\n",
       "      <td>f</td>\n",
       "      <td>21</td>\n",
       "      <td>29</td>\n",
       "      <td>p</td>\n",
       "      <td>compact</td>\n",
       "      <td>2.76</td>\n",
       "    </tr>\n",
       "    <tr>\n",
       "      <th>2</th>\n",
       "      <td>audi</td>\n",
       "      <td>a4</td>\n",
       "      <td>2.0</td>\n",
       "      <td>2008</td>\n",
       "      <td>4</td>\n",
       "      <td>manual(m6)</td>\n",
       "      <td>f</td>\n",
       "      <td>20</td>\n",
       "      <td>31</td>\n",
       "      <td>p</td>\n",
       "      <td>compact</td>\n",
       "      <td>2.76</td>\n",
       "    </tr>\n",
       "    <tr>\n",
       "      <th>3</th>\n",
       "      <td>audi</td>\n",
       "      <td>a4</td>\n",
       "      <td>2.0</td>\n",
       "      <td>2008</td>\n",
       "      <td>4</td>\n",
       "      <td>auto(av)</td>\n",
       "      <td>f</td>\n",
       "      <td>21</td>\n",
       "      <td>30</td>\n",
       "      <td>p</td>\n",
       "      <td>compact</td>\n",
       "      <td>2.76</td>\n",
       "    </tr>\n",
       "    <tr>\n",
       "      <th>4</th>\n",
       "      <td>audi</td>\n",
       "      <td>a4</td>\n",
       "      <td>2.8</td>\n",
       "      <td>1999</td>\n",
       "      <td>6</td>\n",
       "      <td>auto(l5)</td>\n",
       "      <td>f</td>\n",
       "      <td>16</td>\n",
       "      <td>26</td>\n",
       "      <td>p</td>\n",
       "      <td>compact</td>\n",
       "      <td>2.76</td>\n",
       "    </tr>\n",
       "  </tbody>\n",
       "</table>\n",
       "</div>"
      ],
      "text/plain": [
       "  manufacturer model  displ  year  cyl       trans drv  cty  hwy fl category  \\\n",
       "0         audi    a4    1.8  1999    4    auto(l5)   f   18   29  p  compact   \n",
       "1         audi    a4    1.8  1999    4  manual(m5)   f   21   29  p  compact   \n",
       "2         audi    a4    2.0  2008    4  manual(m6)   f   20   31  p  compact   \n",
       "3         audi    a4    2.0  2008    4    auto(av)   f   21   30  p  compact   \n",
       "4         audi    a4    2.8  1999    6    auto(l5)   f   16   26  p  compact   \n",
       "\n",
       "   price_fl  \n",
       "0      2.76  \n",
       "1      2.76  \n",
       "2      2.76  \n",
       "3      2.76  \n",
       "4      2.76  "
      ]
     },
     "execution_count": 14,
     "metadata": {},
     "output_type": "execute_result"
    }
   ],
   "source": [
    "# Q1\n",
    "mpg_fl = pd.merge(mpg, fuel, how = 'left', on = 'fl')\n",
    "mpg_fl.head()"
   ]
  },
  {
   "cell_type": "code",
   "execution_count": 18,
   "id": "791d41f9-ea21-4744-95bd-d0a2871a298b",
   "metadata": {},
   "outputs": [
    {
     "data": {
      "text/html": [
       "<div>\n",
       "<style scoped>\n",
       "    .dataframe tbody tr th:only-of-type {\n",
       "        vertical-align: middle;\n",
       "    }\n",
       "\n",
       "    .dataframe tbody tr th {\n",
       "        vertical-align: top;\n",
       "    }\n",
       "\n",
       "    .dataframe thead th {\n",
       "        text-align: right;\n",
       "    }\n",
       "</style>\n",
       "<table border=\"1\" class=\"dataframe\">\n",
       "  <thead>\n",
       "    <tr style=\"text-align: right;\">\n",
       "      <th></th>\n",
       "      <th>model</th>\n",
       "      <th>fl</th>\n",
       "      <th>price_fl</th>\n",
       "    </tr>\n",
       "  </thead>\n",
       "  <tbody>\n",
       "    <tr>\n",
       "      <th>0</th>\n",
       "      <td>a4</td>\n",
       "      <td>p</td>\n",
       "      <td>2.76</td>\n",
       "    </tr>\n",
       "    <tr>\n",
       "      <th>1</th>\n",
       "      <td>a4</td>\n",
       "      <td>p</td>\n",
       "      <td>2.76</td>\n",
       "    </tr>\n",
       "    <tr>\n",
       "      <th>2</th>\n",
       "      <td>a4</td>\n",
       "      <td>p</td>\n",
       "      <td>2.76</td>\n",
       "    </tr>\n",
       "    <tr>\n",
       "      <th>3</th>\n",
       "      <td>a4</td>\n",
       "      <td>p</td>\n",
       "      <td>2.76</td>\n",
       "    </tr>\n",
       "    <tr>\n",
       "      <th>4</th>\n",
       "      <td>a4</td>\n",
       "      <td>p</td>\n",
       "      <td>2.76</td>\n",
       "    </tr>\n",
       "  </tbody>\n",
       "</table>\n",
       "</div>"
      ],
      "text/plain": [
       "  model fl  price_fl\n",
       "0    a4  p      2.76\n",
       "1    a4  p      2.76\n",
       "2    a4  p      2.76\n",
       "3    a4  p      2.76\n",
       "4    a4  p      2.76"
      ]
     },
     "execution_count": 18,
     "metadata": {},
     "output_type": "execute_result"
    }
   ],
   "source": [
    "# Q2\n",
    "mpg_fl[['model', 'fl', 'price_fl']].head()"
   ]
  },
  {
   "cell_type": "markdown",
   "id": "7a8260a6-c954-4d06-b163-d88a81630f3b",
   "metadata": {},
   "source": [
    "### p.176 - 분석 도전"
   ]
  },
  {
   "cell_type": "code",
   "execution_count": 19,
   "id": "52b7166b-b8bc-4810-8750-4aa2b2e8dcea",
   "metadata": {},
   "outputs": [
    {
     "data": {
      "text/html": [
       "<div>\n",
       "<style scoped>\n",
       "    .dataframe tbody tr th:only-of-type {\n",
       "        vertical-align: middle;\n",
       "    }\n",
       "\n",
       "    .dataframe tbody tr th {\n",
       "        vertical-align: top;\n",
       "    }\n",
       "\n",
       "    .dataframe thead th {\n",
       "        text-align: right;\n",
       "    }\n",
       "</style>\n",
       "<table border=\"1\" class=\"dataframe\">\n",
       "  <thead>\n",
       "    <tr style=\"text-align: right;\">\n",
       "      <th></th>\n",
       "      <th>PID</th>\n",
       "      <th>county</th>\n",
       "      <th>state</th>\n",
       "      <th>area</th>\n",
       "      <th>poptotal</th>\n",
       "      <th>popdensity</th>\n",
       "      <th>popwhite</th>\n",
       "      <th>popblack</th>\n",
       "      <th>popamerindian</th>\n",
       "      <th>popasian</th>\n",
       "      <th>...</th>\n",
       "      <th>percollege</th>\n",
       "      <th>percprof</th>\n",
       "      <th>poppovertyknown</th>\n",
       "      <th>percpovertyknown</th>\n",
       "      <th>percbelowpoverty</th>\n",
       "      <th>percchildbelowpovert</th>\n",
       "      <th>percadultpoverty</th>\n",
       "      <th>percelderlypoverty</th>\n",
       "      <th>inmetro</th>\n",
       "      <th>category</th>\n",
       "    </tr>\n",
       "  </thead>\n",
       "  <tbody>\n",
       "    <tr>\n",
       "      <th>0</th>\n",
       "      <td>561</td>\n",
       "      <td>ADAMS</td>\n",
       "      <td>IL</td>\n",
       "      <td>0.052</td>\n",
       "      <td>66090</td>\n",
       "      <td>1270.961540</td>\n",
       "      <td>63917</td>\n",
       "      <td>1702</td>\n",
       "      <td>98</td>\n",
       "      <td>249</td>\n",
       "      <td>...</td>\n",
       "      <td>19.631392</td>\n",
       "      <td>4.355859</td>\n",
       "      <td>63628</td>\n",
       "      <td>96.274777</td>\n",
       "      <td>13.151443</td>\n",
       "      <td>18.011717</td>\n",
       "      <td>11.009776</td>\n",
       "      <td>12.443812</td>\n",
       "      <td>0</td>\n",
       "      <td>AAR</td>\n",
       "    </tr>\n",
       "    <tr>\n",
       "      <th>1</th>\n",
       "      <td>562</td>\n",
       "      <td>ALEXANDER</td>\n",
       "      <td>IL</td>\n",
       "      <td>0.014</td>\n",
       "      <td>10626</td>\n",
       "      <td>759.000000</td>\n",
       "      <td>7054</td>\n",
       "      <td>3496</td>\n",
       "      <td>19</td>\n",
       "      <td>48</td>\n",
       "      <td>...</td>\n",
       "      <td>11.243308</td>\n",
       "      <td>2.870315</td>\n",
       "      <td>10529</td>\n",
       "      <td>99.087145</td>\n",
       "      <td>32.244278</td>\n",
       "      <td>45.826514</td>\n",
       "      <td>27.385647</td>\n",
       "      <td>25.228976</td>\n",
       "      <td>0</td>\n",
       "      <td>LHR</td>\n",
       "    </tr>\n",
       "    <tr>\n",
       "      <th>2</th>\n",
       "      <td>563</td>\n",
       "      <td>BOND</td>\n",
       "      <td>IL</td>\n",
       "      <td>0.022</td>\n",
       "      <td>14991</td>\n",
       "      <td>681.409091</td>\n",
       "      <td>14477</td>\n",
       "      <td>429</td>\n",
       "      <td>35</td>\n",
       "      <td>16</td>\n",
       "      <td>...</td>\n",
       "      <td>17.033819</td>\n",
       "      <td>4.488572</td>\n",
       "      <td>14235</td>\n",
       "      <td>94.956974</td>\n",
       "      <td>12.068844</td>\n",
       "      <td>14.036061</td>\n",
       "      <td>10.852090</td>\n",
       "      <td>12.697410</td>\n",
       "      <td>0</td>\n",
       "      <td>AAR</td>\n",
       "    </tr>\n",
       "    <tr>\n",
       "      <th>3</th>\n",
       "      <td>564</td>\n",
       "      <td>BOONE</td>\n",
       "      <td>IL</td>\n",
       "      <td>0.017</td>\n",
       "      <td>30806</td>\n",
       "      <td>1812.117650</td>\n",
       "      <td>29344</td>\n",
       "      <td>127</td>\n",
       "      <td>46</td>\n",
       "      <td>150</td>\n",
       "      <td>...</td>\n",
       "      <td>17.278954</td>\n",
       "      <td>4.197800</td>\n",
       "      <td>30337</td>\n",
       "      <td>98.477569</td>\n",
       "      <td>7.209019</td>\n",
       "      <td>11.179536</td>\n",
       "      <td>5.536013</td>\n",
       "      <td>6.217047</td>\n",
       "      <td>1</td>\n",
       "      <td>ALU</td>\n",
       "    </tr>\n",
       "    <tr>\n",
       "      <th>4</th>\n",
       "      <td>565</td>\n",
       "      <td>BROWN</td>\n",
       "      <td>IL</td>\n",
       "      <td>0.018</td>\n",
       "      <td>5836</td>\n",
       "      <td>324.222222</td>\n",
       "      <td>5264</td>\n",
       "      <td>547</td>\n",
       "      <td>14</td>\n",
       "      <td>5</td>\n",
       "      <td>...</td>\n",
       "      <td>14.475999</td>\n",
       "      <td>3.367680</td>\n",
       "      <td>4815</td>\n",
       "      <td>82.505140</td>\n",
       "      <td>13.520249</td>\n",
       "      <td>13.022889</td>\n",
       "      <td>11.143211</td>\n",
       "      <td>19.200000</td>\n",
       "      <td>0</td>\n",
       "      <td>AAR</td>\n",
       "    </tr>\n",
       "  </tbody>\n",
       "</table>\n",
       "<p>5 rows × 28 columns</p>\n",
       "</div>"
      ],
      "text/plain": [
       "   PID     county state   area  poptotal   popdensity  popwhite  popblack  \\\n",
       "0  561      ADAMS    IL  0.052     66090  1270.961540     63917      1702   \n",
       "1  562  ALEXANDER    IL  0.014     10626   759.000000      7054      3496   \n",
       "2  563       BOND    IL  0.022     14991   681.409091     14477       429   \n",
       "3  564      BOONE    IL  0.017     30806  1812.117650     29344       127   \n",
       "4  565      BROWN    IL  0.018      5836   324.222222      5264       547   \n",
       "\n",
       "   popamerindian  popasian  ...  percollege  percprof  poppovertyknown  \\\n",
       "0             98       249  ...   19.631392  4.355859            63628   \n",
       "1             19        48  ...   11.243308  2.870315            10529   \n",
       "2             35        16  ...   17.033819  4.488572            14235   \n",
       "3             46       150  ...   17.278954  4.197800            30337   \n",
       "4             14         5  ...   14.475999  3.367680             4815   \n",
       "\n",
       "   percpovertyknown  percbelowpoverty  percchildbelowpovert  percadultpoverty  \\\n",
       "0         96.274777         13.151443             18.011717         11.009776   \n",
       "1         99.087145         32.244278             45.826514         27.385647   \n",
       "2         94.956974         12.068844             14.036061         10.852090   \n",
       "3         98.477569          7.209019             11.179536          5.536013   \n",
       "4         82.505140         13.520249             13.022889         11.143211   \n",
       "\n",
       "   percelderlypoverty  inmetro  category  \n",
       "0           12.443812        0       AAR  \n",
       "1           25.228976        0       LHR  \n",
       "2           12.697410        0       AAR  \n",
       "3            6.217047        1       ALU  \n",
       "4           19.200000        0       AAR  \n",
       "\n",
       "[5 rows x 28 columns]"
      ]
     },
     "execution_count": 19,
     "metadata": {},
     "output_type": "execute_result"
    }
   ],
   "source": [
    "midwest_raw = pd.read_csv('midwest.csv')\n",
    "midwest = midwest_raw.copy()\n",
    "midwest.head()"
   ]
  },
  {
   "cell_type": "code",
   "execution_count": 20,
   "id": "9550c6ad-2385-432d-89a2-e9b77338d20e",
   "metadata": {},
   "outputs": [
    {
     "data": {
      "text/plain": [
       "(437, 28)"
      ]
     },
     "execution_count": 20,
     "metadata": {},
     "output_type": "execute_result"
    }
   ],
   "source": [
    "midwest.shape"
   ]
  },
  {
   "cell_type": "code",
   "execution_count": 21,
   "id": "9eecbe43-8232-44ca-81ec-5b69b0304cc2",
   "metadata": {},
   "outputs": [
    {
     "name": "stdout",
     "output_type": "stream",
     "text": [
      "<class 'pandas.core.frame.DataFrame'>\n",
      "RangeIndex: 437 entries, 0 to 436\n",
      "Data columns (total 28 columns):\n",
      " #   Column                Non-Null Count  Dtype  \n",
      "---  ------                --------------  -----  \n",
      " 0   PID                   437 non-null    int64  \n",
      " 1   county                437 non-null    object \n",
      " 2   state                 437 non-null    object \n",
      " 3   area                  437 non-null    float64\n",
      " 4   poptotal              437 non-null    int64  \n",
      " 5   popdensity            437 non-null    float64\n",
      " 6   popwhite              437 non-null    int64  \n",
      " 7   popblack              437 non-null    int64  \n",
      " 8   popamerindian         437 non-null    int64  \n",
      " 9   popasian              437 non-null    int64  \n",
      " 10  popother              437 non-null    int64  \n",
      " 11  percwhite             437 non-null    float64\n",
      " 12  percblack             437 non-null    float64\n",
      " 13  percamerindan         437 non-null    float64\n",
      " 14  percasian             437 non-null    float64\n",
      " 15  percother             437 non-null    float64\n",
      " 16  popadults             437 non-null    int64  \n",
      " 17  perchsd               437 non-null    float64\n",
      " 18  percollege            437 non-null    float64\n",
      " 19  percprof              437 non-null    float64\n",
      " 20  poppovertyknown       437 non-null    int64  \n",
      " 21  percpovertyknown      437 non-null    float64\n",
      " 22  percbelowpoverty      437 non-null    float64\n",
      " 23  percchildbelowpovert  437 non-null    float64\n",
      " 24  percadultpoverty      437 non-null    float64\n",
      " 25  percelderlypoverty    437 non-null    float64\n",
      " 26  inmetro               437 non-null    int64  \n",
      " 27  category              437 non-null    object \n",
      "dtypes: float64(15), int64(10), object(3)\n",
      "memory usage: 95.7+ KB\n"
     ]
    }
   ],
   "source": [
    "midwest.info()"
   ]
  },
  {
   "cell_type": "code",
   "execution_count": 22,
   "id": "276fcbee-3b72-469b-bede-ce54a0a74f11",
   "metadata": {},
   "outputs": [
    {
     "data": {
      "text/html": [
       "<div>\n",
       "<style scoped>\n",
       "    .dataframe tbody tr th:only-of-type {\n",
       "        vertical-align: middle;\n",
       "    }\n",
       "\n",
       "    .dataframe tbody tr th {\n",
       "        vertical-align: top;\n",
       "    }\n",
       "\n",
       "    .dataframe thead th {\n",
       "        text-align: right;\n",
       "    }\n",
       "</style>\n",
       "<table border=\"1\" class=\"dataframe\">\n",
       "  <thead>\n",
       "    <tr style=\"text-align: right;\">\n",
       "      <th></th>\n",
       "      <th>PID</th>\n",
       "      <th>area</th>\n",
       "      <th>poptotal</th>\n",
       "      <th>popdensity</th>\n",
       "      <th>popwhite</th>\n",
       "      <th>popblack</th>\n",
       "      <th>popamerindian</th>\n",
       "      <th>popasian</th>\n",
       "      <th>popother</th>\n",
       "      <th>percwhite</th>\n",
       "      <th>...</th>\n",
       "      <th>perchsd</th>\n",
       "      <th>percollege</th>\n",
       "      <th>percprof</th>\n",
       "      <th>poppovertyknown</th>\n",
       "      <th>percpovertyknown</th>\n",
       "      <th>percbelowpoverty</th>\n",
       "      <th>percchildbelowpovert</th>\n",
       "      <th>percadultpoverty</th>\n",
       "      <th>percelderlypoverty</th>\n",
       "      <th>inmetro</th>\n",
       "    </tr>\n",
       "  </thead>\n",
       "  <tbody>\n",
       "    <tr>\n",
       "      <th>count</th>\n",
       "      <td>437.000000</td>\n",
       "      <td>437.000000</td>\n",
       "      <td>4.370000e+02</td>\n",
       "      <td>437.000000</td>\n",
       "      <td>4.370000e+02</td>\n",
       "      <td>4.370000e+02</td>\n",
       "      <td>437.000000</td>\n",
       "      <td>437.000000</td>\n",
       "      <td>437.000000</td>\n",
       "      <td>437.000000</td>\n",
       "      <td>...</td>\n",
       "      <td>437.000000</td>\n",
       "      <td>437.000000</td>\n",
       "      <td>437.000000</td>\n",
       "      <td>4.370000e+02</td>\n",
       "      <td>437.000000</td>\n",
       "      <td>437.000000</td>\n",
       "      <td>437.000000</td>\n",
       "      <td>437.000000</td>\n",
       "      <td>437.000000</td>\n",
       "      <td>437.000000</td>\n",
       "    </tr>\n",
       "    <tr>\n",
       "      <th>mean</th>\n",
       "      <td>1437.338673</td>\n",
       "      <td>0.033169</td>\n",
       "      <td>9.613030e+04</td>\n",
       "      <td>3097.742985</td>\n",
       "      <td>8.183992e+04</td>\n",
       "      <td>1.102388e+04</td>\n",
       "      <td>343.109840</td>\n",
       "      <td>1310.464531</td>\n",
       "      <td>1612.931350</td>\n",
       "      <td>95.558441</td>\n",
       "      <td>...</td>\n",
       "      <td>73.965546</td>\n",
       "      <td>18.272736</td>\n",
       "      <td>4.447259</td>\n",
       "      <td>9.364228e+04</td>\n",
       "      <td>97.110267</td>\n",
       "      <td>12.510505</td>\n",
       "      <td>16.447464</td>\n",
       "      <td>10.918798</td>\n",
       "      <td>11.389043</td>\n",
       "      <td>0.343249</td>\n",
       "    </tr>\n",
       "    <tr>\n",
       "      <th>std</th>\n",
       "      <td>876.390266</td>\n",
       "      <td>0.014679</td>\n",
       "      <td>2.981705e+05</td>\n",
       "      <td>7664.751786</td>\n",
       "      <td>2.001966e+05</td>\n",
       "      <td>7.895827e+04</td>\n",
       "      <td>868.926751</td>\n",
       "      <td>9518.394189</td>\n",
       "      <td>18526.540699</td>\n",
       "      <td>7.087358</td>\n",
       "      <td>...</td>\n",
       "      <td>5.843177</td>\n",
       "      <td>6.261908</td>\n",
       "      <td>2.408427</td>\n",
       "      <td>2.932351e+05</td>\n",
       "      <td>2.749863</td>\n",
       "      <td>5.150155</td>\n",
       "      <td>7.228634</td>\n",
       "      <td>5.109166</td>\n",
       "      <td>3.661259</td>\n",
       "      <td>0.475338</td>\n",
       "    </tr>\n",
       "    <tr>\n",
       "      <th>min</th>\n",
       "      <td>561.000000</td>\n",
       "      <td>0.005000</td>\n",
       "      <td>1.701000e+03</td>\n",
       "      <td>85.050000</td>\n",
       "      <td>4.160000e+02</td>\n",
       "      <td>0.000000e+00</td>\n",
       "      <td>4.000000</td>\n",
       "      <td>0.000000</td>\n",
       "      <td>0.000000</td>\n",
       "      <td>10.694087</td>\n",
       "      <td>...</td>\n",
       "      <td>46.912261</td>\n",
       "      <td>7.336108</td>\n",
       "      <td>0.520291</td>\n",
       "      <td>1.696000e+03</td>\n",
       "      <td>80.902441</td>\n",
       "      <td>2.180168</td>\n",
       "      <td>1.918955</td>\n",
       "      <td>1.938504</td>\n",
       "      <td>3.547067</td>\n",
       "      <td>0.000000</td>\n",
       "    </tr>\n",
       "    <tr>\n",
       "      <th>25%</th>\n",
       "      <td>670.000000</td>\n",
       "      <td>0.024000</td>\n",
       "      <td>1.884000e+04</td>\n",
       "      <td>622.407407</td>\n",
       "      <td>1.863000e+04</td>\n",
       "      <td>2.900000e+01</td>\n",
       "      <td>44.000000</td>\n",
       "      <td>35.000000</td>\n",
       "      <td>20.000000</td>\n",
       "      <td>94.886032</td>\n",
       "      <td>...</td>\n",
       "      <td>71.325329</td>\n",
       "      <td>14.113725</td>\n",
       "      <td>2.997957</td>\n",
       "      <td>1.836400e+04</td>\n",
       "      <td>96.894572</td>\n",
       "      <td>9.198715</td>\n",
       "      <td>11.624088</td>\n",
       "      <td>7.668009</td>\n",
       "      <td>8.911763</td>\n",
       "      <td>0.000000</td>\n",
       "    </tr>\n",
       "    <tr>\n",
       "      <th>50%</th>\n",
       "      <td>1221.000000</td>\n",
       "      <td>0.030000</td>\n",
       "      <td>3.532400e+04</td>\n",
       "      <td>1156.208330</td>\n",
       "      <td>3.447100e+04</td>\n",
       "      <td>2.010000e+02</td>\n",
       "      <td>94.000000</td>\n",
       "      <td>102.000000</td>\n",
       "      <td>66.000000</td>\n",
       "      <td>98.032742</td>\n",
       "      <td>...</td>\n",
       "      <td>74.246891</td>\n",
       "      <td>16.797562</td>\n",
       "      <td>3.814239</td>\n",
       "      <td>3.378800e+04</td>\n",
       "      <td>98.169562</td>\n",
       "      <td>11.822313</td>\n",
       "      <td>15.270164</td>\n",
       "      <td>10.007610</td>\n",
       "      <td>10.869119</td>\n",
       "      <td>0.000000</td>\n",
       "    </tr>\n",
       "    <tr>\n",
       "      <th>75%</th>\n",
       "      <td>2059.000000</td>\n",
       "      <td>0.038000</td>\n",
       "      <td>7.565100e+04</td>\n",
       "      <td>2330.000000</td>\n",
       "      <td>7.296800e+04</td>\n",
       "      <td>1.291000e+03</td>\n",
       "      <td>288.000000</td>\n",
       "      <td>401.000000</td>\n",
       "      <td>345.000000</td>\n",
       "      <td>99.074935</td>\n",
       "      <td>...</td>\n",
       "      <td>77.195345</td>\n",
       "      <td>20.549893</td>\n",
       "      <td>4.949324</td>\n",
       "      <td>7.284000e+04</td>\n",
       "      <td>98.598636</td>\n",
       "      <td>15.133226</td>\n",
       "      <td>20.351878</td>\n",
       "      <td>13.182182</td>\n",
       "      <td>13.412162</td>\n",
       "      <td>1.000000</td>\n",
       "    </tr>\n",
       "    <tr>\n",
       "      <th>max</th>\n",
       "      <td>3052.000000</td>\n",
       "      <td>0.110000</td>\n",
       "      <td>5.105067e+06</td>\n",
       "      <td>88018.396600</td>\n",
       "      <td>3.204947e+06</td>\n",
       "      <td>1.317147e+06</td>\n",
       "      <td>10289.000000</td>\n",
       "      <td>188565.000000</td>\n",
       "      <td>384119.000000</td>\n",
       "      <td>99.822821</td>\n",
       "      <td>...</td>\n",
       "      <td>88.898674</td>\n",
       "      <td>48.078510</td>\n",
       "      <td>20.791321</td>\n",
       "      <td>5.023523e+06</td>\n",
       "      <td>99.860384</td>\n",
       "      <td>48.691099</td>\n",
       "      <td>64.308477</td>\n",
       "      <td>43.312464</td>\n",
       "      <td>31.161972</td>\n",
       "      <td>1.000000</td>\n",
       "    </tr>\n",
       "  </tbody>\n",
       "</table>\n",
       "<p>8 rows × 25 columns</p>\n",
       "</div>"
      ],
      "text/plain": [
       "               PID        area      poptotal    popdensity      popwhite  \\\n",
       "count   437.000000  437.000000  4.370000e+02    437.000000  4.370000e+02   \n",
       "mean   1437.338673    0.033169  9.613030e+04   3097.742985  8.183992e+04   \n",
       "std     876.390266    0.014679  2.981705e+05   7664.751786  2.001966e+05   \n",
       "min     561.000000    0.005000  1.701000e+03     85.050000  4.160000e+02   \n",
       "25%     670.000000    0.024000  1.884000e+04    622.407407  1.863000e+04   \n",
       "50%    1221.000000    0.030000  3.532400e+04   1156.208330  3.447100e+04   \n",
       "75%    2059.000000    0.038000  7.565100e+04   2330.000000  7.296800e+04   \n",
       "max    3052.000000    0.110000  5.105067e+06  88018.396600  3.204947e+06   \n",
       "\n",
       "           popblack  popamerindian       popasian       popother   percwhite  \\\n",
       "count  4.370000e+02     437.000000     437.000000     437.000000  437.000000   \n",
       "mean   1.102388e+04     343.109840    1310.464531    1612.931350   95.558441   \n",
       "std    7.895827e+04     868.926751    9518.394189   18526.540699    7.087358   \n",
       "min    0.000000e+00       4.000000       0.000000       0.000000   10.694087   \n",
       "25%    2.900000e+01      44.000000      35.000000      20.000000   94.886032   \n",
       "50%    2.010000e+02      94.000000     102.000000      66.000000   98.032742   \n",
       "75%    1.291000e+03     288.000000     401.000000     345.000000   99.074935   \n",
       "max    1.317147e+06   10289.000000  188565.000000  384119.000000   99.822821   \n",
       "\n",
       "       ...     perchsd  percollege    percprof  poppovertyknown  \\\n",
       "count  ...  437.000000  437.000000  437.000000     4.370000e+02   \n",
       "mean   ...   73.965546   18.272736    4.447259     9.364228e+04   \n",
       "std    ...    5.843177    6.261908    2.408427     2.932351e+05   \n",
       "min    ...   46.912261    7.336108    0.520291     1.696000e+03   \n",
       "25%    ...   71.325329   14.113725    2.997957     1.836400e+04   \n",
       "50%    ...   74.246891   16.797562    3.814239     3.378800e+04   \n",
       "75%    ...   77.195345   20.549893    4.949324     7.284000e+04   \n",
       "max    ...   88.898674   48.078510   20.791321     5.023523e+06   \n",
       "\n",
       "       percpovertyknown  percbelowpoverty  percchildbelowpovert  \\\n",
       "count        437.000000        437.000000            437.000000   \n",
       "mean          97.110267         12.510505             16.447464   \n",
       "std            2.749863          5.150155              7.228634   \n",
       "min           80.902441          2.180168              1.918955   \n",
       "25%           96.894572          9.198715             11.624088   \n",
       "50%           98.169562         11.822313             15.270164   \n",
       "75%           98.598636         15.133226             20.351878   \n",
       "max           99.860384         48.691099             64.308477   \n",
       "\n",
       "       percadultpoverty  percelderlypoverty     inmetro  \n",
       "count        437.000000          437.000000  437.000000  \n",
       "mean          10.918798           11.389043    0.343249  \n",
       "std            5.109166            3.661259    0.475338  \n",
       "min            1.938504            3.547067    0.000000  \n",
       "25%            7.668009            8.911763    0.000000  \n",
       "50%           10.007610           10.869119    0.000000  \n",
       "75%           13.182182           13.412162    1.000000  \n",
       "max           43.312464           31.161972    1.000000  \n",
       "\n",
       "[8 rows x 25 columns]"
      ]
     },
     "execution_count": 22,
     "metadata": {},
     "output_type": "execute_result"
    }
   ],
   "source": [
    "midwest.describe()"
   ]
  },
  {
   "cell_type": "code",
   "execution_count": 36,
   "id": "bcfbbc50-5a29-4f6a-8e67-e0c8e53ed1a3",
   "metadata": {},
   "outputs": [
    {
     "data": {
      "text/html": [
       "<div>\n",
       "<style scoped>\n",
       "    .dataframe tbody tr th:only-of-type {\n",
       "        vertical-align: middle;\n",
       "    }\n",
       "\n",
       "    .dataframe tbody tr th {\n",
       "        vertical-align: top;\n",
       "    }\n",
       "\n",
       "    .dataframe thead th {\n",
       "        text-align: right;\n",
       "    }\n",
       "</style>\n",
       "<table border=\"1\" class=\"dataframe\">\n",
       "  <thead>\n",
       "    <tr style=\"text-align: right;\">\n",
       "      <th></th>\n",
       "      <th>poptotal</th>\n",
       "      <th>popadults</th>\n",
       "      <th>popkids</th>\n",
       "      <th>ratio_kids</th>\n",
       "    </tr>\n",
       "  </thead>\n",
       "  <tbody>\n",
       "    <tr>\n",
       "      <th>0</th>\n",
       "      <td>66090</td>\n",
       "      <td>43298</td>\n",
       "      <td>22792</td>\n",
       "      <td>34.486307</td>\n",
       "    </tr>\n",
       "    <tr>\n",
       "      <th>1</th>\n",
       "      <td>10626</td>\n",
       "      <td>6724</td>\n",
       "      <td>3902</td>\n",
       "      <td>36.721250</td>\n",
       "    </tr>\n",
       "    <tr>\n",
       "      <th>2</th>\n",
       "      <td>14991</td>\n",
       "      <td>9669</td>\n",
       "      <td>5322</td>\n",
       "      <td>35.501301</td>\n",
       "    </tr>\n",
       "    <tr>\n",
       "      <th>3</th>\n",
       "      <td>30806</td>\n",
       "      <td>19272</td>\n",
       "      <td>11534</td>\n",
       "      <td>37.440758</td>\n",
       "    </tr>\n",
       "    <tr>\n",
       "      <th>4</th>\n",
       "      <td>5836</td>\n",
       "      <td>3979</td>\n",
       "      <td>1857</td>\n",
       "      <td>31.819740</td>\n",
       "    </tr>\n",
       "  </tbody>\n",
       "</table>\n",
       "</div>"
      ],
      "text/plain": [
       "   poptotal  popadults  popkids  ratio_kids\n",
       "0     66090      43298    22792   34.486307\n",
       "1     10626       6724     3902   36.721250\n",
       "2     14991       9669     5322   35.501301\n",
       "3     30806      19272    11534   37.440758\n",
       "4      5836       3979     1857   31.819740"
      ]
     },
     "execution_count": 36,
     "metadata": {},
     "output_type": "execute_result"
    }
   ],
   "source": [
    "# Q1\n",
    "midwest_new = midwest.assign(popkids    = lambda x: x['poptotal'] - x['popadults'],\n",
    "                             ratio_kids = lambda x: x['popkids'] / x['poptotal'] * 100)\n",
    "midwest_new[['poptotal', 'popadults', 'popkids', 'ratio_kids']].head()"
   ]
  },
  {
   "cell_type": "code",
   "execution_count": 48,
   "id": "cb0d3de3-e305-4331-8407-4ec6783a7409",
   "metadata": {},
   "outputs": [
    {
     "data": {
      "text/html": [
       "<div>\n",
       "<style scoped>\n",
       "    .dataframe tbody tr th:only-of-type {\n",
       "        vertical-align: middle;\n",
       "    }\n",
       "\n",
       "    .dataframe tbody tr th {\n",
       "        vertical-align: top;\n",
       "    }\n",
       "\n",
       "    .dataframe thead th {\n",
       "        text-align: right;\n",
       "    }\n",
       "</style>\n",
       "<table border=\"1\" class=\"dataframe\">\n",
       "  <thead>\n",
       "    <tr style=\"text-align: right;\">\n",
       "      <th></th>\n",
       "      <th>county</th>\n",
       "      <th>ratio_kids</th>\n",
       "    </tr>\n",
       "  </thead>\n",
       "  <tbody>\n",
       "    <tr>\n",
       "      <th>230</th>\n",
       "      <td>ISABELLA</td>\n",
       "      <td>51.501172</td>\n",
       "    </tr>\n",
       "    <tr>\n",
       "      <th>404</th>\n",
       "      <td>MENOMINEE</td>\n",
       "      <td>50.591260</td>\n",
       "    </tr>\n",
       "    <tr>\n",
       "      <th>281</th>\n",
       "      <td>ATHENS</td>\n",
       "      <td>49.320727</td>\n",
       "    </tr>\n",
       "    <tr>\n",
       "      <th>247</th>\n",
       "      <td>MECOSTA</td>\n",
       "      <td>49.059183</td>\n",
       "    </tr>\n",
       "    <tr>\n",
       "      <th>154</th>\n",
       "      <td>MONROE</td>\n",
       "      <td>47.358182</td>\n",
       "    </tr>\n",
       "  </tbody>\n",
       "</table>\n",
       "</div>"
      ],
      "text/plain": [
       "        county  ratio_kids\n",
       "230   ISABELLA   51.501172\n",
       "404  MENOMINEE   50.591260\n",
       "281     ATHENS   49.320727\n",
       "247    MECOSTA   49.059183\n",
       "154     MONROE   47.358182"
      ]
     },
     "execution_count": 48,
     "metadata": {},
     "output_type": "execute_result"
    }
   ],
   "source": [
    "# Q2\n",
    "midwest_new.sort_values('ratio_kids', ascending = False).head()[['county', 'ratio_kids']]"
   ]
  },
  {
   "cell_type": "code",
   "execution_count": 43,
   "id": "a6d44660-4c45-4b45-b9db-99c88b9f846e",
   "metadata": {},
   "outputs": [
    {
     "data": {
      "text/html": [
       "<div>\n",
       "<style scoped>\n",
       "    .dataframe tbody tr th:only-of-type {\n",
       "        vertical-align: middle;\n",
       "    }\n",
       "\n",
       "    .dataframe tbody tr th {\n",
       "        vertical-align: top;\n",
       "    }\n",
       "\n",
       "    .dataframe thead th {\n",
       "        text-align: right;\n",
       "    }\n",
       "</style>\n",
       "<table border=\"1\" class=\"dataframe\">\n",
       "  <thead>\n",
       "    <tr style=\"text-align: right;\">\n",
       "      <th></th>\n",
       "      <th>n_county</th>\n",
       "    </tr>\n",
       "    <tr>\n",
       "      <th>grade</th>\n",
       "      <th></th>\n",
       "    </tr>\n",
       "  </thead>\n",
       "  <tbody>\n",
       "    <tr>\n",
       "      <th>large</th>\n",
       "      <td>32</td>\n",
       "    </tr>\n",
       "    <tr>\n",
       "      <th>middle</th>\n",
       "      <td>396</td>\n",
       "    </tr>\n",
       "    <tr>\n",
       "      <th>small</th>\n",
       "      <td>9</td>\n",
       "    </tr>\n",
       "  </tbody>\n",
       "</table>\n",
       "</div>"
      ],
      "text/plain": [
       "        n_county\n",
       "grade           \n",
       "large         32\n",
       "middle       396\n",
       "small          9"
      ]
     },
     "execution_count": 43,
     "metadata": {},
     "output_type": "execute_result"
    }
   ],
   "source": [
    "# Q3\n",
    "midwest_new.assign(grade = np.where(midwest_new['ratio_kids'] >= 40, 'large',\n",
    "                           np.where(midwest_new['ratio_kids'] >= 30, 'middle', 'small'))) \\\n",
    "           .groupby('grade') \\\n",
    "           .agg(n_county = ('county', 'count'))"
   ]
  },
  {
   "cell_type": "code",
   "execution_count": 46,
   "id": "260ec443-5ab9-42b5-9b74-04688d2bc012",
   "metadata": {},
   "outputs": [
    {
     "data": {
      "text/plain": [
       "grade\n",
       "large      32\n",
       "middle    396\n",
       "small       9\n",
       "dtype: int64"
      ]
     },
     "execution_count": 46,
     "metadata": {},
     "output_type": "execute_result"
    }
   ],
   "source": [
    "# Q3\n",
    "midwest_new.assign(grade = np.where(midwest_new['ratio_kids'] >= 40, 'large',\n",
    "                           np.where(midwest_new['ratio_kids'] >= 30, 'middle', 'small'))) \\\n",
    "           .value_counts('grade') \\\n",
    "           .sort_index()"
   ]
  },
  {
   "cell_type": "code",
   "execution_count": 49,
   "id": "4e59c364-c638-474a-bd75-1fbe057bec31",
   "metadata": {},
   "outputs": [
    {
     "data": {
      "text/html": [
       "<div>\n",
       "<style scoped>\n",
       "    .dataframe tbody tr th:only-of-type {\n",
       "        vertical-align: middle;\n",
       "    }\n",
       "\n",
       "    .dataframe tbody tr th {\n",
       "        vertical-align: top;\n",
       "    }\n",
       "\n",
       "    .dataframe thead th {\n",
       "        text-align: right;\n",
       "    }\n",
       "</style>\n",
       "<table border=\"1\" class=\"dataframe\">\n",
       "  <thead>\n",
       "    <tr style=\"text-align: right;\">\n",
       "      <th></th>\n",
       "      <th>state</th>\n",
       "      <th>county</th>\n",
       "      <th>ratio_asian</th>\n",
       "    </tr>\n",
       "  </thead>\n",
       "  <tbody>\n",
       "    <tr>\n",
       "      <th>404</th>\n",
       "      <td>WI</td>\n",
       "      <td>MENOMINEE</td>\n",
       "      <td>0.000000</td>\n",
       "    </tr>\n",
       "    <tr>\n",
       "      <th>105</th>\n",
       "      <td>IN</td>\n",
       "      <td>BENTON</td>\n",
       "      <td>0.010592</td>\n",
       "    </tr>\n",
       "    <tr>\n",
       "      <th>109</th>\n",
       "      <td>IN</td>\n",
       "      <td>CARROLL</td>\n",
       "      <td>0.015950</td>\n",
       "    </tr>\n",
       "    <tr>\n",
       "      <th>358</th>\n",
       "      <td>OH</td>\n",
       "      <td>VINTON</td>\n",
       "      <td>0.027032</td>\n",
       "    </tr>\n",
       "    <tr>\n",
       "      <th>390</th>\n",
       "      <td>WI</td>\n",
       "      <td>IRON</td>\n",
       "      <td>0.032504</td>\n",
       "    </tr>\n",
       "    <tr>\n",
       "      <th>85</th>\n",
       "      <td>IL</td>\n",
       "      <td>SCOTT</td>\n",
       "      <td>0.053154</td>\n",
       "    </tr>\n",
       "    <tr>\n",
       "      <th>112</th>\n",
       "      <td>IN</td>\n",
       "      <td>CLAY</td>\n",
       "      <td>0.060716</td>\n",
       "    </tr>\n",
       "    <tr>\n",
       "      <th>261</th>\n",
       "      <td>MI</td>\n",
       "      <td>OSCODA</td>\n",
       "      <td>0.063759</td>\n",
       "    </tr>\n",
       "    <tr>\n",
       "      <th>340</th>\n",
       "      <td>OH</td>\n",
       "      <td>PERRY</td>\n",
       "      <td>0.066546</td>\n",
       "    </tr>\n",
       "    <tr>\n",
       "      <th>73</th>\n",
       "      <td>IL</td>\n",
       "      <td>PIATT</td>\n",
       "      <td>0.070749</td>\n",
       "    </tr>\n",
       "  </tbody>\n",
       "</table>\n",
       "</div>"
      ],
      "text/plain": [
       "    state     county  ratio_asian\n",
       "404    WI  MENOMINEE     0.000000\n",
       "105    IN     BENTON     0.010592\n",
       "109    IN    CARROLL     0.015950\n",
       "358    OH     VINTON     0.027032\n",
       "390    WI       IRON     0.032504\n",
       "85     IL      SCOTT     0.053154\n",
       "112    IN       CLAY     0.060716\n",
       "261    MI     OSCODA     0.063759\n",
       "340    OH      PERRY     0.066546\n",
       "73     IL      PIATT     0.070749"
      ]
     },
     "execution_count": 49,
     "metadata": {},
     "output_type": "execute_result"
    }
   ],
   "source": [
    "# Q4\n",
    "midwest.assign(ratio_asian = lambda x: x['popasian'] / x['poptotal'] * 100) \\\n",
    "       .sort_values('ratio_asian') \\\n",
    "       .head(10)[['state', 'county', 'ratio_asian']]"
   ]
  },
  {
   "cell_type": "markdown",
   "id": "b105da2e-c93d-4421-bc32-c7923cc76eef",
   "metadata": {},
   "source": [
    "# 07. 데이터 정제 - 빠진 데이터, 이상한 데이터 제거하기\n",
    "## 07-1. 빠진 데이터를 찾아라! - 결측치 정제하기"
   ]
  },
  {
   "cell_type": "code",
   "execution_count": 51,
   "id": "5502aeb7-5af7-4f5f-a908-f5ef19023d1d",
   "metadata": {},
   "outputs": [
    {
     "data": {
      "text/html": [
       "<div>\n",
       "<style scoped>\n",
       "    .dataframe tbody tr th:only-of-type {\n",
       "        vertical-align: middle;\n",
       "    }\n",
       "\n",
       "    .dataframe tbody tr th {\n",
       "        vertical-align: top;\n",
       "    }\n",
       "\n",
       "    .dataframe thead th {\n",
       "        text-align: right;\n",
       "    }\n",
       "</style>\n",
       "<table border=\"1\" class=\"dataframe\">\n",
       "  <thead>\n",
       "    <tr style=\"text-align: right;\">\n",
       "      <th></th>\n",
       "      <th>sex</th>\n",
       "      <th>score</th>\n",
       "    </tr>\n",
       "  </thead>\n",
       "  <tbody>\n",
       "    <tr>\n",
       "      <th>0</th>\n",
       "      <td>M</td>\n",
       "      <td>5.0</td>\n",
       "    </tr>\n",
       "    <tr>\n",
       "      <th>1</th>\n",
       "      <td>F</td>\n",
       "      <td>4.0</td>\n",
       "    </tr>\n",
       "    <tr>\n",
       "      <th>2</th>\n",
       "      <td>NaN</td>\n",
       "      <td>3.0</td>\n",
       "    </tr>\n",
       "    <tr>\n",
       "      <th>3</th>\n",
       "      <td>M</td>\n",
       "      <td>4.0</td>\n",
       "    </tr>\n",
       "    <tr>\n",
       "      <th>4</th>\n",
       "      <td>F</td>\n",
       "      <td>NaN</td>\n",
       "    </tr>\n",
       "  </tbody>\n",
       "</table>\n",
       "</div>"
      ],
      "text/plain": [
       "   sex  score\n",
       "0    M    5.0\n",
       "1    F    4.0\n",
       "2  NaN    3.0\n",
       "3    M    4.0\n",
       "4    F    NaN"
      ]
     },
     "execution_count": 51,
     "metadata": {},
     "output_type": "execute_result"
    }
   ],
   "source": [
    "df = pd.DataFrame({'sex'   : ['M', 'F', np.nan, 'M', 'F'],\n",
    "                   'score' : [5, 4, 3, 4, np.nan]})\n",
    "df"
   ]
  },
  {
   "cell_type": "code",
   "execution_count": 52,
   "id": "84c75e09-6cc4-42a7-9cf7-4ead5d2a30fc",
   "metadata": {},
   "outputs": [
    {
     "data": {
      "text/plain": [
       "0    6.0\n",
       "1    5.0\n",
       "2    4.0\n",
       "3    5.0\n",
       "4    NaN\n",
       "Name: score, dtype: float64"
      ]
     },
     "execution_count": 52,
     "metadata": {},
     "output_type": "execute_result"
    }
   ],
   "source": [
    "df['score'] + 1"
   ]
  },
  {
   "cell_type": "code",
   "execution_count": 55,
   "id": "17931283-7052-49b5-8df2-806287e11173",
   "metadata": {},
   "outputs": [
    {
     "data": {
      "text/html": [
       "<div>\n",
       "<style scoped>\n",
       "    .dataframe tbody tr th:only-of-type {\n",
       "        vertical-align: middle;\n",
       "    }\n",
       "\n",
       "    .dataframe tbody tr th {\n",
       "        vertical-align: top;\n",
       "    }\n",
       "\n",
       "    .dataframe thead th {\n",
       "        text-align: right;\n",
       "    }\n",
       "</style>\n",
       "<table border=\"1\" class=\"dataframe\">\n",
       "  <thead>\n",
       "    <tr style=\"text-align: right;\">\n",
       "      <th></th>\n",
       "      <th>sex</th>\n",
       "      <th>score</th>\n",
       "    </tr>\n",
       "  </thead>\n",
       "  <tbody>\n",
       "    <tr>\n",
       "      <th>0</th>\n",
       "      <td>False</td>\n",
       "      <td>False</td>\n",
       "    </tr>\n",
       "    <tr>\n",
       "      <th>1</th>\n",
       "      <td>False</td>\n",
       "      <td>False</td>\n",
       "    </tr>\n",
       "    <tr>\n",
       "      <th>2</th>\n",
       "      <td>True</td>\n",
       "      <td>False</td>\n",
       "    </tr>\n",
       "    <tr>\n",
       "      <th>3</th>\n",
       "      <td>False</td>\n",
       "      <td>False</td>\n",
       "    </tr>\n",
       "    <tr>\n",
       "      <th>4</th>\n",
       "      <td>False</td>\n",
       "      <td>True</td>\n",
       "    </tr>\n",
       "  </tbody>\n",
       "</table>\n",
       "</div>"
      ],
      "text/plain": [
       "     sex  score\n",
       "0  False  False\n",
       "1  False  False\n",
       "2   True  False\n",
       "3  False  False\n",
       "4  False   True"
      ]
     },
     "execution_count": 55,
     "metadata": {},
     "output_type": "execute_result"
    }
   ],
   "source": [
    "pd.isna(df)"
   ]
  },
  {
   "cell_type": "code",
   "execution_count": 57,
   "id": "00be99e3-56cd-4eb7-8093-b3fb2de522ae",
   "metadata": {},
   "outputs": [
    {
     "data": {
      "text/plain": [
       "sex      1\n",
       "score    1\n",
       "dtype: int64"
      ]
     },
     "execution_count": 57,
     "metadata": {},
     "output_type": "execute_result"
    }
   ],
   "source": [
    "pd.isna(df).sum()"
   ]
  },
  {
   "cell_type": "code",
   "execution_count": 58,
   "id": "91d0fb29-edd7-4062-a1db-e0b39339e199",
   "metadata": {},
   "outputs": [
    {
     "data": {
      "text/html": [
       "<div>\n",
       "<style scoped>\n",
       "    .dataframe tbody tr th:only-of-type {\n",
       "        vertical-align: middle;\n",
       "    }\n",
       "\n",
       "    .dataframe tbody tr th {\n",
       "        vertical-align: top;\n",
       "    }\n",
       "\n",
       "    .dataframe thead th {\n",
       "        text-align: right;\n",
       "    }\n",
       "</style>\n",
       "<table border=\"1\" class=\"dataframe\">\n",
       "  <thead>\n",
       "    <tr style=\"text-align: right;\">\n",
       "      <th></th>\n",
       "      <th>sex</th>\n",
       "      <th>score</th>\n",
       "    </tr>\n",
       "  </thead>\n",
       "  <tbody>\n",
       "    <tr>\n",
       "      <th>0</th>\n",
       "      <td>M</td>\n",
       "      <td>5.0</td>\n",
       "    </tr>\n",
       "    <tr>\n",
       "      <th>1</th>\n",
       "      <td>F</td>\n",
       "      <td>4.0</td>\n",
       "    </tr>\n",
       "    <tr>\n",
       "      <th>2</th>\n",
       "      <td>NaN</td>\n",
       "      <td>3.0</td>\n",
       "    </tr>\n",
       "    <tr>\n",
       "      <th>3</th>\n",
       "      <td>M</td>\n",
       "      <td>4.0</td>\n",
       "    </tr>\n",
       "  </tbody>\n",
       "</table>\n",
       "</div>"
      ],
      "text/plain": [
       "   sex  score\n",
       "0    M    5.0\n",
       "1    F    4.0\n",
       "2  NaN    3.0\n",
       "3    M    4.0"
      ]
     },
     "execution_count": 58,
     "metadata": {},
     "output_type": "execute_result"
    }
   ],
   "source": [
    "df.dropna(subset = ['score'])"
   ]
  },
  {
   "cell_type": "code",
   "execution_count": 65,
   "id": "5b609c78-d977-401e-a1dd-52e577e9834c",
   "metadata": {},
   "outputs": [
    {
     "data": {
      "text/plain": [
       "0    6.0\n",
       "1    5.0\n",
       "2    4.0\n",
       "3    5.0\n",
       "Name: score, dtype: float64"
      ]
     },
     "execution_count": 65,
     "metadata": {},
     "output_type": "execute_result"
    }
   ],
   "source": [
    "df_nomiss = df.dropna(subset = ['score'])\n",
    "df_nomiss['score'] + 1"
   ]
  },
  {
   "cell_type": "code",
   "execution_count": 66,
   "id": "248de75b-cd68-4e1d-a96b-7aaddc982144",
   "metadata": {},
   "outputs": [
    {
     "data": {
      "text/plain": [
       "sex      1\n",
       "score    0\n",
       "dtype: int64"
      ]
     },
     "execution_count": 66,
     "metadata": {},
     "output_type": "execute_result"
    }
   ],
   "source": [
    "pd.isna(df_nomiss).sum()"
   ]
  },
  {
   "cell_type": "code",
   "execution_count": 67,
   "id": "1af1fade-1a8d-4ae9-a58c-80c89a2e0b5a",
   "metadata": {},
   "outputs": [
    {
     "data": {
      "text/html": [
       "<div>\n",
       "<style scoped>\n",
       "    .dataframe tbody tr th:only-of-type {\n",
       "        vertical-align: middle;\n",
       "    }\n",
       "\n",
       "    .dataframe tbody tr th {\n",
       "        vertical-align: top;\n",
       "    }\n",
       "\n",
       "    .dataframe thead th {\n",
       "        text-align: right;\n",
       "    }\n",
       "</style>\n",
       "<table border=\"1\" class=\"dataframe\">\n",
       "  <thead>\n",
       "    <tr style=\"text-align: right;\">\n",
       "      <th></th>\n",
       "      <th>sex</th>\n",
       "      <th>score</th>\n",
       "    </tr>\n",
       "  </thead>\n",
       "  <tbody>\n",
       "    <tr>\n",
       "      <th>0</th>\n",
       "      <td>M</td>\n",
       "      <td>5.0</td>\n",
       "    </tr>\n",
       "    <tr>\n",
       "      <th>1</th>\n",
       "      <td>F</td>\n",
       "      <td>4.0</td>\n",
       "    </tr>\n",
       "    <tr>\n",
       "      <th>3</th>\n",
       "      <td>M</td>\n",
       "      <td>4.0</td>\n",
       "    </tr>\n",
       "  </tbody>\n",
       "</table>\n",
       "</div>"
      ],
      "text/plain": [
       "  sex  score\n",
       "0   M    5.0\n",
       "1   F    4.0\n",
       "3   M    4.0"
      ]
     },
     "execution_count": 67,
     "metadata": {},
     "output_type": "execute_result"
    }
   ],
   "source": [
    "df_nomiss2 = df.dropna(subset = ['sex', 'score'])\n",
    "df_nomiss2"
   ]
  },
  {
   "cell_type": "code",
   "execution_count": 69,
   "id": "2e0804fd-6426-42e2-ae67-9d133838c8bc",
   "metadata": {},
   "outputs": [
    {
     "data": {
      "text/plain": [
       "sex      0\n",
       "score    0\n",
       "dtype: int64"
      ]
     },
     "execution_count": 69,
     "metadata": {},
     "output_type": "execute_result"
    }
   ],
   "source": [
    "pd.isna(df_nomiss2).sum()"
   ]
  },
  {
   "cell_type": "code",
   "execution_count": 72,
   "id": "2652da64-2c16-4344-b9d6-44aab98b17dc",
   "metadata": {},
   "outputs": [
    {
     "data": {
      "text/html": [
       "<div>\n",
       "<style scoped>\n",
       "    .dataframe tbody tr th:only-of-type {\n",
       "        vertical-align: middle;\n",
       "    }\n",
       "\n",
       "    .dataframe tbody tr th {\n",
       "        vertical-align: top;\n",
       "    }\n",
       "\n",
       "    .dataframe thead th {\n",
       "        text-align: right;\n",
       "    }\n",
       "</style>\n",
       "<table border=\"1\" class=\"dataframe\">\n",
       "  <thead>\n",
       "    <tr style=\"text-align: right;\">\n",
       "      <th></th>\n",
       "      <th>sex</th>\n",
       "      <th>score</th>\n",
       "    </tr>\n",
       "  </thead>\n",
       "  <tbody>\n",
       "    <tr>\n",
       "      <th>0</th>\n",
       "      <td>M</td>\n",
       "      <td>5.0</td>\n",
       "    </tr>\n",
       "    <tr>\n",
       "      <th>1</th>\n",
       "      <td>F</td>\n",
       "      <td>4.0</td>\n",
       "    </tr>\n",
       "    <tr>\n",
       "      <th>3</th>\n",
       "      <td>M</td>\n",
       "      <td>4.0</td>\n",
       "    </tr>\n",
       "  </tbody>\n",
       "</table>\n",
       "</div>"
      ],
      "text/plain": [
       "  sex  score\n",
       "0   M    5.0\n",
       "1   F    4.0\n",
       "3   M    4.0"
      ]
     },
     "execution_count": 72,
     "metadata": {},
     "output_type": "execute_result"
    }
   ],
   "source": [
    "# 아래처럼 결측치를 한 번에 제거하는 방법은 분석에 필요한 행까지 손실되는 단점이 있어 비추함\n",
    "# 따라서, 위와 같이 결측치를 제거하고자 하는 열을 지정해서 열거하는 방법을 권장함\n",
    "# 비추\n",
    "df_nomiss3 = df.dropna()\n",
    "df_nomiss3"
   ]
  },
  {
   "cell_type": "code",
   "execution_count": 73,
   "id": "5d7e385a-18f0-4bd7-a73e-420a64d19125",
   "metadata": {},
   "outputs": [
    {
     "data": {
      "text/plain": [
       "sex      0\n",
       "score    0\n",
       "dtype: int64"
      ]
     },
     "execution_count": 73,
     "metadata": {},
     "output_type": "execute_result"
    }
   ],
   "source": [
    "pd.isna(df_nomiss3).sum()"
   ]
  },
  {
   "cell_type": "code",
   "execution_count": 80,
   "id": "e33c9a5e-5b6f-4c43-8c3f-8f68504edbe5",
   "metadata": {},
   "outputs": [],
   "source": [
    "# 아래의 수치 연산 함수들은 결측치가 있으면 자동으로 제거하고 연산을 수행함\n",
    "# 이 경우. 데이터에 결측치가 있는 지 모른채 분석하는 우를 범하게 됨\n",
    "# 따라서, 데이터의 특징을 잘 이해하고 분석하기 위해서는 df.dropna(subset = ['...'])을 이용해 명시적으로 제거하는 방법을 권장함"
   ]
  },
  {
   "cell_type": "code",
   "execution_count": 77,
   "id": "746be632-2f34-44dd-a77e-a44a16431b4c",
   "metadata": {},
   "outputs": [
    {
     "data": {
      "text/plain": [
       "4.0"
      ]
     },
     "execution_count": 77,
     "metadata": {},
     "output_type": "execute_result"
    }
   ],
   "source": [
    "# 비추\n",
    "df['score'].mean()"
   ]
  },
  {
   "cell_type": "code",
   "execution_count": 78,
   "id": "410e52d6-f3cf-4599-bbd9-d45a5ba3961b",
   "metadata": {},
   "outputs": [
    {
     "data": {
      "text/plain": [
       "16.0"
      ]
     },
     "execution_count": 78,
     "metadata": {},
     "output_type": "execute_result"
    }
   ],
   "source": [
    "# 비추\n",
    "df['score'].sum()"
   ]
  },
  {
   "cell_type": "code",
   "execution_count": 79,
   "id": "5ff95878-0c23-4e8b-8c4a-4ed9f88bb407",
   "metadata": {},
   "outputs": [
    {
     "data": {
      "text/html": [
       "<div>\n",
       "<style scoped>\n",
       "    .dataframe tbody tr th:only-of-type {\n",
       "        vertical-align: middle;\n",
       "    }\n",
       "\n",
       "    .dataframe tbody tr th {\n",
       "        vertical-align: top;\n",
       "    }\n",
       "\n",
       "    .dataframe thead th {\n",
       "        text-align: right;\n",
       "    }\n",
       "</style>\n",
       "<table border=\"1\" class=\"dataframe\">\n",
       "  <thead>\n",
       "    <tr style=\"text-align: right;\">\n",
       "      <th></th>\n",
       "      <th>mean_score</th>\n",
       "      <th>sum_score</th>\n",
       "    </tr>\n",
       "    <tr>\n",
       "      <th>sex</th>\n",
       "      <th></th>\n",
       "      <th></th>\n",
       "    </tr>\n",
       "  </thead>\n",
       "  <tbody>\n",
       "    <tr>\n",
       "      <th>F</th>\n",
       "      <td>4.0</td>\n",
       "      <td>4.0</td>\n",
       "    </tr>\n",
       "    <tr>\n",
       "      <th>M</th>\n",
       "      <td>4.5</td>\n",
       "      <td>9.0</td>\n",
       "    </tr>\n",
       "  </tbody>\n",
       "</table>\n",
       "</div>"
      ],
      "text/plain": [
       "     mean_score  sum_score\n",
       "sex                       \n",
       "F           4.0        4.0\n",
       "M           4.5        9.0"
      ]
     },
     "execution_count": 79,
     "metadata": {},
     "output_type": "execute_result"
    }
   ],
   "source": [
    "# 비추\n",
    "df.groupby('sex').agg(mean_score = ('score', 'mean'),\n",
    "                      sum_score  = ('score', 'sum'))"
   ]
  },
  {
   "cell_type": "markdown",
   "id": "18676169-877a-4327-8968-de9cdb3aa040",
   "metadata": {},
   "source": [
    "### p.183 - 평균값으로 결측치 대체하기"
   ]
  },
  {
   "cell_type": "code",
   "execution_count": 81,
   "id": "fc200006-f816-4d34-93e3-fa05ed22bfd3",
   "metadata": {},
   "outputs": [
    {
     "data": {
      "text/html": [
       "<div>\n",
       "<style scoped>\n",
       "    .dataframe tbody tr th:only-of-type {\n",
       "        vertical-align: middle;\n",
       "    }\n",
       "\n",
       "    .dataframe tbody tr th {\n",
       "        vertical-align: top;\n",
       "    }\n",
       "\n",
       "    .dataframe thead th {\n",
       "        text-align: right;\n",
       "    }\n",
       "</style>\n",
       "<table border=\"1\" class=\"dataframe\">\n",
       "  <thead>\n",
       "    <tr style=\"text-align: right;\">\n",
       "      <th></th>\n",
       "      <th>id</th>\n",
       "      <th>nclass</th>\n",
       "      <th>math</th>\n",
       "      <th>english</th>\n",
       "      <th>science</th>\n",
       "    </tr>\n",
       "  </thead>\n",
       "  <tbody>\n",
       "    <tr>\n",
       "      <th>0</th>\n",
       "      <td>1</td>\n",
       "      <td>1</td>\n",
       "      <td>50</td>\n",
       "      <td>98</td>\n",
       "      <td>50</td>\n",
       "    </tr>\n",
       "    <tr>\n",
       "      <th>1</th>\n",
       "      <td>2</td>\n",
       "      <td>1</td>\n",
       "      <td>60</td>\n",
       "      <td>97</td>\n",
       "      <td>60</td>\n",
       "    </tr>\n",
       "    <tr>\n",
       "      <th>2</th>\n",
       "      <td>3</td>\n",
       "      <td>1</td>\n",
       "      <td>45</td>\n",
       "      <td>86</td>\n",
       "      <td>78</td>\n",
       "    </tr>\n",
       "    <tr>\n",
       "      <th>3</th>\n",
       "      <td>4</td>\n",
       "      <td>1</td>\n",
       "      <td>30</td>\n",
       "      <td>98</td>\n",
       "      <td>58</td>\n",
       "    </tr>\n",
       "    <tr>\n",
       "      <th>4</th>\n",
       "      <td>5</td>\n",
       "      <td>2</td>\n",
       "      <td>25</td>\n",
       "      <td>80</td>\n",
       "      <td>65</td>\n",
       "    </tr>\n",
       "  </tbody>\n",
       "</table>\n",
       "</div>"
      ],
      "text/plain": [
       "   id  nclass  math  english  science\n",
       "0   1       1    50       98       50\n",
       "1   2       1    60       97       60\n",
       "2   3       1    45       86       78\n",
       "3   4       1    30       98       58\n",
       "4   5       2    25       80       65"
      ]
     },
     "execution_count": 81,
     "metadata": {},
     "output_type": "execute_result"
    }
   ],
   "source": [
    "exam_raw = pd.read_csv('exam.csv')\n",
    "exam = exam_raw.copy()\n",
    "exam.head()"
   ]
  },
  {
   "cell_type": "code",
   "execution_count": 91,
   "id": "39e92a4e-47bf-4ec9-b6ba-f445aff72e4f",
   "metadata": {},
   "outputs": [
    {
     "data": {
      "text/plain": [
       "id         0\n",
       "nclass     0\n",
       "math       3\n",
       "english    0\n",
       "science    0\n",
       "dtype: int64"
      ]
     },
     "execution_count": 91,
     "metadata": {},
     "output_type": "execute_result"
    }
   ],
   "source": [
    "exam.loc[[2, 7, 14], ['math']] = np.nan\n",
    "pd.isna(exam).sum()"
   ]
  },
  {
   "cell_type": "code",
   "execution_count": 92,
   "id": "f30ae480-f727-49ec-87a2-021d2db2a2ff",
   "metadata": {},
   "outputs": [
    {
     "data": {
      "text/plain": [
       "3"
      ]
     },
     "execution_count": 92,
     "metadata": {},
     "output_type": "execute_result"
    }
   ],
   "source": [
    "exam['math'].isna().sum()"
   ]
  },
  {
   "cell_type": "code",
   "execution_count": 93,
   "id": "92671dd8-8105-4beb-a768-9a20c1e1f028",
   "metadata": {},
   "outputs": [
    {
     "data": {
      "text/plain": [
       "55.23529411764706"
      ]
     },
     "execution_count": 93,
     "metadata": {},
     "output_type": "execute_result"
    }
   ],
   "source": [
    "exam['math'].mean()"
   ]
  },
  {
   "cell_type": "code",
   "execution_count": 94,
   "id": "1b77436f-edaa-4c90-9ae1-847bffab108f",
   "metadata": {},
   "outputs": [
    {
     "data": {
      "text/plain": [
       "id         0\n",
       "nclass     0\n",
       "math       0\n",
       "english    0\n",
       "science    0\n",
       "dtype: int64"
      ]
     },
     "execution_count": 94,
     "metadata": {},
     "output_type": "execute_result"
    }
   ],
   "source": [
    "exam['math'] = exam['math'].fillna(exam['math'].mean())\n",
    "pd.isna(exam).sum()"
   ]
  },
  {
   "cell_type": "code",
   "execution_count": 95,
   "id": "6185f3d5-f24b-4253-99a8-e70ba47f5216",
   "metadata": {},
   "outputs": [
    {
     "data": {
      "text/plain": [
       "0"
      ]
     },
     "execution_count": 95,
     "metadata": {},
     "output_type": "execute_result"
    }
   ],
   "source": [
    "exam['math'].isna().sum()"
   ]
  },
  {
   "cell_type": "markdown",
   "id": "aebeb8be-bf54-4339-b938-68636942d8c9",
   "metadata": {},
   "source": [
    "### p.185 - 혼자서 해보기"
   ]
  },
  {
   "cell_type": "code",
   "execution_count": 96,
   "id": "6b6607b2-b0dd-454d-beac-6dfc81b9115a",
   "metadata": {},
   "outputs": [
    {
     "data": {
      "text/html": [
       "<div>\n",
       "<style scoped>\n",
       "    .dataframe tbody tr th:only-of-type {\n",
       "        vertical-align: middle;\n",
       "    }\n",
       "\n",
       "    .dataframe tbody tr th {\n",
       "        vertical-align: top;\n",
       "    }\n",
       "\n",
       "    .dataframe thead th {\n",
       "        text-align: right;\n",
       "    }\n",
       "</style>\n",
       "<table border=\"1\" class=\"dataframe\">\n",
       "  <thead>\n",
       "    <tr style=\"text-align: right;\">\n",
       "      <th></th>\n",
       "      <th>manufacturer</th>\n",
       "      <th>model</th>\n",
       "      <th>displ</th>\n",
       "      <th>year</th>\n",
       "      <th>cyl</th>\n",
       "      <th>trans</th>\n",
       "      <th>drv</th>\n",
       "      <th>cty</th>\n",
       "      <th>hwy</th>\n",
       "      <th>fl</th>\n",
       "      <th>category</th>\n",
       "    </tr>\n",
       "  </thead>\n",
       "  <tbody>\n",
       "    <tr>\n",
       "      <th>0</th>\n",
       "      <td>audi</td>\n",
       "      <td>a4</td>\n",
       "      <td>1.8</td>\n",
       "      <td>1999</td>\n",
       "      <td>4</td>\n",
       "      <td>auto(l5)</td>\n",
       "      <td>f</td>\n",
       "      <td>18</td>\n",
       "      <td>29</td>\n",
       "      <td>p</td>\n",
       "      <td>compact</td>\n",
       "    </tr>\n",
       "    <tr>\n",
       "      <th>1</th>\n",
       "      <td>audi</td>\n",
       "      <td>a4</td>\n",
       "      <td>1.8</td>\n",
       "      <td>1999</td>\n",
       "      <td>4</td>\n",
       "      <td>manual(m5)</td>\n",
       "      <td>f</td>\n",
       "      <td>21</td>\n",
       "      <td>29</td>\n",
       "      <td>p</td>\n",
       "      <td>compact</td>\n",
       "    </tr>\n",
       "    <tr>\n",
       "      <th>2</th>\n",
       "      <td>audi</td>\n",
       "      <td>a4</td>\n",
       "      <td>2.0</td>\n",
       "      <td>2008</td>\n",
       "      <td>4</td>\n",
       "      <td>manual(m6)</td>\n",
       "      <td>f</td>\n",
       "      <td>20</td>\n",
       "      <td>31</td>\n",
       "      <td>p</td>\n",
       "      <td>compact</td>\n",
       "    </tr>\n",
       "    <tr>\n",
       "      <th>3</th>\n",
       "      <td>audi</td>\n",
       "      <td>a4</td>\n",
       "      <td>2.0</td>\n",
       "      <td>2008</td>\n",
       "      <td>4</td>\n",
       "      <td>auto(av)</td>\n",
       "      <td>f</td>\n",
       "      <td>21</td>\n",
       "      <td>30</td>\n",
       "      <td>p</td>\n",
       "      <td>compact</td>\n",
       "    </tr>\n",
       "    <tr>\n",
       "      <th>4</th>\n",
       "      <td>audi</td>\n",
       "      <td>a4</td>\n",
       "      <td>2.8</td>\n",
       "      <td>1999</td>\n",
       "      <td>6</td>\n",
       "      <td>auto(l5)</td>\n",
       "      <td>f</td>\n",
       "      <td>16</td>\n",
       "      <td>26</td>\n",
       "      <td>p</td>\n",
       "      <td>compact</td>\n",
       "    </tr>\n",
       "  </tbody>\n",
       "</table>\n",
       "</div>"
      ],
      "text/plain": [
       "  manufacturer model  displ  year  cyl       trans drv  cty  hwy fl category\n",
       "0         audi    a4    1.8  1999    4    auto(l5)   f   18   29  p  compact\n",
       "1         audi    a4    1.8  1999    4  manual(m5)   f   21   29  p  compact\n",
       "2         audi    a4    2.0  2008    4  manual(m6)   f   20   31  p  compact\n",
       "3         audi    a4    2.0  2008    4    auto(av)   f   21   30  p  compact\n",
       "4         audi    a4    2.8  1999    6    auto(l5)   f   16   26  p  compact"
      ]
     },
     "execution_count": 96,
     "metadata": {},
     "output_type": "execute_result"
    }
   ],
   "source": [
    "mpg = mpg_raw.copy()\n",
    "mpg.head()"
   ]
  },
  {
   "cell_type": "code",
   "execution_count": 98,
   "id": "583ee033-a590-4f6c-a882-9e75a52e1f0e",
   "metadata": {},
   "outputs": [
    {
     "data": {
      "text/plain": [
       "5"
      ]
     },
     "execution_count": 98,
     "metadata": {},
     "output_type": "execute_result"
    }
   ],
   "source": [
    "mpg.loc[[64, 123, 130, 152, 211], 'hwy'] = np.nan\n",
    "mpg['hwy'].isna().sum()"
   ]
  },
  {
   "cell_type": "code",
   "execution_count": 101,
   "id": "ee040dc8-2859-43c0-ae52-2064a0551271",
   "metadata": {},
   "outputs": [
    {
     "data": {
      "text/plain": [
       "manufacturer    0\n",
       "model           0\n",
       "displ           0\n",
       "year            0\n",
       "cyl             0\n",
       "trans           0\n",
       "drv             0\n",
       "cty             0\n",
       "hwy             5\n",
       "fl              0\n",
       "category        0\n",
       "dtype: int64"
      ]
     },
     "execution_count": 101,
     "metadata": {},
     "output_type": "execute_result"
    }
   ],
   "source": [
    "# Q1\n",
    "pd.isna(mpg).sum()"
   ]
  },
  {
   "cell_type": "code",
   "execution_count": 102,
   "id": "616967a0-d2e7-4dd5-a6d1-ddbf9a53e23a",
   "metadata": {},
   "outputs": [
    {
     "data": {
      "text/plain": [
       "drv    0\n",
       "hwy    5\n",
       "dtype: int64"
      ]
     },
     "execution_count": 102,
     "metadata": {},
     "output_type": "execute_result"
    }
   ],
   "source": [
    "mpg[['drv', 'hwy']].isna().sum()"
   ]
  },
  {
   "cell_type": "code",
   "execution_count": 103,
   "id": "cce05a83-d37c-423e-8499-437914afda32",
   "metadata": {},
   "outputs": [
    {
     "data": {
      "text/html": [
       "<div>\n",
       "<style scoped>\n",
       "    .dataframe tbody tr th:only-of-type {\n",
       "        vertical-align: middle;\n",
       "    }\n",
       "\n",
       "    .dataframe tbody tr th {\n",
       "        vertical-align: top;\n",
       "    }\n",
       "\n",
       "    .dataframe thead th {\n",
       "        text-align: right;\n",
       "    }\n",
       "</style>\n",
       "<table border=\"1\" class=\"dataframe\">\n",
       "  <thead>\n",
       "    <tr style=\"text-align: right;\">\n",
       "      <th></th>\n",
       "      <th>mean_hwy</th>\n",
       "    </tr>\n",
       "    <tr>\n",
       "      <th>drv</th>\n",
       "      <th></th>\n",
       "    </tr>\n",
       "  </thead>\n",
       "  <tbody>\n",
       "    <tr>\n",
       "      <th>4</th>\n",
       "      <td>19.242424</td>\n",
       "    </tr>\n",
       "    <tr>\n",
       "      <th>f</th>\n",
       "      <td>28.200000</td>\n",
       "    </tr>\n",
       "    <tr>\n",
       "      <th>r</th>\n",
       "      <td>21.000000</td>\n",
       "    </tr>\n",
       "  </tbody>\n",
       "</table>\n",
       "</div>"
      ],
      "text/plain": [
       "      mean_hwy\n",
       "drv           \n",
       "4    19.242424\n",
       "f    28.200000\n",
       "r    21.000000"
      ]
     },
     "execution_count": 103,
     "metadata": {},
     "output_type": "execute_result"
    }
   ],
   "source": [
    "# Q2\n",
    "mpg.dropna(subset = ['hwy']) \\\n",
    "   .groupby('drv') \\\n",
    "   .agg(mean_hwy = ('hwy', 'mean'))"
   ]
  },
  {
   "cell_type": "markdown",
   "id": "0e0bfc66-355a-4f4d-91a1-fa237fcbad6b",
   "metadata": {},
   "source": [
    "## 07-2. 이상한 데이터를 찾아라! - 이상치 정제하기\n",
    "### 이상치 제거하기 - 존재할 수 없는 값"
   ]
  },
  {
   "cell_type": "code",
   "execution_count": 5,
   "id": "36216f8f-a82a-4712-bdfd-10a778281a20",
   "metadata": {},
   "outputs": [
    {
     "data": {
      "text/html": [
       "<div>\n",
       "<style scoped>\n",
       "    .dataframe tbody tr th:only-of-type {\n",
       "        vertical-align: middle;\n",
       "    }\n",
       "\n",
       "    .dataframe tbody tr th {\n",
       "        vertical-align: top;\n",
       "    }\n",
       "\n",
       "    .dataframe thead th {\n",
       "        text-align: right;\n",
       "    }\n",
       "</style>\n",
       "<table border=\"1\" class=\"dataframe\">\n",
       "  <thead>\n",
       "    <tr style=\"text-align: right;\">\n",
       "      <th></th>\n",
       "      <th>sex</th>\n",
       "      <th>score</th>\n",
       "    </tr>\n",
       "  </thead>\n",
       "  <tbody>\n",
       "    <tr>\n",
       "      <th>0</th>\n",
       "      <td>1</td>\n",
       "      <td>5</td>\n",
       "    </tr>\n",
       "    <tr>\n",
       "      <th>1</th>\n",
       "      <td>2</td>\n",
       "      <td>4</td>\n",
       "    </tr>\n",
       "    <tr>\n",
       "      <th>2</th>\n",
       "      <td>1</td>\n",
       "      <td>3</td>\n",
       "    </tr>\n",
       "    <tr>\n",
       "      <th>3</th>\n",
       "      <td>3</td>\n",
       "      <td>4</td>\n",
       "    </tr>\n",
       "    <tr>\n",
       "      <th>4</th>\n",
       "      <td>2</td>\n",
       "      <td>2</td>\n",
       "    </tr>\n",
       "    <tr>\n",
       "      <th>5</th>\n",
       "      <td>1</td>\n",
       "      <td>6</td>\n",
       "    </tr>\n",
       "  </tbody>\n",
       "</table>\n",
       "</div>"
      ],
      "text/plain": [
       "   sex  score\n",
       "0    1      5\n",
       "1    2      4\n",
       "2    1      3\n",
       "3    3      4\n",
       "4    2      2\n",
       "5    1      6"
      ]
     },
     "execution_count": 5,
     "metadata": {},
     "output_type": "execute_result"
    }
   ],
   "source": [
    "df = pd.DataFrame({'sex'   : [1, 2, 1, 3, 2, 1],\n",
    "                   'score' : [5, 4, 3, 4, 2, 6]})\n",
    "df"
   ]
  },
  {
   "cell_type": "code",
   "execution_count": 6,
   "id": "f2a574bd-03de-4a80-aa0b-28083a94f84f",
   "metadata": {},
   "outputs": [
    {
     "data": {
      "text/plain": [
       "1    3\n",
       "2    2\n",
       "3    1\n",
       "Name: sex, dtype: int64"
      ]
     },
     "execution_count": 6,
     "metadata": {},
     "output_type": "execute_result"
    }
   ],
   "source": [
    "df['sex'].value_counts().sort_index()"
   ]
  },
  {
   "cell_type": "code",
   "execution_count": 11,
   "id": "6b1f200a-9010-4d50-b10a-881637ab3199",
   "metadata": {},
   "outputs": [
    {
     "data": {
      "text/html": [
       "<div>\n",
       "<style scoped>\n",
       "    .dataframe tbody tr th:only-of-type {\n",
       "        vertical-align: middle;\n",
       "    }\n",
       "\n",
       "    .dataframe tbody tr th {\n",
       "        vertical-align: top;\n",
       "    }\n",
       "\n",
       "    .dataframe thead th {\n",
       "        text-align: right;\n",
       "    }\n",
       "</style>\n",
       "<table border=\"1\" class=\"dataframe\">\n",
       "  <thead>\n",
       "    <tr style=\"text-align: right;\">\n",
       "      <th></th>\n",
       "      <th>n_score</th>\n",
       "    </tr>\n",
       "    <tr>\n",
       "      <th>score</th>\n",
       "      <th></th>\n",
       "    </tr>\n",
       "  </thead>\n",
       "  <tbody>\n",
       "    <tr>\n",
       "      <th>2</th>\n",
       "      <td>1</td>\n",
       "    </tr>\n",
       "    <tr>\n",
       "      <th>3</th>\n",
       "      <td>1</td>\n",
       "    </tr>\n",
       "    <tr>\n",
       "      <th>4</th>\n",
       "      <td>2</td>\n",
       "    </tr>\n",
       "    <tr>\n",
       "      <th>5</th>\n",
       "      <td>1</td>\n",
       "    </tr>\n",
       "    <tr>\n",
       "      <th>6</th>\n",
       "      <td>1</td>\n",
       "    </tr>\n",
       "  </tbody>\n",
       "</table>\n",
       "</div>"
      ],
      "text/plain": [
       "       n_score\n",
       "score         \n",
       "2            1\n",
       "3            1\n",
       "4            2\n",
       "5            1\n",
       "6            1"
      ]
     },
     "execution_count": 11,
     "metadata": {},
     "output_type": "execute_result"
    }
   ],
   "source": [
    "df.groupby('score').agg(n_score = ('score', 'count'))"
   ]
  },
  {
   "cell_type": "code",
   "execution_count": 16,
   "id": "e3f4472b-309d-444f-b7a9-070c943baebe",
   "metadata": {},
   "outputs": [
    {
     "data": {
      "text/html": [
       "<div>\n",
       "<style scoped>\n",
       "    .dataframe tbody tr th:only-of-type {\n",
       "        vertical-align: middle;\n",
       "    }\n",
       "\n",
       "    .dataframe tbody tr th {\n",
       "        vertical-align: top;\n",
       "    }\n",
       "\n",
       "    .dataframe thead th {\n",
       "        text-align: right;\n",
       "    }\n",
       "</style>\n",
       "<table border=\"1\" class=\"dataframe\">\n",
       "  <thead>\n",
       "    <tr style=\"text-align: right;\">\n",
       "      <th></th>\n",
       "      <th>sex</th>\n",
       "      <th>score</th>\n",
       "    </tr>\n",
       "  </thead>\n",
       "  <tbody>\n",
       "    <tr>\n",
       "      <th>0</th>\n",
       "      <td>1.0</td>\n",
       "      <td>5</td>\n",
       "    </tr>\n",
       "    <tr>\n",
       "      <th>1</th>\n",
       "      <td>2.0</td>\n",
       "      <td>4</td>\n",
       "    </tr>\n",
       "    <tr>\n",
       "      <th>2</th>\n",
       "      <td>1.0</td>\n",
       "      <td>3</td>\n",
       "    </tr>\n",
       "    <tr>\n",
       "      <th>3</th>\n",
       "      <td>NaN</td>\n",
       "      <td>4</td>\n",
       "    </tr>\n",
       "    <tr>\n",
       "      <th>4</th>\n",
       "      <td>2.0</td>\n",
       "      <td>2</td>\n",
       "    </tr>\n",
       "    <tr>\n",
       "      <th>5</th>\n",
       "      <td>1.0</td>\n",
       "      <td>6</td>\n",
       "    </tr>\n",
       "  </tbody>\n",
       "</table>\n",
       "</div>"
      ],
      "text/plain": [
       "   sex  score\n",
       "0  1.0      5\n",
       "1  2.0      4\n",
       "2  1.0      3\n",
       "3  NaN      4\n",
       "4  2.0      2\n",
       "5  1.0      6"
      ]
     },
     "execution_count": 16,
     "metadata": {},
     "output_type": "execute_result"
    }
   ],
   "source": [
    "df['sex'] = np.where(df['sex'] == 3, np.nan, df['sex'])\n",
    "df"
   ]
  },
  {
   "cell_type": "code",
   "execution_count": 17,
   "id": "503321c5-7f0e-4495-bfe5-d9cad3b4458f",
   "metadata": {},
   "outputs": [
    {
     "data": {
      "text/html": [
       "<div>\n",
       "<style scoped>\n",
       "    .dataframe tbody tr th:only-of-type {\n",
       "        vertical-align: middle;\n",
       "    }\n",
       "\n",
       "    .dataframe tbody tr th {\n",
       "        vertical-align: top;\n",
       "    }\n",
       "\n",
       "    .dataframe thead th {\n",
       "        text-align: right;\n",
       "    }\n",
       "</style>\n",
       "<table border=\"1\" class=\"dataframe\">\n",
       "  <thead>\n",
       "    <tr style=\"text-align: right;\">\n",
       "      <th></th>\n",
       "      <th>sex</th>\n",
       "      <th>score</th>\n",
       "    </tr>\n",
       "  </thead>\n",
       "  <tbody>\n",
       "    <tr>\n",
       "      <th>0</th>\n",
       "      <td>1.0</td>\n",
       "      <td>5.0</td>\n",
       "    </tr>\n",
       "    <tr>\n",
       "      <th>1</th>\n",
       "      <td>2.0</td>\n",
       "      <td>4.0</td>\n",
       "    </tr>\n",
       "    <tr>\n",
       "      <th>2</th>\n",
       "      <td>1.0</td>\n",
       "      <td>3.0</td>\n",
       "    </tr>\n",
       "    <tr>\n",
       "      <th>3</th>\n",
       "      <td>NaN</td>\n",
       "      <td>4.0</td>\n",
       "    </tr>\n",
       "    <tr>\n",
       "      <th>4</th>\n",
       "      <td>2.0</td>\n",
       "      <td>2.0</td>\n",
       "    </tr>\n",
       "    <tr>\n",
       "      <th>5</th>\n",
       "      <td>1.0</td>\n",
       "      <td>NaN</td>\n",
       "    </tr>\n",
       "  </tbody>\n",
       "</table>\n",
       "</div>"
      ],
      "text/plain": [
       "   sex  score\n",
       "0  1.0    5.0\n",
       "1  2.0    4.0\n",
       "2  1.0    3.0\n",
       "3  NaN    4.0\n",
       "4  2.0    2.0\n",
       "5  1.0    NaN"
      ]
     },
     "execution_count": 17,
     "metadata": {},
     "output_type": "execute_result"
    }
   ],
   "source": [
    "df['score'] = np.where(df['score'] == 6, np.nan, df['score'])\n",
    "df"
   ]
  },
  {
   "cell_type": "code",
   "execution_count": 19,
   "id": "605827bf-aa16-4216-82ab-0c50c6978ed0",
   "metadata": {},
   "outputs": [
    {
     "data": {
      "text/html": [
       "<div>\n",
       "<style scoped>\n",
       "    .dataframe tbody tr th:only-of-type {\n",
       "        vertical-align: middle;\n",
       "    }\n",
       "\n",
       "    .dataframe tbody tr th {\n",
       "        vertical-align: top;\n",
       "    }\n",
       "\n",
       "    .dataframe thead th {\n",
       "        text-align: right;\n",
       "    }\n",
       "</style>\n",
       "<table border=\"1\" class=\"dataframe\">\n",
       "  <thead>\n",
       "    <tr style=\"text-align: right;\">\n",
       "      <th></th>\n",
       "      <th>mean_score</th>\n",
       "    </tr>\n",
       "    <tr>\n",
       "      <th>sex</th>\n",
       "      <th></th>\n",
       "    </tr>\n",
       "  </thead>\n",
       "  <tbody>\n",
       "    <tr>\n",
       "      <th>1.0</th>\n",
       "      <td>4.0</td>\n",
       "    </tr>\n",
       "    <tr>\n",
       "      <th>2.0</th>\n",
       "      <td>3.0</td>\n",
       "    </tr>\n",
       "  </tbody>\n",
       "</table>\n",
       "</div>"
      ],
      "text/plain": [
       "     mean_score\n",
       "sex            \n",
       "1.0         4.0\n",
       "2.0         3.0"
      ]
     },
     "execution_count": 19,
     "metadata": {},
     "output_type": "execute_result"
    }
   ],
   "source": [
    "df.dropna(subset = ['sex', 'score']) \\\n",
    "  .groupby('sex') \\\n",
    "  .agg(mean_score = ('score', 'mean'))"
   ]
  },
  {
   "cell_type": "code",
   "execution_count": 20,
   "id": "e930b38f-8e26-46f6-8370-8d5c0133888b",
   "metadata": {},
   "outputs": [
    {
     "data": {
      "text/html": [
       "<div>\n",
       "<style scoped>\n",
       "    .dataframe tbody tr th:only-of-type {\n",
       "        vertical-align: middle;\n",
       "    }\n",
       "\n",
       "    .dataframe tbody tr th {\n",
       "        vertical-align: top;\n",
       "    }\n",
       "\n",
       "    .dataframe thead th {\n",
       "        text-align: right;\n",
       "    }\n",
       "</style>\n",
       "<table border=\"1\" class=\"dataframe\">\n",
       "  <thead>\n",
       "    <tr style=\"text-align: right;\">\n",
       "      <th></th>\n",
       "      <th>x1</th>\n",
       "      <th>x2</th>\n",
       "    </tr>\n",
       "  </thead>\n",
       "  <tbody>\n",
       "    <tr>\n",
       "      <th>0</th>\n",
       "      <td>1</td>\n",
       "      <td>a</td>\n",
       "    </tr>\n",
       "    <tr>\n",
       "      <th>1</th>\n",
       "      <td>1</td>\n",
       "      <td>a</td>\n",
       "    </tr>\n",
       "    <tr>\n",
       "      <th>2</th>\n",
       "      <td>2</td>\n",
       "      <td>nan</td>\n",
       "    </tr>\n",
       "    <tr>\n",
       "      <th>3</th>\n",
       "      <td>2</td>\n",
       "      <td>nan</td>\n",
       "    </tr>\n",
       "  </tbody>\n",
       "</table>\n",
       "</div>"
      ],
      "text/plain": [
       "   x1   x2\n",
       "0   1    a\n",
       "1   1    a\n",
       "2   2  nan\n",
       "3   2  nan"
      ]
     },
     "execution_count": 20,
     "metadata": {},
     "output_type": "execute_result"
    }
   ],
   "source": [
    "# np.where() - 문자와 NaN 반환\n",
    "df = pd.DataFrame({'x1' : [1, 1, 2, 2]})\n",
    "df['x2'] = np.where(df['x1'] == 1, 'a', np.nan)\n",
    "df"
   ]
  },
  {
   "cell_type": "code",
   "execution_count": 21,
   "id": "ac02cdd8-79df-4df0-b8a1-b191205fba45",
   "metadata": {},
   "outputs": [
    {
     "data": {
      "text/html": [
       "<div>\n",
       "<style scoped>\n",
       "    .dataframe tbody tr th:only-of-type {\n",
       "        vertical-align: middle;\n",
       "    }\n",
       "\n",
       "    .dataframe tbody tr th {\n",
       "        vertical-align: top;\n",
       "    }\n",
       "\n",
       "    .dataframe thead th {\n",
       "        text-align: right;\n",
       "    }\n",
       "</style>\n",
       "<table border=\"1\" class=\"dataframe\">\n",
       "  <thead>\n",
       "    <tr style=\"text-align: right;\">\n",
       "      <th></th>\n",
       "      <th>x1</th>\n",
       "      <th>x2</th>\n",
       "    </tr>\n",
       "  </thead>\n",
       "  <tbody>\n",
       "    <tr>\n",
       "      <th>0</th>\n",
       "      <td>False</td>\n",
       "      <td>False</td>\n",
       "    </tr>\n",
       "    <tr>\n",
       "      <th>1</th>\n",
       "      <td>False</td>\n",
       "      <td>False</td>\n",
       "    </tr>\n",
       "    <tr>\n",
       "      <th>2</th>\n",
       "      <td>False</td>\n",
       "      <td>False</td>\n",
       "    </tr>\n",
       "    <tr>\n",
       "      <th>3</th>\n",
       "      <td>False</td>\n",
       "      <td>False</td>\n",
       "    </tr>\n",
       "  </tbody>\n",
       "</table>\n",
       "</div>"
      ],
      "text/plain": [
       "      x1     x2\n",
       "0  False  False\n",
       "1  False  False\n",
       "2  False  False\n",
       "3  False  False"
      ]
     },
     "execution_count": 21,
     "metadata": {},
     "output_type": "execute_result"
    }
   ],
   "source": [
    "df.isna()"
   ]
  },
  {
   "cell_type": "code",
   "execution_count": 22,
   "id": "ccb801fb-0781-47d8-806d-e87c0e0f57bf",
   "metadata": {},
   "outputs": [
    {
     "data": {
      "text/html": [
       "<div>\n",
       "<style scoped>\n",
       "    .dataframe tbody tr th:only-of-type {\n",
       "        vertical-align: middle;\n",
       "    }\n",
       "\n",
       "    .dataframe tbody tr th {\n",
       "        vertical-align: top;\n",
       "    }\n",
       "\n",
       "    .dataframe thead th {\n",
       "        text-align: right;\n",
       "    }\n",
       "</style>\n",
       "<table border=\"1\" class=\"dataframe\">\n",
       "  <thead>\n",
       "    <tr style=\"text-align: right;\">\n",
       "      <th></th>\n",
       "      <th>x1</th>\n",
       "      <th>x2</th>\n",
       "    </tr>\n",
       "  </thead>\n",
       "  <tbody>\n",
       "    <tr>\n",
       "      <th>0</th>\n",
       "      <td>1</td>\n",
       "      <td>a</td>\n",
       "    </tr>\n",
       "    <tr>\n",
       "      <th>1</th>\n",
       "      <td>1</td>\n",
       "      <td>a</td>\n",
       "    </tr>\n",
       "    <tr>\n",
       "      <th>2</th>\n",
       "      <td>2</td>\n",
       "      <td>NaN</td>\n",
       "    </tr>\n",
       "    <tr>\n",
       "      <th>3</th>\n",
       "      <td>2</td>\n",
       "      <td>NaN</td>\n",
       "    </tr>\n",
       "  </tbody>\n",
       "</table>\n",
       "</div>"
      ],
      "text/plain": [
       "   x1   x2\n",
       "0   1    a\n",
       "1   1    a\n",
       "2   2  NaN\n",
       "3   2  NaN"
      ]
     },
     "execution_count": 22,
     "metadata": {},
     "output_type": "execute_result"
    }
   ],
   "source": [
    "df['x2'] = np.where(df['x1'] == 1, 'a', 'etc')\n",
    "df['x2'] = df['x2'].replace('etc', np.nan)\n",
    "df"
   ]
  },
  {
   "cell_type": "code",
   "execution_count": 23,
   "id": "5b6ccf59-d52c-4106-a1b3-f5c7aaf097c3",
   "metadata": {},
   "outputs": [
    {
     "data": {
      "text/html": [
       "<div>\n",
       "<style scoped>\n",
       "    .dataframe tbody tr th:only-of-type {\n",
       "        vertical-align: middle;\n",
       "    }\n",
       "\n",
       "    .dataframe tbody tr th {\n",
       "        vertical-align: top;\n",
       "    }\n",
       "\n",
       "    .dataframe thead th {\n",
       "        text-align: right;\n",
       "    }\n",
       "</style>\n",
       "<table border=\"1\" class=\"dataframe\">\n",
       "  <thead>\n",
       "    <tr style=\"text-align: right;\">\n",
       "      <th></th>\n",
       "      <th>x1</th>\n",
       "      <th>x2</th>\n",
       "    </tr>\n",
       "  </thead>\n",
       "  <tbody>\n",
       "    <tr>\n",
       "      <th>0</th>\n",
       "      <td>False</td>\n",
       "      <td>False</td>\n",
       "    </tr>\n",
       "    <tr>\n",
       "      <th>1</th>\n",
       "      <td>False</td>\n",
       "      <td>False</td>\n",
       "    </tr>\n",
       "    <tr>\n",
       "      <th>2</th>\n",
       "      <td>False</td>\n",
       "      <td>True</td>\n",
       "    </tr>\n",
       "    <tr>\n",
       "      <th>3</th>\n",
       "      <td>False</td>\n",
       "      <td>True</td>\n",
       "    </tr>\n",
       "  </tbody>\n",
       "</table>\n",
       "</div>"
      ],
      "text/plain": [
       "      x1     x2\n",
       "0  False  False\n",
       "1  False  False\n",
       "2  False   True\n",
       "3  False   True"
      ]
     },
     "execution_count": 23,
     "metadata": {},
     "output_type": "execute_result"
    }
   ],
   "source": [
    "df.isna()"
   ]
  },
  {
   "cell_type": "markdown",
   "id": "6b5b24c0-801e-461d-947d-88aee63f3f1e",
   "metadata": {},
   "source": [
    "### p.190 - 이상치 제거하기 - 극단적인 값"
   ]
  },
  {
   "cell_type": "code",
   "execution_count": 24,
   "id": "e576a70a-555b-465d-8a27-30a8f63ab362",
   "metadata": {},
   "outputs": [],
   "source": [
    "import seaborn as sns"
   ]
  },
  {
   "cell_type": "code",
   "execution_count": 26,
   "id": "f9b97782-41ed-413f-8f5e-3056bc728434",
   "metadata": {},
   "outputs": [],
   "source": [
    "mpg_raw = pd.read_csv('mpg.csv')\n",
    "mpg = mpg_raw.copy()"
   ]
  },
  {
   "cell_type": "code",
   "execution_count": 27,
   "id": "179e38b4-1255-4c53-a7e1-c2a40b9d3fac",
   "metadata": {},
   "outputs": [
    {
     "data": {
      "text/plain": [
       "<AxesSubplot:ylabel='hwy'>"
      ]
     },
     "execution_count": 27,
     "metadata": {},
     "output_type": "execute_result"
    },
    {
     "data": {
      "image/png": "[encoded data removed]",
      "text/plain": [
       "<Figure size 640x480 with 1 Axes>"
      ]
     },
     "metadata": {},
     "output_type": "display_data"
    }
   ],
   "source": [
    "# 1. 상자 그림 살펴보기\n",
    "sns.boxplot(data = mpg, y = 'hwy')"
   ]
  },
  {
   "cell_type": "code",
   "execution_count": 28,
   "id": "d6ffc7e9-7e44-425c-a4a1-3c907450c5f7",
   "metadata": {},
   "outputs": [
    {
     "data": {
      "text/plain": [
       "count    234.000000\n",
       "mean      23.440171\n",
       "std        5.954643\n",
       "min       12.000000\n",
       "25%       18.000000\n",
       "50%       24.000000\n",
       "75%       27.000000\n",
       "max       44.000000\n",
       "Name: hwy, dtype: float64"
      ]
     },
     "execution_count": 28,
     "metadata": {},
     "output_type": "execute_result"
    }
   ],
   "source": [
    "mpg['hwy'].describe()"
   ]
  },
  {
   "cell_type": "code",
   "execution_count": 30,
   "id": "d56cdb82-3403-47b9-9779-657cf459e0fa",
   "metadata": {},
   "outputs": [
    {
     "data": {
      "text/plain": [
       "18.0"
      ]
     },
     "execution_count": 30,
     "metadata": {},
     "output_type": "execute_result"
    }
   ],
   "source": [
    "# 2. 극단치 기준값 구하기\n",
    "## (1) 1사분위수\n",
    "pct25 = mpg['hwy'].quantile(.25)\n",
    "pct25"
   ]
  },
  {
   "cell_type": "code",
   "execution_count": 31,
   "id": "01e67bd5-d193-459f-a1b1-88c0d4c0a21a",
   "metadata": {},
   "outputs": [
    {
     "data": {
      "text/plain": [
       "27.0"
      ]
     },
     "execution_count": 31,
     "metadata": {},
     "output_type": "execute_result"
    }
   ],
   "source": [
    "## (2) 3사분위수\n",
    "pct75 = mpg['hwy'].quantile(.75)\n",
    "pct75"
   ]
  },
  {
   "cell_type": "code",
   "execution_count": 32,
   "id": "d1308645-784a-41af-b6a7-a1828b25cb2b",
   "metadata": {},
   "outputs": [
    {
     "data": {
      "text/plain": [
       "9.0"
      ]
     },
     "execution_count": 32,
     "metadata": {},
     "output_type": "execute_result"
    }
   ],
   "source": [
    "## (3) IQR\n",
    "iqr = pct75 - pct25\n",
    "iqr"
   ]
  },
  {
   "cell_type": "code",
   "execution_count": 33,
   "id": "ac69cbaa-df97-44d5-adc4-8932fc2f4846",
   "metadata": {},
   "outputs": [
    {
     "data": {
      "text/plain": [
       "4.5"
      ]
     },
     "execution_count": 33,
     "metadata": {},
     "output_type": "execute_result"
    }
   ],
   "source": [
    "## (4) 하한\n",
    "limit_low = pct25 - 1.5*iqr\n",
    "limit_low"
   ]
  },
  {
   "cell_type": "code",
   "execution_count": 34,
   "id": "b50a80bb-3ed2-426f-8690-50bddd778465",
   "metadata": {},
   "outputs": [
    {
     "data": {
      "text/plain": [
       "40.5"
      ]
     },
     "execution_count": 34,
     "metadata": {},
     "output_type": "execute_result"
    }
   ],
   "source": [
    "## (5) 상한\n",
    "limit_high = pct75 + 1.5*iqr\n",
    "limit_high"
   ]
  },
  {
   "cell_type": "code",
   "execution_count": 38,
   "id": "f03639b4-dfd6-496b-a409-0bd5b0220726",
   "metadata": {},
   "outputs": [
    {
     "data": {
      "text/plain": [
       "3"
      ]
     },
     "execution_count": 38,
     "metadata": {},
     "output_type": "execute_result"
    }
   ],
   "source": [
    "# 3. 극단치를 결측 처리하기\n",
    "mpg['hwy'] = np.where((mpg['hwy'] < limit_low) | (mpg['hwy'] > limit_high), np.nan, mpg['hwy'])\n",
    "mpg['hwy'].isna().sum()"
   ]
  },
  {
   "cell_type": "code",
   "execution_count": 39,
   "id": "01914489-da5e-4c24-9233-c846cbe94a3e",
   "metadata": {},
   "outputs": [
    {
     "data": {
      "text/html": [
       "<div>\n",
       "<style scoped>\n",
       "    .dataframe tbody tr th:only-of-type {\n",
       "        vertical-align: middle;\n",
       "    }\n",
       "\n",
       "    .dataframe tbody tr th {\n",
       "        vertical-align: top;\n",
       "    }\n",
       "\n",
       "    .dataframe thead th {\n",
       "        text-align: right;\n",
       "    }\n",
       "</style>\n",
       "<table border=\"1\" class=\"dataframe\">\n",
       "  <thead>\n",
       "    <tr style=\"text-align: right;\">\n",
       "      <th></th>\n",
       "      <th>mean_hwy</th>\n",
       "    </tr>\n",
       "    <tr>\n",
       "      <th>drv</th>\n",
       "      <th></th>\n",
       "    </tr>\n",
       "  </thead>\n",
       "  <tbody>\n",
       "    <tr>\n",
       "      <th>4</th>\n",
       "      <td>19.174757</td>\n",
       "    </tr>\n",
       "    <tr>\n",
       "      <th>f</th>\n",
       "      <td>27.728155</td>\n",
       "    </tr>\n",
       "    <tr>\n",
       "      <th>r</th>\n",
       "      <td>21.000000</td>\n",
       "    </tr>\n",
       "  </tbody>\n",
       "</table>\n",
       "</div>"
      ],
      "text/plain": [
       "      mean_hwy\n",
       "drv           \n",
       "4    19.174757\n",
       "f    27.728155\n",
       "r    21.000000"
      ]
     },
     "execution_count": 39,
     "metadata": {},
     "output_type": "execute_result"
    }
   ],
   "source": [
    "# 4. 결측치 제거하고 분석\n",
    "mpg.dropna(subset = ['hwy']).groupby('drv').agg(mean_hwy = ('hwy', 'mean'))"
   ]
  },
  {
   "cell_type": "markdown",
   "id": "1ca3425f-d5d5-46b0-a314-352a00ad7fff",
   "metadata": {},
   "source": [
    "### p.194 - 혼자서 해보기"
   ]
  },
  {
   "cell_type": "code",
   "execution_count": 40,
   "id": "876be9d1-8ddc-4e0a-9f85-f3345341b0b1",
   "metadata": {},
   "outputs": [
    {
     "data": {
      "text/html": [
       "<div>\n",
       "<style scoped>\n",
       "    .dataframe tbody tr th:only-of-type {\n",
       "        vertical-align: middle;\n",
       "    }\n",
       "\n",
       "    .dataframe tbody tr th {\n",
       "        vertical-align: top;\n",
       "    }\n",
       "\n",
       "    .dataframe thead th {\n",
       "        text-align: right;\n",
       "    }\n",
       "</style>\n",
       "<table border=\"1\" class=\"dataframe\">\n",
       "  <thead>\n",
       "    <tr style=\"text-align: right;\">\n",
       "      <th></th>\n",
       "      <th>manufacturer</th>\n",
       "      <th>model</th>\n",
       "      <th>displ</th>\n",
       "      <th>year</th>\n",
       "      <th>cyl</th>\n",
       "      <th>trans</th>\n",
       "      <th>drv</th>\n",
       "      <th>cty</th>\n",
       "      <th>hwy</th>\n",
       "      <th>fl</th>\n",
       "      <th>category</th>\n",
       "    </tr>\n",
       "  </thead>\n",
       "  <tbody>\n",
       "    <tr>\n",
       "      <th>0</th>\n",
       "      <td>audi</td>\n",
       "      <td>a4</td>\n",
       "      <td>1.8</td>\n",
       "      <td>1999</td>\n",
       "      <td>4</td>\n",
       "      <td>auto(l5)</td>\n",
       "      <td>f</td>\n",
       "      <td>18</td>\n",
       "      <td>29</td>\n",
       "      <td>p</td>\n",
       "      <td>compact</td>\n",
       "    </tr>\n",
       "    <tr>\n",
       "      <th>1</th>\n",
       "      <td>audi</td>\n",
       "      <td>a4</td>\n",
       "      <td>1.8</td>\n",
       "      <td>1999</td>\n",
       "      <td>4</td>\n",
       "      <td>manual(m5)</td>\n",
       "      <td>f</td>\n",
       "      <td>21</td>\n",
       "      <td>29</td>\n",
       "      <td>p</td>\n",
       "      <td>compact</td>\n",
       "    </tr>\n",
       "    <tr>\n",
       "      <th>2</th>\n",
       "      <td>audi</td>\n",
       "      <td>a4</td>\n",
       "      <td>2.0</td>\n",
       "      <td>2008</td>\n",
       "      <td>4</td>\n",
       "      <td>manual(m6)</td>\n",
       "      <td>f</td>\n",
       "      <td>20</td>\n",
       "      <td>31</td>\n",
       "      <td>p</td>\n",
       "      <td>compact</td>\n",
       "    </tr>\n",
       "    <tr>\n",
       "      <th>3</th>\n",
       "      <td>audi</td>\n",
       "      <td>a4</td>\n",
       "      <td>2.0</td>\n",
       "      <td>2008</td>\n",
       "      <td>4</td>\n",
       "      <td>auto(av)</td>\n",
       "      <td>f</td>\n",
       "      <td>21</td>\n",
       "      <td>30</td>\n",
       "      <td>p</td>\n",
       "      <td>compact</td>\n",
       "    </tr>\n",
       "    <tr>\n",
       "      <th>4</th>\n",
       "      <td>audi</td>\n",
       "      <td>a4</td>\n",
       "      <td>2.8</td>\n",
       "      <td>1999</td>\n",
       "      <td>6</td>\n",
       "      <td>auto(l5)</td>\n",
       "      <td>f</td>\n",
       "      <td>16</td>\n",
       "      <td>26</td>\n",
       "      <td>p</td>\n",
       "      <td>compact</td>\n",
       "    </tr>\n",
       "  </tbody>\n",
       "</table>\n",
       "</div>"
      ],
      "text/plain": [
       "  manufacturer model  displ  year  cyl       trans drv  cty  hwy fl category\n",
       "0         audi    a4    1.8  1999    4    auto(l5)   f   18   29  p  compact\n",
       "1         audi    a4    1.8  1999    4  manual(m5)   f   21   29  p  compact\n",
       "2         audi    a4    2.0  2008    4  manual(m6)   f   20   31  p  compact\n",
       "3         audi    a4    2.0  2008    4    auto(av)   f   21   30  p  compact\n",
       "4         audi    a4    2.8  1999    6    auto(l5)   f   16   26  p  compact"
      ]
     },
     "execution_count": 40,
     "metadata": {},
     "output_type": "execute_result"
    }
   ],
   "source": [
    "mpg = mpg_raw.copy()\n",
    "mpg.head()"
   ]
  },
  {
   "cell_type": "code",
   "execution_count": 68,
   "id": "279ab758-96f7-40dc-a8b8-7180b4ad03ee",
   "metadata": {},
   "outputs": [
    {
     "data": {
      "text/plain": [
       "4    100\n",
       "f    106\n",
       "k      4\n",
       "r     24\n",
       "Name: drv, dtype: int64"
      ]
     },
     "execution_count": 68,
     "metadata": {},
     "output_type": "execute_result"
    }
   ],
   "source": [
    "mpg.loc[[9, 13, 57, 92], 'drv'] = 'k'\n",
    "mpg.loc[[28, 42, 128, 202], 'cty'] = [3, 4, 39, 42]\n",
    "mpg['drv'].value_counts().sort_index()"
   ]
  },
  {
   "cell_type": "code",
   "execution_count": 46,
   "id": "5ad361f4-7dfc-4bfe-829f-a897da1a892c",
   "metadata": {},
   "outputs": [
    {
     "data": {
      "text/plain": [
       "drv    0\n",
       "cty    0\n",
       "dtype: int64"
      ]
     },
     "execution_count": 46,
     "metadata": {},
     "output_type": "execute_result"
    }
   ],
   "source": [
    "# Q1\n",
    "# 결측치 유무 확인\n",
    "mpg[['drv', 'cty']].isna().sum()"
   ]
  },
  {
   "cell_type": "code",
   "execution_count": 49,
   "id": "4be72d2d-b459-4697-9b93-b43031f4b235",
   "metadata": {},
   "outputs": [
    {
     "data": {
      "text/plain": [
       "4    100\n",
       "f    106\n",
       "k      4\n",
       "r     24\n",
       "Name: drv, dtype: int64"
      ]
     },
     "execution_count": 49,
     "metadata": {},
     "output_type": "execute_result"
    }
   ],
   "source": [
    "# 이상치 확인\n",
    "mpg['drv'].value_counts().sort_index()"
   ]
  },
  {
   "cell_type": "code",
   "execution_count": 70,
   "id": "bfe002f2-2bc3-480e-a957-0656b334bb88",
   "metadata": {},
   "outputs": [
    {
     "data": {
      "text/plain": [
       "4    100\n",
       "f    106\n",
       "r     24\n",
       "Name: drv, dtype: int64"
      ]
     },
     "execution_count": 70,
     "metadata": {},
     "output_type": "execute_result"
    }
   ],
   "source": [
    "# 이상치를 결측처리\n",
    "mpg['drv'] = np.where(mpg['drv'].isin(['4', 'f', 'r']), mpg['drv'], np.nan)\n",
    "mpg['drv'].value_counts().sort_index()"
   ]
  },
  {
   "cell_type": "code",
   "execution_count": 72,
   "id": "7efcf8d3-39fb-47dd-92ce-5fab1dd0bf60",
   "metadata": {},
   "outputs": [
    {
     "data": {
      "text/plain": [
       "4"
      ]
     },
     "execution_count": 72,
     "metadata": {},
     "output_type": "execute_result"
    }
   ],
   "source": [
    "mpg['drv'].isna().sum()"
   ]
  },
  {
   "cell_type": "code",
   "execution_count": 59,
   "id": "f60be1e8-e65f-47ed-87b0-bf30d24693cb",
   "metadata": {},
   "outputs": [
    {
     "data": {
      "text/plain": [
       "<AxesSubplot:ylabel='cty'>"
      ]
     },
     "execution_count": 59,
     "metadata": {},
     "output_type": "execute_result"
    },
    {
     "data": {
      "image/png": "[encoded data removed]",
      "text/plain": [
       "<Figure size 640x480 with 1 Axes>"
      ]
     },
     "metadata": {},
     "output_type": "display_data"
    }
   ],
   "source": [
    "# Q2\n",
    "# import seaborn as sns\n",
    "sns.boxplot(data = mpg, y = 'cty')"
   ]
  },
  {
   "cell_type": "code",
   "execution_count": 73,
   "id": "5b6a906c-558b-410e-91d5-5e8d777c5970",
   "metadata": {},
   "outputs": [],
   "source": [
    "cty_pct25 = mpg['cty'].quantile(.25)\n",
    "cty_pct75 = mpg['cty'].quantile(.75)\n",
    "cty_iqr = cty_pct75 - cty_pct25"
   ]
  },
  {
   "cell_type": "code",
   "execution_count": 64,
   "id": "a9fc7a5a-bba6-4a6d-8dcc-f41fc454f3bf",
   "metadata": {},
   "outputs": [],
   "source": [
    "cty_lim_low = cty_pct25 - 1.5*cty_iqr\n",
    "cty_lim_high = cty_pct75 + 1.5*cty_iqr"
   ]
  },
  {
   "cell_type": "code",
   "execution_count": 65,
   "id": "fee9b820-136d-4a3e-927a-1c165f04b8e3",
   "metadata": {},
   "outputs": [
    {
     "data": {
      "text/plain": [
       "<AxesSubplot:ylabel='cty'>"
      ]
     },
     "execution_count": 65,
     "metadata": {},
     "output_type": "execute_result"
    },
    {
     "data": {
      "image/png": "[encoded data removed]",
      "text/plain": [
       "<Figure size 640x480 with 1 Axes>"
      ]
     },
     "metadata": {},
     "output_type": "display_data"
    }
   ],
   "source": [
    "mpg['cty'] = np.where((mpg['cty'] < cty_lim_low) | (mpg['cty'] > cty_lim_high), np.nan, mpg['cty'])\n",
    "sns.boxplot(data = mpg, y = 'cty')"
   ]
  },
  {
   "cell_type": "code",
   "execution_count": 67,
   "id": "4979f0ec-6a74-49bf-a9ae-d927233fc245",
   "metadata": {},
   "outputs": [
    {
     "data": {
      "text/html": [
       "<div>\n",
       "<style scoped>\n",
       "    .dataframe tbody tr th:only-of-type {\n",
       "        vertical-align: middle;\n",
       "    }\n",
       "\n",
       "    .dataframe tbody tr th {\n",
       "        vertical-align: top;\n",
       "    }\n",
       "\n",
       "    .dataframe thead th {\n",
       "        text-align: right;\n",
       "    }\n",
       "</style>\n",
       "<table border=\"1\" class=\"dataframe\">\n",
       "  <thead>\n",
       "    <tr style=\"text-align: right;\">\n",
       "      <th></th>\n",
       "      <th>mean_cty</th>\n",
       "    </tr>\n",
       "    <tr>\n",
       "      <th>drv</th>\n",
       "      <th></th>\n",
       "    </tr>\n",
       "  </thead>\n",
       "  <tbody>\n",
       "    <tr>\n",
       "      <th>4</th>\n",
       "      <td>14.247423</td>\n",
       "    </tr>\n",
       "    <tr>\n",
       "      <th>f</th>\n",
       "      <td>19.470000</td>\n",
       "    </tr>\n",
       "    <tr>\n",
       "      <th>r</th>\n",
       "      <td>13.958333</td>\n",
       "    </tr>\n",
       "  </tbody>\n",
       "</table>\n",
       "</div>"
      ],
      "text/plain": [
       "      mean_cty\n",
       "drv           \n",
       "4    14.247423\n",
       "f    19.470000\n",
       "r    13.958333"
      ]
     },
     "execution_count": 67,
     "metadata": {},
     "output_type": "execute_result"
    }
   ],
   "source": [
    "# Q3\n",
    "mpg.dropna(subset = ['drv', 'cty']).groupby('drv').agg(mean_cty = ('cty', 'mean'))"
   ]
  },
  {
   "cell_type": "code",
   "execution_count": null,
   "id": "d1403ea7-e3ab-419b-a8a1-c6040db439a0",
   "metadata": {},
   "outputs": [],
   "source": []
  }
 ],
 "metadata": {
  "kernelspec": {
   "display_name": "Python 3 (ipykernel)",
   "language": "python",
   "name": "python3"
  },
  "language_info": {
   "codemirror_mode": {
    "name": "ipython",
    "version": 3
   },
   "file_extension": ".py",
   "mimetype": "text/x-python",
   "name": "python",
   "nbconvert_exporter": "python",
   "pygments_lexer": "ipython3",
   "version": "3.9.13"
  }
 },
 "nbformat": 4,
 "nbformat_minor": 5
}
