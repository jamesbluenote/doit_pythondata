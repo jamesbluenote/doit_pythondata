{
 "cells": [
  {
   "cell_type": "markdown",
   "id": "6146e576-225d-4121-9e84-e4bf4d036350",
   "metadata": {},
   "source": [
    "# 15. 머신러닝을 이용한 에측분석\n",
    "## 15-1. 머신러닝 모델 알아보기\n",
    "## 15-2. 소득 예측 모델 만들기"
   ]
  },
  {
   "cell_type": "code",
   "execution_count": 2,
   "id": "8209a86f-6da4-4d10-9421-a4b9f195201a",
   "metadata": {},
   "outputs": [],
   "source": [
    "import pandas as pd\n",
    "import numpy as np\n",
    "import matplotlib.pyplot as plt\n",
    "import seaborn as sns\n",
    "import PIL\n",
    "from scipy import stats\n",
    "from sklearn import tree\n",
    "from sklearn.model_selection import train_test_split\n",
    "from sklearn.metrics import confusion_matrix\n",
    "from sklearn.metrics import ConfusionMatrixDisplay\n",
    "import os"
   ]
  },
  {
   "cell_type": "code",
   "execution_count": 3,
   "id": "59a27bd4-54c6-4800-bbda-8bc576c1e404",
   "metadata": {},
   "outputs": [
    {
     "data": {
      "text/plain": [
       "'C:\\\\Users\\\\user\\\\Documents\\\\GitHub\\\\Doit_Python\\\\Data'"
      ]
     },
     "execution_count": 3,
     "metadata": {},
     "output_type": "execute_result"
    }
   ],
   "source": [
    "os.chdir('C:\\\\Users\\\\user\\\\Documents\\\\GitHub\\\\Doit_Python\\\\Data')\n",
    "os.getcwd()"
   ]
  },
  {
   "cell_type": "code",
   "execution_count": 4,
   "id": "8e6a20fa-debf-4c79-b324-856c51fccef1",
   "metadata": {},
   "outputs": [
    {
     "name": "stdout",
     "output_type": "stream",
     "text": [
      "<class 'pandas.core.frame.DataFrame'>\n",
      "RangeIndex: 48842 entries, 0 to 48841\n",
      "Data columns (total 15 columns):\n",
      " #   Column          Non-Null Count  Dtype \n",
      "---  ------          --------------  ----- \n",
      " 0   age             48842 non-null  int64 \n",
      " 1   workclass       48842 non-null  object\n",
      " 2   fnlwgt          48842 non-null  int64 \n",
      " 3   education       48842 non-null  object\n",
      " 4   education_num   48842 non-null  int64 \n",
      " 5   marital_status  48842 non-null  object\n",
      " 6   occupation      48842 non-null  object\n",
      " 7   relationship    48842 non-null  object\n",
      " 8   race            48842 non-null  object\n",
      " 9   sex             48842 non-null  object\n",
      " 10  capital_gain    48842 non-null  int64 \n",
      " 11  capital_loss    48842 non-null  int64 \n",
      " 12  hours_per_week  48842 non-null  int64 \n",
      " 13  native_country  48842 non-null  object\n",
      " 14  income          48842 non-null  object\n",
      "dtypes: int64(6), object(9)\n",
      "memory usage: 5.6+ MB\n"
     ]
    }
   ],
   "source": [
    "df_raw = pd.read_csv('adult.csv')\n",
    "df = df_raw.copy()\n",
    "df.info()"
   ]
  },
  {
   "cell_type": "code",
   "execution_count": 5,
   "id": "ee67f37b-bc21-41ce-a609-5478429ab62d",
   "metadata": {},
   "outputs": [
    {
     "data": {
      "text/plain": [
       "(48842, 15)"
      ]
     },
     "execution_count": 5,
     "metadata": {},
     "output_type": "execute_result"
    }
   ],
   "source": [
    "df.shape"
   ]
  },
  {
   "cell_type": "code",
   "execution_count": 6,
   "id": "c7249589-4354-44d6-acfb-b9e664bfbe30",
   "metadata": {},
   "outputs": [
    {
     "data": {
      "text/html": [
       "<div>\n",
       "<style scoped>\n",
       "    .dataframe tbody tr th:only-of-type {\n",
       "        vertical-align: middle;\n",
       "    }\n",
       "\n",
       "    .dataframe tbody tr th {\n",
       "        vertical-align: top;\n",
       "    }\n",
       "\n",
       "    .dataframe thead th {\n",
       "        text-align: right;\n",
       "    }\n",
       "</style>\n",
       "<table border=\"1\" class=\"dataframe\">\n",
       "  <thead>\n",
       "    <tr style=\"text-align: right;\">\n",
       "      <th></th>\n",
       "      <th>age</th>\n",
       "      <th>workclass</th>\n",
       "      <th>fnlwgt</th>\n",
       "      <th>education</th>\n",
       "      <th>education_num</th>\n",
       "      <th>marital_status</th>\n",
       "      <th>occupation</th>\n",
       "      <th>relationship</th>\n",
       "      <th>race</th>\n",
       "      <th>sex</th>\n",
       "      <th>capital_gain</th>\n",
       "      <th>capital_loss</th>\n",
       "      <th>hours_per_week</th>\n",
       "      <th>native_country</th>\n",
       "      <th>income</th>\n",
       "    </tr>\n",
       "  </thead>\n",
       "  <tbody>\n",
       "    <tr>\n",
       "      <th>0</th>\n",
       "      <td>25</td>\n",
       "      <td>Private</td>\n",
       "      <td>226802</td>\n",
       "      <td>11th</td>\n",
       "      <td>7</td>\n",
       "      <td>Never-married</td>\n",
       "      <td>Machine-op-inspct</td>\n",
       "      <td>Own-child</td>\n",
       "      <td>Black</td>\n",
       "      <td>Male</td>\n",
       "      <td>0</td>\n",
       "      <td>0</td>\n",
       "      <td>40</td>\n",
       "      <td>United-States</td>\n",
       "      <td>&lt;=50K</td>\n",
       "    </tr>\n",
       "    <tr>\n",
       "      <th>1</th>\n",
       "      <td>38</td>\n",
       "      <td>Private</td>\n",
       "      <td>89814</td>\n",
       "      <td>HS-grad</td>\n",
       "      <td>9</td>\n",
       "      <td>Married-civ-spouse</td>\n",
       "      <td>Farming-fishing</td>\n",
       "      <td>Husband</td>\n",
       "      <td>White</td>\n",
       "      <td>Male</td>\n",
       "      <td>0</td>\n",
       "      <td>0</td>\n",
       "      <td>50</td>\n",
       "      <td>United-States</td>\n",
       "      <td>&lt;=50K</td>\n",
       "    </tr>\n",
       "    <tr>\n",
       "      <th>2</th>\n",
       "      <td>28</td>\n",
       "      <td>Local-gov</td>\n",
       "      <td>336951</td>\n",
       "      <td>Assoc-acdm</td>\n",
       "      <td>12</td>\n",
       "      <td>Married-civ-spouse</td>\n",
       "      <td>Protective-serv</td>\n",
       "      <td>Husband</td>\n",
       "      <td>White</td>\n",
       "      <td>Male</td>\n",
       "      <td>0</td>\n",
       "      <td>0</td>\n",
       "      <td>40</td>\n",
       "      <td>United-States</td>\n",
       "      <td>&gt;50K</td>\n",
       "    </tr>\n",
       "    <tr>\n",
       "      <th>3</th>\n",
       "      <td>44</td>\n",
       "      <td>Private</td>\n",
       "      <td>160323</td>\n",
       "      <td>Some-college</td>\n",
       "      <td>10</td>\n",
       "      <td>Married-civ-spouse</td>\n",
       "      <td>Machine-op-inspct</td>\n",
       "      <td>Husband</td>\n",
       "      <td>Black</td>\n",
       "      <td>Male</td>\n",
       "      <td>7688</td>\n",
       "      <td>0</td>\n",
       "      <td>40</td>\n",
       "      <td>United-States</td>\n",
       "      <td>&gt;50K</td>\n",
       "    </tr>\n",
       "    <tr>\n",
       "      <th>4</th>\n",
       "      <td>18</td>\n",
       "      <td>?</td>\n",
       "      <td>103497</td>\n",
       "      <td>Some-college</td>\n",
       "      <td>10</td>\n",
       "      <td>Never-married</td>\n",
       "      <td>?</td>\n",
       "      <td>Own-child</td>\n",
       "      <td>White</td>\n",
       "      <td>Female</td>\n",
       "      <td>0</td>\n",
       "      <td>0</td>\n",
       "      <td>30</td>\n",
       "      <td>United-States</td>\n",
       "      <td>&lt;=50K</td>\n",
       "    </tr>\n",
       "  </tbody>\n",
       "</table>\n",
       "</div>"
      ],
      "text/plain": [
       "   age  workclass  fnlwgt     education  education_num      marital_status  \\\n",
       "0   25    Private  226802          11th              7       Never-married   \n",
       "1   38    Private   89814       HS-grad              9  Married-civ-spouse   \n",
       "2   28  Local-gov  336951    Assoc-acdm             12  Married-civ-spouse   \n",
       "3   44    Private  160323  Some-college             10  Married-civ-spouse   \n",
       "4   18          ?  103497  Some-college             10       Never-married   \n",
       "\n",
       "          occupation relationship   race     sex  capital_gain  capital_loss  \\\n",
       "0  Machine-op-inspct    Own-child  Black    Male             0             0   \n",
       "1    Farming-fishing      Husband  White    Male             0             0   \n",
       "2    Protective-serv      Husband  White    Male             0             0   \n",
       "3  Machine-op-inspct      Husband  Black    Male          7688             0   \n",
       "4                  ?    Own-child  White  Female             0             0   \n",
       "\n",
       "   hours_per_week native_country income  \n",
       "0              40  United-States  <=50K  \n",
       "1              50  United-States  <=50K  \n",
       "2              40  United-States   >50K  \n",
       "3              40  United-States   >50K  \n",
       "4              30  United-States  <=50K  "
      ]
     },
     "execution_count": 6,
     "metadata": {},
     "output_type": "execute_result"
    }
   ],
   "source": [
    "df.head()"
   ]
  },
  {
   "cell_type": "markdown",
   "id": "3924c053-e95c-40bd-90a8-1fdc9cc1bbd4",
   "metadata": {},
   "source": [
    "### (p.356) 전처리"
   ]
  },
  {
   "cell_type": "markdown",
   "id": "9e43abc9-0dbc-4c78-bb53-67330f241276",
   "metadata": {},
   "source": [
    "#### 1. 타겟 변수 전처리"
   ]
  },
  {
   "cell_type": "code",
   "execution_count": 7,
   "id": "2e648a55-f14e-4c1f-9f67-27ccb7550267",
   "metadata": {},
   "outputs": [
    {
     "data": {
      "text/plain": [
       "array(['<=50K', '>50K'], dtype=object)"
      ]
     },
     "execution_count": 7,
     "metadata": {},
     "output_type": "execute_result"
    }
   ],
   "source": [
    "df['income'].unique()"
   ]
  },
  {
   "cell_type": "code",
   "execution_count": 8,
   "id": "a042d44a-719c-4a6b-bdc7-447a4f33c633",
   "metadata": {},
   "outputs": [
    {
     "data": {
      "text/plain": [
       "<=50K    37155\n",
       ">50K     11687\n",
       "Name: income, dtype: int64"
      ]
     },
     "execution_count": 8,
     "metadata": {},
     "output_type": "execute_result"
    }
   ],
   "source": [
    "df['income'].value_counts()"
   ]
  },
  {
   "cell_type": "code",
   "execution_count": 9,
   "id": "4080dde7-7f3f-48ef-8e55-97d3a86036f7",
   "metadata": {},
   "outputs": [
    {
     "data": {
      "text/plain": [
       "<=50K    0.76\n",
       ">50K     0.24\n",
       "Name: income, dtype: float64"
      ]
     },
     "execution_count": 9,
     "metadata": {},
     "output_type": "execute_result"
    }
   ],
   "source": [
    "round(df['income'].value_counts(normalize = True), 2)"
   ]
  },
  {
   "cell_type": "code",
   "execution_count": 10,
   "id": "33628d9a-5119-43f9-9d88-98faadfde2dd",
   "metadata": {},
   "outputs": [
    {
     "data": {
      "text/plain": [
       "low     0.760718\n",
       "high    0.239282\n",
       "Name: income, dtype: float64"
      ]
     },
     "execution_count": 10,
     "metadata": {},
     "output_type": "execute_result"
    }
   ],
   "source": [
    "df['income'] = np.where(df['income'] == '>50K', 'high', 'low')\n",
    "df['income'].value_counts(normalize = True)"
   ]
  },
  {
   "cell_type": "markdown",
   "id": "85b63800-e697-4b47-b581-f79a941a1787",
   "metadata": {},
   "source": [
    "#### 2. 불필요한 변수 제거하기"
   ]
  },
  {
   "cell_type": "code",
   "execution_count": 11,
   "id": "6b38b6a6-fc71-421c-b9df-cf7d89a6311f",
   "metadata": {},
   "outputs": [
    {
     "name": "stdout",
     "output_type": "stream",
     "text": [
      "<class 'pandas.core.frame.DataFrame'>\n",
      "RangeIndex: 48842 entries, 0 to 48841\n",
      "Data columns (total 14 columns):\n",
      " #   Column          Non-Null Count  Dtype \n",
      "---  ------          --------------  ----- \n",
      " 0   age             48842 non-null  int64 \n",
      " 1   workclass       48842 non-null  object\n",
      " 2   education       48842 non-null  object\n",
      " 3   education_num   48842 non-null  int64 \n",
      " 4   marital_status  48842 non-null  object\n",
      " 5   occupation      48842 non-null  object\n",
      " 6   relationship    48842 non-null  object\n",
      " 7   race            48842 non-null  object\n",
      " 8   sex             48842 non-null  object\n",
      " 9   capital_gain    48842 non-null  int64 \n",
      " 10  capital_loss    48842 non-null  int64 \n",
      " 11  hours_per_week  48842 non-null  int64 \n",
      " 12  native_country  48842 non-null  object\n",
      " 13  income          48842 non-null  object\n",
      "dtypes: int64(5), object(9)\n",
      "memory usage: 5.2+ MB\n"
     ]
    }
   ],
   "source": [
    "df = df.drop(columns = 'fnlwgt')\n",
    "df.info()"
   ]
  },
  {
   "cell_type": "markdown",
   "id": "53ec5c03-516f-4b99-9117-2c2c0dd9cda6",
   "metadata": {},
   "source": [
    "#### 3. 문자 타입 변수를 숫자 타입으로 바꾸기"
   ]
  },
  {
   "cell_type": "code",
   "execution_count": 12,
   "id": "e0310b85-4b5d-4546-b144-90e1f440d420",
   "metadata": {},
   "outputs": [
    {
     "data": {
      "text/plain": [
       "Male      32650\n",
       "Female    16192\n",
       "Name: sex, dtype: int64"
      ]
     },
     "execution_count": 12,
     "metadata": {},
     "output_type": "execute_result"
    }
   ],
   "source": [
    "# 예시\n",
    "df['sex'].value_counts()"
   ]
  },
  {
   "cell_type": "code",
   "execution_count": 13,
   "id": "caa24ff4-a0d9-4199-bea0-e8a5b068cb9e",
   "metadata": {},
   "outputs": [
    {
     "name": "stdout",
     "output_type": "stream",
     "text": [
      "<class 'pandas.core.frame.DataFrame'>\n",
      "RangeIndex: 48842 entries, 0 to 48841\n",
      "Data columns (total 1 columns):\n",
      " #   Column  Non-Null Count  Dtype \n",
      "---  ------  --------------  ----- \n",
      " 0   sex     48842 non-null  object\n",
      "dtypes: object(1)\n",
      "memory usage: 381.7+ KB\n"
     ]
    }
   ],
   "source": [
    "df_tmp = df[['sex']]\n",
    "df_tmp.info()"
   ]
  },
  {
   "cell_type": "code",
   "execution_count": 14,
   "id": "97b1a552-3c37-4b13-b12c-76055d956705",
   "metadata": {},
   "outputs": [
    {
     "data": {
      "text/plain": [
       "Male      32650\n",
       "Female    16192\n",
       "Name: sex, dtype: int64"
      ]
     },
     "execution_count": 14,
     "metadata": {},
     "output_type": "execute_result"
    }
   ],
   "source": [
    "df_tmp['sex'].value_counts()"
   ]
  },
  {
   "cell_type": "code",
   "execution_count": 15,
   "id": "25a47c0f-89c9-4adf-b83e-7b36a228b806",
   "metadata": {},
   "outputs": [
    {
     "name": "stdout",
     "output_type": "stream",
     "text": [
      "<class 'pandas.core.frame.DataFrame'>\n",
      "RangeIndex: 48842 entries, 0 to 48841\n",
      "Data columns (total 2 columns):\n",
      " #   Column      Non-Null Count  Dtype\n",
      "---  ------      --------------  -----\n",
      " 0   sex_Female  48842 non-null  uint8\n",
      " 1   sex_Male    48842 non-null  uint8\n",
      "dtypes: uint8(2)\n",
      "memory usage: 95.5 KB\n"
     ]
    }
   ],
   "source": [
    "df_tmp = pd.get_dummies(df_tmp)\n",
    "df_tmp.info()"
   ]
  },
  {
   "cell_type": "code",
   "execution_count": 16,
   "id": "cf722a87-d5e9-41dc-bf4b-1f4186b4f504",
   "metadata": {},
   "outputs": [
    {
     "data": {
      "text/html": [
       "<div>\n",
       "<style scoped>\n",
       "    .dataframe tbody tr th:only-of-type {\n",
       "        vertical-align: middle;\n",
       "    }\n",
       "\n",
       "    .dataframe tbody tr th {\n",
       "        vertical-align: top;\n",
       "    }\n",
       "\n",
       "    .dataframe thead th {\n",
       "        text-align: right;\n",
       "    }\n",
       "</style>\n",
       "<table border=\"1\" class=\"dataframe\">\n",
       "  <thead>\n",
       "    <tr style=\"text-align: right;\">\n",
       "      <th></th>\n",
       "      <th>sex_Female</th>\n",
       "      <th>sex_Male</th>\n",
       "    </tr>\n",
       "  </thead>\n",
       "  <tbody>\n",
       "    <tr>\n",
       "      <th>0</th>\n",
       "      <td>0</td>\n",
       "      <td>1</td>\n",
       "    </tr>\n",
       "    <tr>\n",
       "      <th>1</th>\n",
       "      <td>0</td>\n",
       "      <td>1</td>\n",
       "    </tr>\n",
       "    <tr>\n",
       "      <th>2</th>\n",
       "      <td>0</td>\n",
       "      <td>1</td>\n",
       "    </tr>\n",
       "    <tr>\n",
       "      <th>3</th>\n",
       "      <td>0</td>\n",
       "      <td>1</td>\n",
       "    </tr>\n",
       "    <tr>\n",
       "      <th>4</th>\n",
       "      <td>1</td>\n",
       "      <td>0</td>\n",
       "    </tr>\n",
       "  </tbody>\n",
       "</table>\n",
       "</div>"
      ],
      "text/plain": [
       "   sex_Female  sex_Male\n",
       "0           0         1\n",
       "1           0         1\n",
       "2           0         1\n",
       "3           0         1\n",
       "4           1         0"
      ]
     },
     "execution_count": 16,
     "metadata": {},
     "output_type": "execute_result"
    }
   ],
   "source": [
    "df_tmp.head()"
   ]
  },
  {
   "cell_type": "code",
   "execution_count": 17,
   "id": "1a3e8693-41d7-4f7e-86ec-99b84d21159c",
   "metadata": {},
   "outputs": [
    {
     "data": {
      "text/plain": [
       "sex_Female  sex_Male\n",
       "0           1           32650\n",
       "1           0           16192\n",
       "dtype: int64"
      ]
     },
     "execution_count": 17,
     "metadata": {},
     "output_type": "execute_result"
    }
   ],
   "source": [
    "df_tmp.value_counts()"
   ]
  },
  {
   "cell_type": "code",
   "execution_count": 18,
   "id": "c970d3f9-910d-4e60-a5e0-c847eb1facd3",
   "metadata": {},
   "outputs": [],
   "source": [
    "target = df['income']"
   ]
  },
  {
   "cell_type": "code",
   "execution_count": 19,
   "id": "cbb7a4d3-7a64-41c5-890b-5f293abd4209",
   "metadata": {},
   "outputs": [],
   "source": [
    "df = df.drop(columns = 'income')"
   ]
  },
  {
   "cell_type": "code",
   "execution_count": 20,
   "id": "2253fdbb-514c-49d7-9f12-c1ffbfde7e6a",
   "metadata": {},
   "outputs": [],
   "source": [
    "df = pd.get_dummies(df)"
   ]
  },
  {
   "cell_type": "code",
   "execution_count": 21,
   "id": "a6de2b50-e6e3-4345-b208-6340d8e9d1cc",
   "metadata": {},
   "outputs": [],
   "source": [
    "df['income'] = target"
   ]
  },
  {
   "cell_type": "code",
   "execution_count": 22,
   "id": "5d5dd365-752f-4768-a961-369926e2d80f",
   "metadata": {},
   "outputs": [
    {
     "name": "stdout",
     "output_type": "stream",
     "text": [
      "<class 'pandas.core.frame.DataFrame'>\n",
      "RangeIndex: 48842 entries, 0 to 48841\n",
      "Columns: 108 entries, age to income\n",
      "dtypes: int64(5), object(1), uint8(102)\n",
      "memory usage: 7.0+ MB\n"
     ]
    }
   ],
   "source": [
    "df.info()"
   ]
  },
  {
   "cell_type": "code",
   "execution_count": 23,
   "id": "536647fe-627d-490a-ae7e-919419cdbcf0",
   "metadata": {},
   "outputs": [
    {
     "name": "stdout",
     "output_type": "stream",
     "text": [
      "<class 'pandas.core.frame.DataFrame'>\n",
      "RangeIndex: 48842 entries, 0 to 48841\n",
      "Data columns (total 108 columns):\n",
      " #    Column                                     Non-Null Count  Dtype \n",
      "---   ------                                     --------------  ----- \n",
      " 0    age                                        48842 non-null  int64 \n",
      " 1    education_num                              48842 non-null  int64 \n",
      " 2    capital_gain                               48842 non-null  int64 \n",
      " 3    capital_loss                               48842 non-null  int64 \n",
      " 4    hours_per_week                             48842 non-null  int64 \n",
      " 5    workclass_?                                48842 non-null  uint8 \n",
      " 6    workclass_Federal-gov                      48842 non-null  uint8 \n",
      " 7    workclass_Local-gov                        48842 non-null  uint8 \n",
      " 8    workclass_Never-worked                     48842 non-null  uint8 \n",
      " 9    workclass_Private                          48842 non-null  uint8 \n",
      " 10   workclass_Self-emp-inc                     48842 non-null  uint8 \n",
      " 11   workclass_Self-emp-not-inc                 48842 non-null  uint8 \n",
      " 12   workclass_State-gov                        48842 non-null  uint8 \n",
      " 13   workclass_Without-pay                      48842 non-null  uint8 \n",
      " 14   education_10th                             48842 non-null  uint8 \n",
      " 15   education_11th                             48842 non-null  uint8 \n",
      " 16   education_12th                             48842 non-null  uint8 \n",
      " 17   education_1st-4th                          48842 non-null  uint8 \n",
      " 18   education_5th-6th                          48842 non-null  uint8 \n",
      " 19   education_7th-8th                          48842 non-null  uint8 \n",
      " 20   education_9th                              48842 non-null  uint8 \n",
      " 21   education_Assoc-acdm                       48842 non-null  uint8 \n",
      " 22   education_Assoc-voc                        48842 non-null  uint8 \n",
      " 23   education_Bachelors                        48842 non-null  uint8 \n",
      " 24   education_Doctorate                        48842 non-null  uint8 \n",
      " 25   education_HS-grad                          48842 non-null  uint8 \n",
      " 26   education_Masters                          48842 non-null  uint8 \n",
      " 27   education_Preschool                        48842 non-null  uint8 \n",
      " 28   education_Prof-school                      48842 non-null  uint8 \n",
      " 29   education_Some-college                     48842 non-null  uint8 \n",
      " 30   marital_status_Divorced                    48842 non-null  uint8 \n",
      " 31   marital_status_Married-AF-spouse           48842 non-null  uint8 \n",
      " 32   marital_status_Married-civ-spouse          48842 non-null  uint8 \n",
      " 33   marital_status_Married-spouse-absent       48842 non-null  uint8 \n",
      " 34   marital_status_Never-married               48842 non-null  uint8 \n",
      " 35   marital_status_Separated                   48842 non-null  uint8 \n",
      " 36   marital_status_Widowed                     48842 non-null  uint8 \n",
      " 37   occupation_?                               48842 non-null  uint8 \n",
      " 38   occupation_Adm-clerical                    48842 non-null  uint8 \n",
      " 39   occupation_Armed-Forces                    48842 non-null  uint8 \n",
      " 40   occupation_Craft-repair                    48842 non-null  uint8 \n",
      " 41   occupation_Exec-managerial                 48842 non-null  uint8 \n",
      " 42   occupation_Farming-fishing                 48842 non-null  uint8 \n",
      " 43   occupation_Handlers-cleaners               48842 non-null  uint8 \n",
      " 44   occupation_Machine-op-inspct               48842 non-null  uint8 \n",
      " 45   occupation_Other-service                   48842 non-null  uint8 \n",
      " 46   occupation_Priv-house-serv                 48842 non-null  uint8 \n",
      " 47   occupation_Prof-specialty                  48842 non-null  uint8 \n",
      " 48   occupation_Protective-serv                 48842 non-null  uint8 \n",
      " 49   occupation_Sales                           48842 non-null  uint8 \n",
      " 50   occupation_Tech-support                    48842 non-null  uint8 \n",
      " 51   occupation_Transport-moving                48842 non-null  uint8 \n",
      " 52   relationship_Husband                       48842 non-null  uint8 \n",
      " 53   relationship_Not-in-family                 48842 non-null  uint8 \n",
      " 54   relationship_Other-relative                48842 non-null  uint8 \n",
      " 55   relationship_Own-child                     48842 non-null  uint8 \n",
      " 56   relationship_Unmarried                     48842 non-null  uint8 \n",
      " 57   relationship_Wife                          48842 non-null  uint8 \n",
      " 58   race_Amer-Indian-Eskimo                    48842 non-null  uint8 \n",
      " 59   race_Asian-Pac-Islander                    48842 non-null  uint8 \n",
      " 60   race_Black                                 48842 non-null  uint8 \n",
      " 61   race_Other                                 48842 non-null  uint8 \n",
      " 62   race_White                                 48842 non-null  uint8 \n",
      " 63   sex_Female                                 48842 non-null  uint8 \n",
      " 64   sex_Male                                   48842 non-null  uint8 \n",
      " 65   native_country_?                           48842 non-null  uint8 \n",
      " 66   native_country_Cambodia                    48842 non-null  uint8 \n",
      " 67   native_country_Canada                      48842 non-null  uint8 \n",
      " 68   native_country_China                       48842 non-null  uint8 \n",
      " 69   native_country_Columbia                    48842 non-null  uint8 \n",
      " 70   native_country_Cuba                        48842 non-null  uint8 \n",
      " 71   native_country_Dominican-Republic          48842 non-null  uint8 \n",
      " 72   native_country_Ecuador                     48842 non-null  uint8 \n",
      " 73   native_country_El-Salvador                 48842 non-null  uint8 \n",
      " 74   native_country_England                     48842 non-null  uint8 \n",
      " 75   native_country_France                      48842 non-null  uint8 \n",
      " 76   native_country_Germany                     48842 non-null  uint8 \n",
      " 77   native_country_Greece                      48842 non-null  uint8 \n",
      " 78   native_country_Guatemala                   48842 non-null  uint8 \n",
      " 79   native_country_Haiti                       48842 non-null  uint8 \n",
      " 80   native_country_Holand-Netherlands          48842 non-null  uint8 \n",
      " 81   native_country_Honduras                    48842 non-null  uint8 \n",
      " 82   native_country_Hong                        48842 non-null  uint8 \n",
      " 83   native_country_Hungary                     48842 non-null  uint8 \n",
      " 84   native_country_India                       48842 non-null  uint8 \n",
      " 85   native_country_Iran                        48842 non-null  uint8 \n",
      " 86   native_country_Ireland                     48842 non-null  uint8 \n",
      " 87   native_country_Italy                       48842 non-null  uint8 \n",
      " 88   native_country_Jamaica                     48842 non-null  uint8 \n",
      " 89   native_country_Japan                       48842 non-null  uint8 \n",
      " 90   native_country_Laos                        48842 non-null  uint8 \n",
      " 91   native_country_Mexico                      48842 non-null  uint8 \n",
      " 92   native_country_Nicaragua                   48842 non-null  uint8 \n",
      " 93   native_country_Outlying-US(Guam-USVI-etc)  48842 non-null  uint8 \n",
      " 94   native_country_Peru                        48842 non-null  uint8 \n",
      " 95   native_country_Philippines                 48842 non-null  uint8 \n",
      " 96   native_country_Poland                      48842 non-null  uint8 \n",
      " 97   native_country_Portugal                    48842 non-null  uint8 \n",
      " 98   native_country_Puerto-Rico                 48842 non-null  uint8 \n",
      " 99   native_country_Scotland                    48842 non-null  uint8 \n",
      " 100  native_country_South                       48842 non-null  uint8 \n",
      " 101  native_country_Taiwan                      48842 non-null  uint8 \n",
      " 102  native_country_Thailand                    48842 non-null  uint8 \n",
      " 103  native_country_Trinadad&Tobago             48842 non-null  uint8 \n",
      " 104  native_country_United-States               48842 non-null  uint8 \n",
      " 105  native_country_Vietnam                     48842 non-null  uint8 \n",
      " 106  native_country_Yugoslavia                  48842 non-null  uint8 \n",
      " 107  income                                     48842 non-null  object\n",
      "dtypes: int64(5), object(1), uint8(102)\n",
      "memory usage: 7.0+ MB\n"
     ]
    }
   ],
   "source": [
    "df.info(max_cols = np.inf)"
   ]
  },
  {
   "cell_type": "markdown",
   "id": "bd8c3f6c-0e93-41c2-be5e-32b010b3f16b",
   "metadata": {},
   "source": [
    "#### 4. 데이터 분할하기"
   ]
  },
  {
   "cell_type": "code",
   "execution_count": 24,
   "id": "bc117382-96df-4f8b-b31c-2d6f34d51e84",
   "metadata": {},
   "outputs": [],
   "source": [
    "df_train, df_test = train_test_split(df, \n",
    "                                     test_size = 0.3,\n",
    "                                     stratify = df['income'],\n",
    "                                     random_state = 1234)"
   ]
  },
  {
   "cell_type": "code",
   "execution_count": 25,
   "id": "131c9999-b85a-48f7-82bd-23190e06665f",
   "metadata": {},
   "outputs": [
    {
     "data": {
      "text/plain": [
       "(34189, 108)"
      ]
     },
     "execution_count": 25,
     "metadata": {},
     "output_type": "execute_result"
    }
   ],
   "source": [
    "df_train.shape"
   ]
  },
  {
   "cell_type": "code",
   "execution_count": 26,
   "id": "3a6b90fc-c4ad-4bee-9507-fb228dc1909d",
   "metadata": {},
   "outputs": [
    {
     "data": {
      "text/plain": [
       "(14653, 108)"
      ]
     },
     "execution_count": 26,
     "metadata": {},
     "output_type": "execute_result"
    }
   ],
   "source": [
    "df_test.shape"
   ]
  },
  {
   "cell_type": "code",
   "execution_count": 27,
   "id": "c6329f64-83a1-40d1-87e6-09d635415d3a",
   "metadata": {},
   "outputs": [
    {
     "data": {
      "text/plain": [
       "low     0.760713\n",
       "high    0.239287\n",
       "Name: income, dtype: float64"
      ]
     },
     "execution_count": 27,
     "metadata": {},
     "output_type": "execute_result"
    }
   ],
   "source": [
    "df_train['income'].value_counts(normalize = True)"
   ]
  },
  {
   "cell_type": "code",
   "execution_count": 28,
   "id": "6d998e30-f1cc-4118-9217-7b05d7f9f9fb",
   "metadata": {},
   "outputs": [
    {
     "data": {
      "text/plain": [
       "low     0.760732\n",
       "high    0.239268\n",
       "Name: income, dtype: float64"
      ]
     },
     "execution_count": 28,
     "metadata": {},
     "output_type": "execute_result"
    }
   ],
   "source": [
    "df_test['income'].value_counts(normalize = True)"
   ]
  },
  {
   "cell_type": "markdown",
   "id": "80ded5a9-3d56-4501-96d5-030111d0325d",
   "metadata": {},
   "source": [
    "### (p.362) 의사결정나무 모델 만들기"
   ]
  },
  {
   "cell_type": "markdown",
   "id": "bb69ece0-b1ab-47b1-b8bd-1f5ae8fc8c19",
   "metadata": {},
   "source": [
    "#### 1. 모델 설정하기"
   ]
  },
  {
   "cell_type": "code",
   "execution_count": 29,
   "id": "34bc102e-9ead-4ea1-92f5-e0d9f2bdf38a",
   "metadata": {},
   "outputs": [],
   "source": [
    "clf = tree.DecisionTreeClassifier(random_state = 1234,\n",
    "                                 max_depth = 3)"
   ]
  },
  {
   "cell_type": "markdown",
   "id": "b36862c4-87e0-494d-af35-af568d998c47",
   "metadata": {},
   "source": [
    "#### 2. 모델 만들기"
   ]
  },
  {
   "cell_type": "code",
   "execution_count": 30,
   "id": "467c8b1b-6a8d-4cf8-8385-544f91a8f104",
   "metadata": {},
   "outputs": [],
   "source": [
    "train_x = df_train.drop(columns = 'income')\n",
    "train_y = df_train['income']"
   ]
  },
  {
   "cell_type": "code",
   "execution_count": 31,
   "id": "65e3389d-cd1c-475e-991b-77c370f99678",
   "metadata": {},
   "outputs": [],
   "source": [
    "model = clf.fit(X = train_x, y = train_y)"
   ]
  },
  {
   "cell_type": "markdown",
   "id": "057d0e03-a938-40c4-979f-ed5ab4afe4e8",
   "metadata": {},
   "source": [
    "### (p.364) 모델 구조 살펴보기"
   ]
  },
  {
   "cell_type": "code",
   "execution_count": 32,
   "id": "67002f9f-c48b-4991-a320-b7a137bc705d",
   "metadata": {},
   "outputs": [],
   "source": [
    "plt.rcParams.update({'figure.dpi' : '100',\n",
    "                     'figure.figsize' : [12, 8]})"
   ]
  },
  {
   "cell_type": "code",
   "execution_count": 33,
   "id": "9ab01af7-79ce-4256-880a-dadfa3e95447",
   "metadata": {},
   "outputs": [
    {
     "data": {
      "image/png": "[encoded data removed]",
      "text/plain": [
       "<Figure size 1200x800 with 1 Axes>"
      ]
     },
     "metadata": {},
     "output_type": "display_data"
    }
   ],
   "source": [
    "tree.plot_tree(model);"
   ]
  },
  {
   "cell_type": "code",
   "execution_count": 34,
   "id": "9ec22dc6-97dd-4b98-a7c3-c698bf4ae38b",
   "metadata": {},
   "outputs": [
    {
     "data": {
      "image/png": "[encoded data removed]",
      "text/plain": [
       "<Figure size 1200x800 with 1 Axes>"
      ]
     },
     "metadata": {},
     "output_type": "display_data"
    }
   ],
   "source": [
    "tree.plot_tree(model,\n",
    "               feature_names = train_x.columns,\n",
    "               class_names = ['high', 'low'],\n",
    "               proportion = True,\n",
    "               filled = True,\n",
    "               rounded = True,\n",
    "               impurity = False,\n",
    "               label = 'root',\n",
    "               fontsize = 10);"
   ]
  },
  {
   "cell_type": "markdown",
   "id": "9d91f728-2bdd-4e44-9621-d74a6a18bc4b",
   "metadata": {},
   "source": [
    "### (p.367) 모델을 이용해 예측하기"
   ]
  },
  {
   "cell_type": "code",
   "execution_count": 35,
   "id": "9938fc49-610f-4ada-b18f-d4142c489bfb",
   "metadata": {},
   "outputs": [],
   "source": [
    "test_x = df_test.drop(columns = 'income')\n",
    "test_y = df_test['income']"
   ]
  },
  {
   "cell_type": "code",
   "execution_count": 36,
   "id": "f75aee85-8ea6-42f0-bc32-c8086ea9e886",
   "metadata": {},
   "outputs": [
    {
     "data": {
      "text/html": [
       "<div>\n",
       "<style scoped>\n",
       "    .dataframe tbody tr th:only-of-type {\n",
       "        vertical-align: middle;\n",
       "    }\n",
       "\n",
       "    .dataframe tbody tr th {\n",
       "        vertical-align: top;\n",
       "    }\n",
       "\n",
       "    .dataframe thead th {\n",
       "        text-align: right;\n",
       "    }\n",
       "</style>\n",
       "<table border=\"1\" class=\"dataframe\">\n",
       "  <thead>\n",
       "    <tr style=\"text-align: right;\">\n",
       "      <th></th>\n",
       "      <th>age</th>\n",
       "      <th>education_num</th>\n",
       "      <th>capital_gain</th>\n",
       "      <th>capital_loss</th>\n",
       "      <th>hours_per_week</th>\n",
       "      <th>workclass_?</th>\n",
       "      <th>workclass_Federal-gov</th>\n",
       "      <th>workclass_Local-gov</th>\n",
       "      <th>workclass_Never-worked</th>\n",
       "      <th>workclass_Private</th>\n",
       "      <th>...</th>\n",
       "      <th>native_country_Scotland</th>\n",
       "      <th>native_country_South</th>\n",
       "      <th>native_country_Taiwan</th>\n",
       "      <th>native_country_Thailand</th>\n",
       "      <th>native_country_Trinadad&amp;Tobago</th>\n",
       "      <th>native_country_United-States</th>\n",
       "      <th>native_country_Vietnam</th>\n",
       "      <th>native_country_Yugoslavia</th>\n",
       "      <th>income</th>\n",
       "      <th>pred</th>\n",
       "    </tr>\n",
       "  </thead>\n",
       "  <tbody>\n",
       "    <tr>\n",
       "      <th>11712</th>\n",
       "      <td>58</td>\n",
       "      <td>10</td>\n",
       "      <td>0</td>\n",
       "      <td>0</td>\n",
       "      <td>60</td>\n",
       "      <td>0</td>\n",
       "      <td>0</td>\n",
       "      <td>0</td>\n",
       "      <td>0</td>\n",
       "      <td>0</td>\n",
       "      <td>...</td>\n",
       "      <td>0</td>\n",
       "      <td>0</td>\n",
       "      <td>0</td>\n",
       "      <td>0</td>\n",
       "      <td>0</td>\n",
       "      <td>1</td>\n",
       "      <td>0</td>\n",
       "      <td>0</td>\n",
       "      <td>low</td>\n",
       "      <td>low</td>\n",
       "    </tr>\n",
       "    <tr>\n",
       "      <th>24768</th>\n",
       "      <td>39</td>\n",
       "      <td>10</td>\n",
       "      <td>0</td>\n",
       "      <td>0</td>\n",
       "      <td>40</td>\n",
       "      <td>0</td>\n",
       "      <td>0</td>\n",
       "      <td>0</td>\n",
       "      <td>0</td>\n",
       "      <td>1</td>\n",
       "      <td>...</td>\n",
       "      <td>0</td>\n",
       "      <td>0</td>\n",
       "      <td>0</td>\n",
       "      <td>0</td>\n",
       "      <td>0</td>\n",
       "      <td>0</td>\n",
       "      <td>0</td>\n",
       "      <td>0</td>\n",
       "      <td>low</td>\n",
       "      <td>low</td>\n",
       "    </tr>\n",
       "    <tr>\n",
       "      <th>26758</th>\n",
       "      <td>31</td>\n",
       "      <td>4</td>\n",
       "      <td>0</td>\n",
       "      <td>0</td>\n",
       "      <td>20</td>\n",
       "      <td>0</td>\n",
       "      <td>0</td>\n",
       "      <td>0</td>\n",
       "      <td>0</td>\n",
       "      <td>1</td>\n",
       "      <td>...</td>\n",
       "      <td>0</td>\n",
       "      <td>0</td>\n",
       "      <td>0</td>\n",
       "      <td>0</td>\n",
       "      <td>0</td>\n",
       "      <td>1</td>\n",
       "      <td>0</td>\n",
       "      <td>0</td>\n",
       "      <td>low</td>\n",
       "      <td>low</td>\n",
       "    </tr>\n",
       "    <tr>\n",
       "      <th>14295</th>\n",
       "      <td>23</td>\n",
       "      <td>9</td>\n",
       "      <td>0</td>\n",
       "      <td>0</td>\n",
       "      <td>40</td>\n",
       "      <td>0</td>\n",
       "      <td>0</td>\n",
       "      <td>0</td>\n",
       "      <td>0</td>\n",
       "      <td>1</td>\n",
       "      <td>...</td>\n",
       "      <td>0</td>\n",
       "      <td>0</td>\n",
       "      <td>0</td>\n",
       "      <td>0</td>\n",
       "      <td>0</td>\n",
       "      <td>1</td>\n",
       "      <td>0</td>\n",
       "      <td>0</td>\n",
       "      <td>low</td>\n",
       "      <td>low</td>\n",
       "    </tr>\n",
       "    <tr>\n",
       "      <th>3683</th>\n",
       "      <td>24</td>\n",
       "      <td>9</td>\n",
       "      <td>0</td>\n",
       "      <td>0</td>\n",
       "      <td>40</td>\n",
       "      <td>0</td>\n",
       "      <td>0</td>\n",
       "      <td>0</td>\n",
       "      <td>0</td>\n",
       "      <td>1</td>\n",
       "      <td>...</td>\n",
       "      <td>0</td>\n",
       "      <td>0</td>\n",
       "      <td>0</td>\n",
       "      <td>0</td>\n",
       "      <td>0</td>\n",
       "      <td>1</td>\n",
       "      <td>0</td>\n",
       "      <td>0</td>\n",
       "      <td>low</td>\n",
       "      <td>low</td>\n",
       "    </tr>\n",
       "  </tbody>\n",
       "</table>\n",
       "<p>5 rows × 109 columns</p>\n",
       "</div>"
      ],
      "text/plain": [
       "       age  education_num  capital_gain  capital_loss  hours_per_week  \\\n",
       "11712   58             10             0             0              60   \n",
       "24768   39             10             0             0              40   \n",
       "26758   31              4             0             0              20   \n",
       "14295   23              9             0             0              40   \n",
       "3683    24              9             0             0              40   \n",
       "\n",
       "       workclass_?  workclass_Federal-gov  workclass_Local-gov  \\\n",
       "11712            0                      0                    0   \n",
       "24768            0                      0                    0   \n",
       "26758            0                      0                    0   \n",
       "14295            0                      0                    0   \n",
       "3683             0                      0                    0   \n",
       "\n",
       "       workclass_Never-worked  workclass_Private  ...  \\\n",
       "11712                       0                  0  ...   \n",
       "24768                       0                  1  ...   \n",
       "26758                       0                  1  ...   \n",
       "14295                       0                  1  ...   \n",
       "3683                        0                  1  ...   \n",
       "\n",
       "       native_country_Scotland  native_country_South  native_country_Taiwan  \\\n",
       "11712                        0                     0                      0   \n",
       "24768                        0                     0                      0   \n",
       "26758                        0                     0                      0   \n",
       "14295                        0                     0                      0   \n",
       "3683                         0                     0                      0   \n",
       "\n",
       "       native_country_Thailand  native_country_Trinadad&Tobago  \\\n",
       "11712                        0                               0   \n",
       "24768                        0                               0   \n",
       "26758                        0                               0   \n",
       "14295                        0                               0   \n",
       "3683                         0                               0   \n",
       "\n",
       "       native_country_United-States  native_country_Vietnam  \\\n",
       "11712                             1                       0   \n",
       "24768                             0                       0   \n",
       "26758                             1                       0   \n",
       "14295                             1                       0   \n",
       "3683                              1                       0   \n",
       "\n",
       "       native_country_Yugoslavia  income  pred  \n",
       "11712                          0     low   low  \n",
       "24768                          0     low   low  \n",
       "26758                          0     low   low  \n",
       "14295                          0     low   low  \n",
       "3683                           0     low   low  \n",
       "\n",
       "[5 rows x 109 columns]"
      ]
     },
     "execution_count": 36,
     "metadata": {},
     "output_type": "execute_result"
    }
   ],
   "source": [
    "df_test['pred'] = model.predict(test_x)"
   ]
  },
  {
   "cell_type": "code",
   "execution_count": 61,
   "id": "b8030673-4574-4288-bca1-c35eace3d2ea",
   "metadata": {},
   "outputs": [
    {
     "data": {
      "text/html": [
       "<div>\n",
       "<style scoped>\n",
       "    .dataframe tbody tr th:only-of-type {\n",
       "        vertical-align: middle;\n",
       "    }\n",
       "\n",
       "    .dataframe tbody tr th {\n",
       "        vertical-align: top;\n",
       "    }\n",
       "\n",
       "    .dataframe thead th {\n",
       "        text-align: right;\n",
       "    }\n",
       "</style>\n",
       "<table border=\"1\" class=\"dataframe\">\n",
       "  <thead>\n",
       "    <tr style=\"text-align: right;\">\n",
       "      <th></th>\n",
       "      <th>age</th>\n",
       "      <th>education_num</th>\n",
       "      <th>capital_gain</th>\n",
       "      <th>capital_loss</th>\n",
       "      <th>hours_per_week</th>\n",
       "      <th>workclass_?</th>\n",
       "      <th>workclass_Federal-gov</th>\n",
       "      <th>workclass_Local-gov</th>\n",
       "      <th>workclass_Never-worked</th>\n",
       "      <th>workclass_Private</th>\n",
       "      <th>...</th>\n",
       "      <th>native_country_Scotland</th>\n",
       "      <th>native_country_South</th>\n",
       "      <th>native_country_Taiwan</th>\n",
       "      <th>native_country_Thailand</th>\n",
       "      <th>native_country_Trinadad&amp;Tobago</th>\n",
       "      <th>native_country_United-States</th>\n",
       "      <th>native_country_Vietnam</th>\n",
       "      <th>native_country_Yugoslavia</th>\n",
       "      <th>income</th>\n",
       "      <th>pred</th>\n",
       "    </tr>\n",
       "  </thead>\n",
       "  <tbody>\n",
       "    <tr>\n",
       "      <th>11712</th>\n",
       "      <td>58</td>\n",
       "      <td>10</td>\n",
       "      <td>0</td>\n",
       "      <td>0</td>\n",
       "      <td>60</td>\n",
       "      <td>0</td>\n",
       "      <td>0</td>\n",
       "      <td>0</td>\n",
       "      <td>0</td>\n",
       "      <td>0</td>\n",
       "      <td>...</td>\n",
       "      <td>0</td>\n",
       "      <td>0</td>\n",
       "      <td>0</td>\n",
       "      <td>0</td>\n",
       "      <td>0</td>\n",
       "      <td>1</td>\n",
       "      <td>0</td>\n",
       "      <td>0</td>\n",
       "      <td>low</td>\n",
       "      <td>low</td>\n",
       "    </tr>\n",
       "    <tr>\n",
       "      <th>24768</th>\n",
       "      <td>39</td>\n",
       "      <td>10</td>\n",
       "      <td>0</td>\n",
       "      <td>0</td>\n",
       "      <td>40</td>\n",
       "      <td>0</td>\n",
       "      <td>0</td>\n",
       "      <td>0</td>\n",
       "      <td>0</td>\n",
       "      <td>1</td>\n",
       "      <td>...</td>\n",
       "      <td>0</td>\n",
       "      <td>0</td>\n",
       "      <td>0</td>\n",
       "      <td>0</td>\n",
       "      <td>0</td>\n",
       "      <td>0</td>\n",
       "      <td>0</td>\n",
       "      <td>0</td>\n",
       "      <td>low</td>\n",
       "      <td>low</td>\n",
       "    </tr>\n",
       "    <tr>\n",
       "      <th>26758</th>\n",
       "      <td>31</td>\n",
       "      <td>4</td>\n",
       "      <td>0</td>\n",
       "      <td>0</td>\n",
       "      <td>20</td>\n",
       "      <td>0</td>\n",
       "      <td>0</td>\n",
       "      <td>0</td>\n",
       "      <td>0</td>\n",
       "      <td>1</td>\n",
       "      <td>...</td>\n",
       "      <td>0</td>\n",
       "      <td>0</td>\n",
       "      <td>0</td>\n",
       "      <td>0</td>\n",
       "      <td>0</td>\n",
       "      <td>1</td>\n",
       "      <td>0</td>\n",
       "      <td>0</td>\n",
       "      <td>low</td>\n",
       "      <td>low</td>\n",
       "    </tr>\n",
       "    <tr>\n",
       "      <th>14295</th>\n",
       "      <td>23</td>\n",
       "      <td>9</td>\n",
       "      <td>0</td>\n",
       "      <td>0</td>\n",
       "      <td>40</td>\n",
       "      <td>0</td>\n",
       "      <td>0</td>\n",
       "      <td>0</td>\n",
       "      <td>0</td>\n",
       "      <td>1</td>\n",
       "      <td>...</td>\n",
       "      <td>0</td>\n",
       "      <td>0</td>\n",
       "      <td>0</td>\n",
       "      <td>0</td>\n",
       "      <td>0</td>\n",
       "      <td>1</td>\n",
       "      <td>0</td>\n",
       "      <td>0</td>\n",
       "      <td>low</td>\n",
       "      <td>low</td>\n",
       "    </tr>\n",
       "    <tr>\n",
       "      <th>3683</th>\n",
       "      <td>24</td>\n",
       "      <td>9</td>\n",
       "      <td>0</td>\n",
       "      <td>0</td>\n",
       "      <td>40</td>\n",
       "      <td>0</td>\n",
       "      <td>0</td>\n",
       "      <td>0</td>\n",
       "      <td>0</td>\n",
       "      <td>1</td>\n",
       "      <td>...</td>\n",
       "      <td>0</td>\n",
       "      <td>0</td>\n",
       "      <td>0</td>\n",
       "      <td>0</td>\n",
       "      <td>0</td>\n",
       "      <td>1</td>\n",
       "      <td>0</td>\n",
       "      <td>0</td>\n",
       "      <td>low</td>\n",
       "      <td>low</td>\n",
       "    </tr>\n",
       "  </tbody>\n",
       "</table>\n",
       "<p>5 rows × 109 columns</p>\n",
       "</div>"
      ],
      "text/plain": [
       "       age  education_num  capital_gain  capital_loss  hours_per_week  \\\n",
       "11712   58             10             0             0              60   \n",
       "24768   39             10             0             0              40   \n",
       "26758   31              4             0             0              20   \n",
       "14295   23              9             0             0              40   \n",
       "3683    24              9             0             0              40   \n",
       "\n",
       "       workclass_?  workclass_Federal-gov  workclass_Local-gov  \\\n",
       "11712            0                      0                    0   \n",
       "24768            0                      0                    0   \n",
       "26758            0                      0                    0   \n",
       "14295            0                      0                    0   \n",
       "3683             0                      0                    0   \n",
       "\n",
       "       workclass_Never-worked  workclass_Private  ...  \\\n",
       "11712                       0                  0  ...   \n",
       "24768                       0                  1  ...   \n",
       "26758                       0                  1  ...   \n",
       "14295                       0                  1  ...   \n",
       "3683                        0                  1  ...   \n",
       "\n",
       "       native_country_Scotland  native_country_South  native_country_Taiwan  \\\n",
       "11712                        0                     0                      0   \n",
       "24768                        0                     0                      0   \n",
       "26758                        0                     0                      0   \n",
       "14295                        0                     0                      0   \n",
       "3683                         0                     0                      0   \n",
       "\n",
       "       native_country_Thailand  native_country_Trinadad&Tobago  \\\n",
       "11712                        0                               0   \n",
       "24768                        0                               0   \n",
       "26758                        0                               0   \n",
       "14295                        0                               0   \n",
       "3683                         0                               0   \n",
       "\n",
       "       native_country_United-States  native_country_Vietnam  \\\n",
       "11712                             1                       0   \n",
       "24768                             0                       0   \n",
       "26758                             1                       0   \n",
       "14295                             1                       0   \n",
       "3683                              1                       0   \n",
       "\n",
       "       native_country_Yugoslavia  income  pred  \n",
       "11712                          0     low   low  \n",
       "24768                          0     low   low  \n",
       "26758                          0     low   low  \n",
       "14295                          0     low   low  \n",
       "3683                           0     low   low  \n",
       "\n",
       "[5 rows x 109 columns]"
      ]
     },
     "execution_count": 61,
     "metadata": {},
     "output_type": "execute_result"
    }
   ],
   "source": [
    "df_test.head()"
   ]
  },
  {
   "cell_type": "markdown",
   "id": "4d3359df-513c-44ab-857e-7781b6ca696b",
   "metadata": {},
   "source": [
    "### (p.368) 성능 평가하기"
   ]
  },
  {
   "cell_type": "markdown",
   "id": "06222aec-f8e3-428d-8fa1-14f6966dde82",
   "metadata": {},
   "source": [
    "#### confusion matrix 만들기"
   ]
  },
  {
   "cell_type": "code",
   "execution_count": 100,
   "id": "5e699cea-4b7f-4dc8-8239-fd876f530bad",
   "metadata": {},
   "outputs": [],
   "source": [
    "from sklearn.metrics import confusion_matrix"
   ]
  },
  {
   "cell_type": "code",
   "execution_count": 38,
   "id": "10b36ee4-84af-45c8-b8dc-8a22f43d75b8",
   "metadata": {},
   "outputs": [
    {
     "data": {
      "text/plain": [
       "array([[ 1801,  1705],\n",
       "       [  582, 10565]], dtype=int64)"
      ]
     },
     "execution_count": 38,
     "metadata": {},
     "output_type": "execute_result"
    }
   ],
   "source": [
    "conf_mat = confusion_matrix(y_true = df_test['income'],\n",
    "                            y_pred = df_test['pred'],\n",
    "                            labels = ['high', 'low'])\n",
    "conf_mat"
   ]
  },
  {
   "cell_type": "code",
   "execution_count": 45,
   "id": "678726c7-5c12-4a58-9c16-38efd8d27981",
   "metadata": {},
   "outputs": [],
   "source": [
    "from sklearn.metrics import ConfusionMatrixDisplay"
   ]
  },
  {
   "cell_type": "code",
   "execution_count": 64,
   "id": "b0688a6e-a838-409e-aaf0-df304dc582b8",
   "metadata": {},
   "outputs": [],
   "source": [
    "# 그래프 설정 초기화\n",
    "plt.style.use('default')\n",
    "\n",
    "matplotlib.rcParams.update(matplotlib.rcParamsDefault)"
   ]
  },
  {
   "cell_type": "code",
   "execution_count": 65,
   "id": "a493ce70-4477-4718-bdde-e01d24483475",
   "metadata": {},
   "outputs": [
    {
     "data": {
      "image/png": "[encoded data removed]",
      "text/plain": [
       "<Figure size 640x480 with 2 Axes>"
      ]
     },
     "metadata": {},
     "output_type": "display_data"
    }
   ],
   "source": [
    "p = ConfusionMatrixDisplay(confusion_matrix = conf_mat,\n",
    "                          display_labels = ('high', 'low'))\n",
    "p.plot(cmap = 'Blues');"
   ]
  },
  {
   "cell_type": "markdown",
   "id": "b48ab912-acbd-49be-97f1-627718ddf93e",
   "metadata": {},
   "source": [
    "#### 성능 평가 지표 구하기\n",
    "##### (1) Accuracy"
   ]
  },
  {
   "cell_type": "code",
   "execution_count": 67,
   "id": "07f4b2ac-36b0-458f-b22c-31ef1cb47330",
   "metadata": {},
   "outputs": [
    {
     "data": {
      "text/plain": [
       "0.8439227461953184"
      ]
     },
     "execution_count": 67,
     "metadata": {},
     "output_type": "execute_result"
    }
   ],
   "source": [
    "import sklearn.metrics as metrics\n",
    "metrics.accuracy_score(y_true = df_test['income'],\n",
    "                       y_pred = df_test['pred'])"
   ]
  },
  {
   "cell_type": "markdown",
   "id": "910202c8-5503-4fb7-bafa-a36299ec6a0a",
   "metadata": {},
   "source": [
    "##### (2) Precision"
   ]
  },
  {
   "cell_type": "code",
   "execution_count": 69,
   "id": "0f5b249c-a3ef-43b5-b055-d461e0a05b5f",
   "metadata": {},
   "outputs": [
    {
     "data": {
      "text/plain": [
       "0.7557700377675199"
      ]
     },
     "execution_count": 69,
     "metadata": {},
     "output_type": "execute_result"
    }
   ],
   "source": [
    "metrics.precision_score(y_true = df_test['income'],\n",
    "                        y_pred = df_test['pred'],\n",
    "                        pos_label = 'high')"
   ]
  },
  {
   "cell_type": "markdown",
   "id": "f4e2a20c-76a7-451b-84f3-3d0a3fc4cd6f",
   "metadata": {},
   "source": [
    "##### (3) Recall"
   ]
  },
  {
   "cell_type": "code",
   "execution_count": 70,
   "id": "c0755b6d-ce66-48d4-ba63-5a944b183441",
   "metadata": {},
   "outputs": [
    {
     "data": {
      "text/plain": [
       "0.5136908157444381"
      ]
     },
     "execution_count": 70,
     "metadata": {},
     "output_type": "execute_result"
    }
   ],
   "source": [
    "metrics.recall_score(y_true = df_test['income'],\n",
    "                     y_pred = df_test['pred'],\n",
    "                     pos_label = 'high')"
   ]
  },
  {
   "cell_type": "markdown",
   "id": "77b4fc9a-4bef-4900-b70e-ffd23cd53d78",
   "metadata": {},
   "source": [
    "##### (5) F1 score"
   ]
  },
  {
   "cell_type": "code",
   "execution_count": 71,
   "id": "83fea79c-c0fd-497c-9f0c-2cd76647244a",
   "metadata": {},
   "outputs": [
    {
     "data": {
      "text/plain": [
       "0.6116488368143997"
      ]
     },
     "execution_count": 71,
     "metadata": {},
     "output_type": "execute_result"
    }
   ],
   "source": [
    "metrics.f1_score(y_true = df_test['income'],\n",
    "                 y_pred = df_test['pred'],\n",
    "                 pos_label = 'high')"
   ]
  },
  {
   "cell_type": "code",
   "execution_count": null,
   "id": "4f167def-ade2-484d-b286-f1bacfb05e38",
   "metadata": {},
   "outputs": [],
   "source": []
  }
 ],
 "metadata": {
  "kernelspec": {
   "display_name": "Python 3 (ipykernel)",
   "language": "python",
   "name": "python3"
  },
  "language_info": {
   "codemirror_mode": {
    "name": "ipython",
    "version": 3
   },
   "file_extension": ".py",
   "mimetype": "text/x-python",
   "name": "python",
   "nbconvert_exporter": "python",
   "pygments_lexer": "ipython3",
   "version": "3.9.13"
  }
 },
 "nbformat": 4,
 "nbformat_minor": 5
}
