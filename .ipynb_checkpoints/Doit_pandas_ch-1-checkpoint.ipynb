{
 "cells": [
  {
   "cell_type": "markdown",
   "id": "f6e02edd-651b-40f9-a98a-6bc64a01f178",
   "metadata": {},
   "source": [
    "# 18. 데이터 분석 기술 효율적으로 익히기\n",
    "## 18-1. 집중할 방향 정하기"
   ]
  },
  {
   "cell_type": "code",
   "execution_count": null,
   "id": "d9ba463c-4281-45f2-bcc9-9f6d3907c873",
   "metadata": {},
   "outputs": [],
   "source": []
  }
 ],
 "metadata": {
  "kernelspec": {
   "display_name": "Python 3 (ipykernel)",
   "language": "python",
   "name": "python3"
  },
  "language_info": {
   "codemirror_mode": {
    "name": "ipython",
    "version": 3
   },
   "file_extension": ".py",
   "mimetype": "text/x-python",
   "name": "python",
   "nbconvert_exporter": "python",
   "pygments_lexer": "ipython3",
   "version": "3.9.13"
  }
 },
 "nbformat": 4,
 "nbformat_minor": 5
}
