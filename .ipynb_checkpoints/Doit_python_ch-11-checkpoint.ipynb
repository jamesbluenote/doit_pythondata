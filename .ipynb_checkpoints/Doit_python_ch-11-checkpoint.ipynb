{
 "cells": [
  {
   "cell_type": "markdown",
   "id": "cae28f48-c4a4-4de0-a0e0-916d55cda3d9",
   "metadata": {},
   "source": [
    "# Chapter 11. 지도 시각화\n",
    "## 11-1. 시군구별 인구 단계 구분도 만들기"
   ]
  },
  {
   "cell_type": "code",
   "execution_count": null,
   "id": "b788e941-4274-47dc-a39b-02b2c59983cc",
   "metadata": {},
   "outputs": [],
   "source": [
    "import pandas as pd\n",
    "import numpy as np\n",
    "import PIL\n",
    "import matplotlib.pyplot as plt\n",
    "import seaborn as sns\n",
    "import os"
   ]
  },
  {
   "cell_type": "code",
   "execution_count": null,
   "id": "0cd2cbdf-fa2f-486d-bff7-95c72f6716be",
   "metadata": {},
   "outputs": [],
   "source": [
    "import json"
   ]
  },
  {
   "cell_type": "code",
   "execution_count": null,
   "id": "36aa8086-49b6-45be-aac4-92e45e5ace99",
   "metadata": {},
   "outputs": [],
   "source": [
    "os.chdir('C:\\\\Users\\\\James\\\\Documents\\\\GitHub\\\\Doit_Python\\\\Data')\n",
    "os.getcwd()"
   ]
  },
  {
   "cell_type": "markdown",
   "id": "3f4391f7-601c-4f8a-8361-7b1236563d7b",
   "metadata": {},
   "source": [
    "### 1. 시군구 경계 지도 데이터 준비"
   ]
  },
  {
   "cell_type": "code",
   "execution_count": null,
   "id": "1962fd01-d8ff-41db-b3a6-1b8e3160f18c",
   "metadata": {},
   "outputs": [],
   "source": [
    "geo = json.load(open('SIG.geojson', encoding = 'UTF-8'))"
   ]
  },
  {
   "cell_type": "code",
   "execution_count": null,
   "id": "c502e23b-a7a8-408e-9650-78692e80f010",
   "metadata": {},
   "outputs": [],
   "source": [
    "# 행정 구역 코드 출력\n",
    "geo['features'][0]['properties']"
   ]
  },
  {
   "cell_type": "code",
   "execution_count": null,
   "id": "076c6f1d-8c13-401a-b210-8c1622aca2bc",
   "metadata": {},
   "outputs": [],
   "source": [
    "# 위도, 경도 좌표 출력\n",
    "geo['features'][0]['geometry']"
   ]
  },
  {
   "cell_type": "markdown",
   "id": "5648e705-d4f2-4f2d-bd41-9cf901df89a2",
   "metadata": {},
   "source": [
    "### 2. 시군구별 인구 데이터 준비"
   ]
  },
  {
   "cell_type": "code",
   "execution_count": null,
   "id": "7fe59c0a-789f-4d23-9596-cc4b86b392cc",
   "metadata": {},
   "outputs": [],
   "source": [
    "df_pop = pd.read_csv('Population_SIG.csv')\n",
    "df_pop.head()"
   ]
  },
  {
   "cell_type": "code",
   "execution_count": null,
   "id": "02f20278-428b-44fc-9977-a20f477ce276",
   "metadata": {},
   "outputs": [],
   "source": [
    "df_pop.info()"
   ]
  },
  {
   "cell_type": "code",
   "execution_count": null,
   "id": "1346ee07-a11c-433b-84b7-2cd86f135518",
   "metadata": {},
   "outputs": [],
   "source": [
    "df_pop.shape"
   ]
  },
  {
   "cell_type": "code",
   "execution_count": null,
   "id": "53ca86b6-0005-4442-bd6e-e4eca7eefb65",
   "metadata": {},
   "outputs": [],
   "source": [
    "# 행정 구역 코드의 타입을 int64 에서 문자 타입으로 변환해야 지도를 만들 수 있음\n",
    "df_pop['code'] = df_pop['code'].astype(str)"
   ]
  },
  {
   "cell_type": "code",
   "execution_count": null,
   "id": "c1704827-097b-42fe-8154-156bf16e072f",
   "metadata": {},
   "outputs": [],
   "source": [
    "df_pop.info()"
   ]
  },
  {
   "cell_type": "markdown",
   "id": "da092b93-b427-4cd9-acd2-47a9915bc13b",
   "metadata": {},
   "source": [
    "### 3. 단계 구분도 만들기"
   ]
  },
  {
   "cell_type": "code",
   "execution_count": null,
   "id": "ec0176eb-e4ad-4b28-8867-36c8eb9b6356",
   "metadata": {},
   "outputs": [],
   "source": [
    "# (cmd) pip install folium"
   ]
  },
  {
   "cell_type": "code",
   "execution_count": null,
   "id": "ddb73322-a70a-4a1f-9619-132f02fc354e",
   "metadata": {},
   "outputs": [],
   "source": [
    "import folium"
   ]
  },
  {
   "cell_type": "code",
   "execution_count": null,
   "id": "657fa4e4-faf0-426a-a81c-cbda12fba951",
   "metadata": {},
   "outputs": [],
   "source": [
    "# (1) 배경 지도 만들기\n",
    "folium.Map(location =  [35.95, 127.7],\n",
    "           zoom_start = 8)\n",
    "           #width = '80%',\n",
    "           #height = '80%')"
   ]
  },
  {
   "cell_type": "code",
   "execution_count": null,
   "id": "4184ceaf-07a8-4b20-98b0-03ccf38697d5",
   "metadata": {},
   "outputs": [],
   "source": [
    "map_sig = folium.Map(location = [35.95, 127.7],\n",
    "                     zoom_start = 8,\n",
    "                     tiles = 'cartodbpositron')\n",
    "map_sig"
   ]
  },
  {
   "cell_type": "code",
   "execution_count": null,
   "id": "0a86832f-2d94-4209-ae5d-2beeec6d0270",
   "metadata": {},
   "outputs": [],
   "source": [
    "folium.Choropleth(geo_data = geo,\n",
    "                  data = df_pop,\n",
    "                  columns = ('code', 'pop'),\n",
    "                  key_on = 'feature.properties.SIG_CD').add_to(map_sig);"
   ]
  },
  {
   "cell_type": "code",
   "execution_count": null,
   "id": "dddefea5-1836-4a04-b84e-72801bba4b97",
   "metadata": {},
   "outputs": [],
   "source": [
    "map_sig"
   ]
  },
  {
   "cell_type": "code",
   "execution_count": null,
   "id": "1d34ad6f-69e0-4126-b92e-b8738e59b191",
   "metadata": {},
   "outputs": [],
   "source": [
    "bins = list(df_pop['pop'].quantile([0, 0.2, 0.4, 0.6, 0.8, 1]))"
   ]
  },
  {
   "cell_type": "code",
   "execution_count": null,
   "id": "28384b81-d17a-4b6d-bcf6-6e87933f2b87",
   "metadata": {},
   "outputs": [],
   "source": [
    "bins"
   ]
  },
  {
   "cell_type": "code",
   "execution_count": null,
   "id": "c2b6be85-14c0-4639-8463-a7ae949c87a7",
   "metadata": {},
   "outputs": [],
   "source": [
    "map_sig = folium.Map(location = [35.95, 127.7],\n",
    "                     zoom_start = 8,\n",
    "                     tiles = 'cartodbpositron')"
   ]
  },
  {
   "cell_type": "code",
   "execution_count": null,
   "id": "94bed3c7-7f88-4d30-bd98-babc4b346f53",
   "metadata": {},
   "outputs": [],
   "source": [
    "folium.Choropleth(geo_data = geo,\n",
    "                  data = df_pop,\n",
    "                  columns = ('code', 'pop'),\n",
    "                  key_on = 'feature.properties.SIG_CD',\n",
    "                  fill_color = 'YlGnBu',\n",
    "                  fill_opacity = 1,\n",
    "                  line_opacity = 0.5,\n",
    "                  bins = bins).add_to(map_sig)"
   ]
  },
  {
   "cell_type": "code",
   "execution_count": null,
   "id": "469e4b51-6bc3-40f2-b5d0-0d294ebc3d62",
   "metadata": {},
   "outputs": [],
   "source": [
    "map_sig"
   ]
  },
  {
   "cell_type": "markdown",
   "id": "7f1de3ab-941a-4da9-98c2-198d884d3730",
   "metadata": {},
   "source": [
    "## 11-2. 서울시 동별 외국인 인구 단계 구분도 만들기"
   ]
  },
  {
   "cell_type": "code",
   "execution_count": null,
   "id": "3296a1b8-b77b-4689-a77b-cfe6935c8d4d",
   "metadata": {},
   "outputs": [],
   "source": [
    "# 1. 서울시 동 경계 지도 데이터 준비\n",
    "geo_seoul = json.load(open('EMD_Seoul.geojson', encoding = 'UTF-8'))"
   ]
  },
  {
   "cell_type": "code",
   "execution_count": null,
   "id": "615016c3-b669-46fd-9ae2-f13904ffad40",
   "metadata": {},
   "outputs": [],
   "source": [
    "# 행정 구역 코드 출력\n",
    "geo_seoul['features'][0]['properties']"
   ]
  },
  {
   "cell_type": "code",
   "execution_count": null,
   "id": "66dd24e3-3a05-4c4e-860e-3e97d0e6f6bb",
   "metadata": {},
   "outputs": [],
   "source": [
    "# 위도, 경도 좌표 출력\n",
    "geo_seoul['features'][0]['geometry']"
   ]
  },
  {
   "cell_type": "code",
   "execution_count": null,
   "id": "5f24dac2-50cd-4968-b58f-77efe68d99f4",
   "metadata": {},
   "outputs": [],
   "source": [
    "# 2. 서울시 동별 외국인 인구 데이터 준비\n",
    "foreigner = pd.read_csv('Foreigner_EMD_Seoul.csv')\n",
    "foreigner.head()"
   ]
  },
  {
   "cell_type": "code",
   "execution_count": null,
   "id": "f7e57390-54e2-46e6-aed2-d6e717f429e3",
   "metadata": {},
   "outputs": [],
   "source": [
    "foreigner.info()"
   ]
  },
  {
   "cell_type": "code",
   "execution_count": null,
   "id": "9536a729-f6bf-4710-9d43-750792455b97",
   "metadata": {},
   "outputs": [],
   "source": [
    "foreigner['code'] = foreigner['code'].astype(str)"
   ]
  },
  {
   "cell_type": "code",
   "execution_count": null,
   "id": "09e66c4e-17d8-43a1-ae95-88933e4549aa",
   "metadata": {},
   "outputs": [],
   "source": [
    "foreigner.info()"
   ]
  },
  {
   "cell_type": "code",
   "execution_count": null,
   "id": "e72835d3-494e-43ad-a6bb-b42b37bb69b1",
   "metadata": {},
   "outputs": [],
   "source": [
    "# 3. 단계 구분도 만들기\n",
    "bins = list(foreigner['pop'].quantile([0, 0.2, 0.4, 0.5, 0.6, 0.7, 0.8, 0.9, 1]))"
   ]
  },
  {
   "cell_type": "code",
   "execution_count": null,
   "id": "9b58c6db-7b20-47b3-8666-3469f5c55c2b",
   "metadata": {},
   "outputs": [],
   "source": [
    "bins"
   ]
  },
  {
   "cell_type": "code",
   "execution_count": null,
   "id": "c5e57f9f-d80c-4168-9d18-5eb292a5969a",
   "metadata": {},
   "outputs": [],
   "source": [
    "map_seoul = folium.Map(location = [37.56, 127],\n",
    "                       zoom_start = 11,\n",
    "                       tiles = 'cartodbpositron')"
   ]
  },
  {
   "cell_type": "code",
   "execution_count": null,
   "id": "9a455a48-b17b-4a87-a4eb-1c596ad3ea34",
   "metadata": {},
   "outputs": [],
   "source": [
    "folium.Choropleth(geo_data = geo_seoul,\n",
    "                  data = foreigner,\n",
    "                  columns = ('code', 'pop'),\n",
    "                  key_on = 'feature.properties.ADM_DR_CD',\n",
    "                  fill_color = 'Blues',\n",
    "                  nan_fill_color = 'White',\n",
    "                  fill_opacity = 1,\n",
    "                  line_opacity = 0.5,\n",
    "                  bins = bins).add_to(map_seoul)"
   ]
  },
  {
   "cell_type": "code",
   "execution_count": null,
   "id": "f7aee9e0-963e-48f3-989d-19e134805a44",
   "metadata": {},
   "outputs": [],
   "source": [
    "map_seoul"
   ]
  },
  {
   "cell_type": "code",
   "execution_count": null,
   "id": "b8905152-a626-4122-876f-8b668341cb1d",
   "metadata": {},
   "outputs": [],
   "source": [
    "# 4. 서울시 구 경계선 추가\n",
    "geo_seoul_sig = json.load(open('SIG_Seoul.geojson', encoding = 'UTF-8'))"
   ]
  },
  {
   "cell_type": "code",
   "execution_count": null,
   "id": "d0b4253a-2a75-4a85-8dce-f02bc260b246",
   "metadata": {},
   "outputs": [],
   "source": [
    "folium.Choropleth(geo_data = geo_seoul_sig,\n",
    "                  fill_opacity = 0,\n",
    "                  line_weight = 4).add_to(map_seoul)"
   ]
  },
  {
   "cell_type": "code",
   "execution_count": null,
   "id": "310a30dd-1fb6-441f-953d-c6b56e731a80",
   "metadata": {},
   "outputs": [],
   "source": [
    "map_seoul"
   ]
  },
  {
   "cell_type": "code",
   "execution_count": null,
   "id": "401fbdc2-fcfb-4d4e-bbe7-8b90d0905aff",
   "metadata": {},
   "outputs": [],
   "source": [
    "map_seoul.save('map_seoul.html')"
   ]
  },
  {
   "cell_type": "code",
   "execution_count": null,
   "id": "381de590-a96e-4c0a-bcfc-1127e7809356",
   "metadata": {},
   "outputs": [],
   "source": [
    "import webbrowser"
   ]
  },
  {
   "cell_type": "code",
   "execution_count": null,
   "id": "089ba3ac-4f96-473e-a1b5-3fa584d68229",
   "metadata": {},
   "outputs": [],
   "source": [
    "webbrowser.open_new('map_seoul.html')"
   ]
  },
  {
   "cell_type": "code",
   "execution_count": null,
   "id": "81a9b32e-3a06-4314-ad1c-24bef716bbb9",
   "metadata": {},
   "outputs": [],
   "source": []
  }
 ],
 "metadata": {
  "kernelspec": {
   "display_name": "Python 3 (ipykernel)",
   "language": "python",
   "name": "python3"
  },
  "language_info": {
   "codemirror_mode": {
    "name": "ipython",
    "version": 3
   },
   "file_extension": ".py",
   "mimetype": "text/x-python",
   "name": "python",
   "nbconvert_exporter": "python",
   "pygments_lexer": "ipython3",
   "version": "3.9.13"
  }
 },
 "nbformat": 4,
 "nbformat_minor": 5
}
