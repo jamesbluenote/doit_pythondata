{
 "cells": [
  {
   "cell_type": "markdown",
   "id": "4d23376a-4656-49ba-910e-24c842f5e95c",
   "metadata": {},
   "source": [
    "# Chapter 13. 마크다운으로 데이터 분석 보고서 만들기\n",
    "## 13-1. 신뢰할 수 있는 데이터 분석 보고서 만들기\n",
    "## 13-2. 마크다운 문서 만들기"
   ]
  },
  {
   "cell_type": "markdown",
   "id": "0465811d-cf65-4fe7-a1e4-60c75e399c04",
   "metadata": {},
   "source": [
    "*기울임체*"
   ]
  },
  {
   "cell_type": "markdown",
   "id": "8ab2d083-4a52-4bee-8692-89a96c05273e",
   "metadata": {},
   "source": [
    "**강조체**"
   ]
  },
  {
   "cell_type": "markdown",
   "id": "2677d0fe-cd8a-448d-a283-53f0063662ee",
   "metadata": {},
   "source": [
    "~~취소선~~"
   ]
  },
  {
   "cell_type": "markdown",
   "id": "fee9e2be-bf04-4759-995f-129071db9e79",
   "metadata": {},
   "source": [
    "[HTML](https://ko.wikipedia.org/wiki/HTML)"
   ]
  },
  {
   "cell_type": "markdown",
   "id": "6446d91f-f0b1-4124-b6ac-783f009ce10d",
   "metadata": {},
   "source": [
    "`import pandas as pd`"
   ]
  },
  {
   "cell_type": "markdown",
   "id": "10eebaf3-127a-4e9d-93eb-07f985358599",
   "metadata": {},
   "source": [
    "# 데이터 분석 보고서 만들기\n",
    "## 마크다운\n",
    "마크다운 문법으로 코드를 작성해 [HTML](https://ko.wikipedia.org/wiki/HTML)로 변환할 수 있습니다. \n",
    "마크다운을 이용하면 분석 과정과 결과를 자세하게 기술할 수 있어서 **재현 가능성**을 갖춘 *데이터 분석 보고서*를 만들 수 있습니다.\n",
    "\n",
    "### 마크다운 문법 예제\n",
    "코드와 코드 실행 결과물을 보고서에 함께 출력합니다."
   ]
  },
  {
   "cell_type": "code",
   "execution_count": 1,
   "id": "e322a6a1-d31a-49e9-87b3-394557c3fcd3",
   "metadata": {},
   "outputs": [
    {
     "data": {
      "text/plain": [
       "f    106\n",
       "4    103\n",
       "r     25\n",
       "Name: drv, dtype: int64"
      ]
     },
     "execution_count": 1,
     "metadata": {},
     "output_type": "execute_result"
    }
   ],
   "source": [
    "import pandas as pd\n",
    "import os\n",
    "\n",
    "os.chdir('C:\\\\Users\\\\James\\\\Documents\\\\GitHub\\\\Doit_Python\\\\Data')\n",
    "df = pd.read_csv('mpg.csv')\n",
    "df['drv'].value_counts()"
   ]
  },
  {
   "cell_type": "code",
   "execution_count": 2,
   "id": "c5c305a1-a42b-42bf-ac93-eb40758c1380",
   "metadata": {},
   "outputs": [
    {
     "data": {
      "image/png": "[encoded data removed]",
      "text/plain": [
       "<Figure size 640x480 with 1 Axes>"
      ]
     },
     "metadata": {},
     "output_type": "display_data"
    }
   ],
   "source": [
    "import seaborn as sns\n",
    "sns.countplot(data = df, x = 'drv');"
   ]
  },
  {
   "cell_type": "code",
   "execution_count": 3,
   "id": "5683a51b-4fa5-45d1-9df9-bc0121181ae6",
   "metadata": {},
   "outputs": [],
   "source": [
    "# 워드 파일로 저장하기\n",
    "# pandoc.org/installing.html에서 pandoc 설치 후 jupyterlab 재실행"
   ]
  },
  {
   "cell_type": "code",
   "execution_count": 7,
   "id": "4272d0aa-fde6-4f59-bd51-31f7f8dcb4cd",
   "metadata": {},
   "outputs": [],
   "source": [
    "os.chdir('C:\\\\Users\\\\James\\\\Documents\\\\GitHub\\\\Doit_Python')"
   ]
  },
  {
   "cell_type": "code",
   "execution_count": 8,
   "id": "632997b5-0123-49c6-804a-3f6a39091ee9",
   "metadata": {},
   "outputs": [],
   "source": [
    "!pandoc Doit_python_ch-13.ipynb -s -o report.docx"
   ]
  },
  {
   "cell_type": "code",
   "execution_count": null,
   "id": "ba9dc694-7491-4c49-934b-4f0844c51d89",
   "metadata": {},
   "outputs": [],
   "source": []
  }
 ],
 "metadata": {
  "kernelspec": {
   "display_name": "Python 3 (ipykernel)",
   "language": "python",
   "name": "python3"
  },
  "language_info": {
   "codemirror_mode": {
    "name": "ipython",
    "version": 3
   },
   "file_extension": ".py",
   "mimetype": "text/x-python",
   "name": "python",
   "nbconvert_exporter": "python",
   "pygments_lexer": "ipython3",
   "version": "3.9.13"
  }
 },
 "nbformat": 4,
 "nbformat_minor": 5
}
